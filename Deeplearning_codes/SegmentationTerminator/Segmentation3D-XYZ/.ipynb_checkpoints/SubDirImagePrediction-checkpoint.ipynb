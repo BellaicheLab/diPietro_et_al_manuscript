{
 "cells": [
  {
   "cell_type": "code",
   "execution_count": null,
   "metadata": {},
   "outputs": [],
   "source": [
    "from __future__ import print_function, unicode_literals, absolute_import, division\n",
    "import numpy as np\n",
    "import matplotlib.pyplot as plt\n",
    "%matplotlib inline\n",
    "%config InlineBackend.figure_format = 'retina'\n",
    "sys.path.append('../TermintorUtils/')\n",
    "from glob import glob\n",
    "from tifffile import imread\n",
    "from csbdeep.utils import Path, normalize\n",
    "from csbdeep.io import save_tiff_imagej_compatible\n",
    "from stardist import random_label_cmap, _draw_polygons\n",
    "from stardist.models import StarDist3D\n",
    "from TerminatorUtils.helpers import normalizeFloat\n",
    "np.random.seed(6)\n",
    "lbl_cmap = random_label_cmap()"
   ]
  },
  {
   "cell_type": "code",
   "execution_count": null,
   "metadata": {},
   "outputs": [],
   "source": [
    "#Specify the location and name of the npz file for training and validation data\n",
    "masterdirLow = '/data/u934/service_imagerie/v_kapoor/FlorisWings/SubDir3DTest/'\n",
    "subdir = next(os.walk(masterdirLow))\n",
    "\n",
    "\n",
    "\n",
    "#Read and Write the h5 file, directory location and name\n",
    "ModelName = 'StardistFloris3D'\n",
    "BaseDir = '/data/u934/service_imagerie/v_kapoor/CurieDeepLearningModels/FlorisWings/'"
   ]
  },
  {
   "cell_type": "code",
   "execution_count": null,
   "metadata": {},
   "outputs": [],
   "source": [
    "model = StarDist3D(config = None, name = ModelName, basedir = BaseDir)\n",
    "axes = 'ZXY'\n",
    "\n",
    "\n",
    "for x in subdir[1]:\n",
    "    currentdir = masterdirLow + x\n",
    "    print(currentdir)\n",
    "    basedirResults3D = currentdir + '/Results/'\n",
    "    Path(basedirResults3D).mkdir(exist_ok = True)\n",
    "    Raw_path = os.path.join(currentdir, '*tif')\n",
    "    filesRaw = glob.glob(Raw_path)\n",
    "    for fname in filesRaw:\n",
    " \n",
    "        y = imread(fname)\n",
    "      \n",
    "        print('Saving file' +  basedirResults3D + '%s_' + os.path.basename(fname))\n",
    "        y = normalizeFloat(y,1,99.8) \n",
    "        segmentationImage, details = model.predict_instances(y)\n",
    "        save_tiff_imagej_compatible((basedirResults3D + '%s_' + os.path.basename(fname)) % model.name, segmentationImage, axes)\n",
    "\n",
    "        \n",
    "    "
   ]
  }
 ],
 "metadata": {
  "kernelspec": {
   "display_name": "Python (myenv)",
   "language": "python",
   "name": "myenv"
  },
  "language_info": {
   "codemirror_mode": {
    "name": "ipython",
    "version": 3
   },
   "file_extension": ".py",
   "mimetype": "text/x-python",
   "name": "python",
   "nbconvert_exporter": "python",
   "pygments_lexer": "ipython3",
   "version": "3.5.6"
  },
  "toc": {
   "base_numbering": 1,
   "nav_menu": {},
   "number_sections": false,
   "sideBar": false,
   "skip_h1_title": false,
   "title_cell": "Table of Contents",
   "title_sidebar": "Contents",
   "toc_cell": false,
   "toc_position": {},
   "toc_section_display": false,
   "toc_window_display": false
  }
 },
 "nbformat": 4,
 "nbformat_minor": 2
}
