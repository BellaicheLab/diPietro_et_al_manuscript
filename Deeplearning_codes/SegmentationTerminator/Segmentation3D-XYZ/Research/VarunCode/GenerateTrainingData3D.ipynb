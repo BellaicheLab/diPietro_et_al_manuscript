{
 "cells": [
  {
   "cell_type": "code",
   "execution_count": null,
   "metadata": {},
   "outputs": [],
   "source": [
    "from __future__ import print_function, unicode_literals, absolute_import, division\n",
    "import numpy as np\n",
    "import matplotlib.pyplot as plt\n",
    "%matplotlib inline\n",
    "%config InlineBackend.figure_format = 'retina'\n",
    "\n",
    "from glob import glob\n",
    "from tqdm import tqdm\n",
    "from tifffile import imread\n",
    "from csbdeep.utils import Path, download_and_extract_zip_file\n",
    "\n",
    "from stardist import fill_label_holes, relabel_image_stardist, random_label_cmap\n",
    "from stardist.matching import matching_dataset\n",
    "from Terminator import npzfileGenerator"
   ]
  },
  {
   "cell_type": "code",
   "execution_count": null,
   "metadata": {},
   "outputs": [],
   "source": [
    "#Generate Training Data\n",
    "ImageDirectory = '/data/u934/service_imagerie/v_kapoor/OzEmbryos/images/'\n",
    "LabelDirectory = '/data/u934/service_imagerie/v_kapoor/OzEmbryos/masks/'\n",
    "\n",
    "\n",
    "SaveNpzDirectory = '/data/u934/service_imagerie/v_kapoor/CurieTrainingDatasets/OzEmbryos/'\n",
    "SaveName = 'StardistOzEmbryoModel'\n",
    "SaveNameVal = 'StardistOzEmbryoModelValidation'\n",
    "\n",
    "displaynumber = 2\n",
    "displayZslice = 2\n",
    "npzfileGenerator.generate_3D_training_data(ImageDirectory, LabelDirectory,SaveNpzDirectory, SaveFourDetectName, SaveFourDetectNameVal,display = displaynumber, displayZ = displayZslice)\n"
   ]
  }
 ],
 "metadata": {
  "kernelspec": {
   "display_name": "Python 3",
   "language": "python",
   "name": "python3"
  },
  "language_info": {
   "codemirror_mode": {
    "name": "ipython",
    "version": 3
   },
   "file_extension": ".py",
   "mimetype": "text/x-python",
   "name": "python",
   "nbconvert_exporter": "python",
   "pygments_lexer": "ipython3",
   "version": "3.6.10"
  },
  "toc": {
   "base_numbering": 1,
   "nav_menu": {},
   "number_sections": false,
   "sideBar": false,
   "skip_h1_title": false,
   "title_cell": "Table of Contents",
   "title_sidebar": "Contents",
   "toc_cell": false,
   "toc_position": {},
   "toc_section_display": false,
   "toc_window_display": false
  }
 },
 "nbformat": 4,
 "nbformat_minor": 4
}
