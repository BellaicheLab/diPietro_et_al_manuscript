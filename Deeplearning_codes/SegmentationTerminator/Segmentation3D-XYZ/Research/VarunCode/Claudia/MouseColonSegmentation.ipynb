{
 "cells": [
  {
   "cell_type": "markdown",
   "metadata": {},
   "source": [
    "# First we load the Data science bowl dataset of Kaggle and train it using N ray startdist suitable for small size florescent cells"
   ]
  },
  {
   "cell_type": "code",
   "execution_count": 1,
   "metadata": {},
   "outputs": [
    {
     "name": "stderr",
     "output_type": "stream",
     "text": [
      "Using TensorFlow backend.\n"
     ]
    }
   ],
   "source": [
    "import os\n",
    "os.environ[\"CUDA_VISIBLE_DEVICES\"]=\"2\"\n",
    "import glob\n",
    "import sys\n",
    "sys.path.append('../../Terminator/')\n",
    "import glob\n",
    "from TerminatorUtils.LoadKaggle import MembraneTraining\n",
    "from tifffile import imread\n",
    "os.environ[\"HDF5_USE_FILE_LOCKING\"] = \"FALSE\""
   ]
  },
  {
   "cell_type": "code",
   "execution_count": null,
   "metadata": {},
   "outputs": [],
   "source": []
  },
  {
   "cell_type": "code",
   "execution_count": 2,
   "metadata": {},
   "outputs": [],
   "source": [
    "MouseColon_dir = '/data/u934/service_imagerie/v_kapoor/CurieTrainingDatasets/MouseColon/'\n",
    "NPZ_dir = '/data/u934/service_imagerie/v_kapoor/CurieTrainingDatasets/'\n",
    "NPZ_filename = 'MouseColon.npz'\n",
    "MouseColon_Model_dir = '/data/u934/service_imagerie/v_kapoor/CurieDeepLearningModels/KaggleDSB/'\n",
    "MouseColon_Model_name = 'MouseColonRay64ds1'"
   ]
  },
  {
   "cell_type": "code",
   "execution_count": 3,
   "metadata": {},
   "outputs": [],
   "source": [
    "#Network training parameters\n",
    "Rays = 64\n",
    "NetworkDepth = 3\n",
    "Epochs = 100\n",
    "LearningRate = 1.0E-4\n",
    "batch_size = 4\n",
    "PatchX = 512\n",
    "PatchY = 512\n",
    "PatchZ = 16\n",
    "Kernel = 7"
   ]
  },
  {
   "cell_type": "markdown",
   "metadata": {},
   "source": [
    "# Do stardist training for the DSB dataset"
   ]
  },
  {
   "cell_type": "code",
   "execution_count": null,
   "metadata": {
    "scrolled": false
   },
   "outputs": [
    {
     "name": "stdout",
     "output_type": "stream",
     "text": [
      "loading images\n",
      "loading denoised\n",
      "(60, 129, 1030, 1300)\n"
     ]
    },
    {
     "name": "stderr",
     "output_type": "stream",
     "text": [
      "100%|██████████| 60/60 [08:47<00:00,  8.80s/it]\n",
      " 77%|███████▋  | 46/60 [18:52<10:16, 44.02s/it]"
     ]
    }
   ],
   "source": [
    "MembraneTraining(MouseColon_dir, NPZ_dir, NPZ_filename, MouseColon_Model_name, MouseColon_Model_dir, PatchX=PatchX, PatchY=PatchY, PatchZ = PatchZ, use_gpu = True, batch_size = batch_size, depth = NetworkDepth, kern_size = Kernel, n_rays = Rays, epochs = Epochs, learning_rate = LearningRate)\n",
    "     "
   ]
  },
  {
   "cell_type": "code",
   "execution_count": null,
   "metadata": {},
   "outputs": [],
   "source": [
    "load_path = NPZ_dir + NPZ_filename \n",
    "\n",
    "(X,Y), (X_val,Y_val), axes = load_training_data(load_path, validation_split=0.1, verbose=True)\n",
    "c = axes_dict(axes)['C']\n",
    "n_channel_in, n_channel_out = X.shape[c], Y.shape[c]\n",
    "\n",
    "config = Config(axes, n_channel_in, n_channel_out, unet_n_depth= NetworkDepth,train_epochs= Epochs, train_batch_size = batch_size, unet_kern_size = Kernel, train_learning_rate = LearningRate, train_reduce_lr={'patience': 5, 'factor': 0.5})\n",
    "print(config)\n",
    "vars(config)\n"
   ]
  },
  {
   "cell_type": "code",
   "execution_count": null,
   "metadata": {},
   "outputs": [],
   "source": [
    "model = CARE(config = None, name = UNETMouseColon_Model_name, basedir = MouseColon_Model_dir)\n",
    "history = model.train(X,Y, validation_data=(X_val,Y_val))\n",
    "model.export_TF()"
   ]
  },
  {
   "cell_type": "code",
   "execution_count": null,
   "metadata": {},
   "outputs": [],
   "source": []
  }
 ],
 "metadata": {
  "kernelspec": {
   "display_name": "Python 3",
   "language": "python",
   "name": "python3"
  },
  "language_info": {
   "codemirror_mode": {
    "name": "ipython",
    "version": 3
   },
   "file_extension": ".py",
   "mimetype": "text/x-python",
   "name": "python",
   "nbconvert_exporter": "python",
   "pygments_lexer": "ipython3",
   "version": "3.6.10"
  }
 },
 "nbformat": 4,
 "nbformat_minor": 2
}
