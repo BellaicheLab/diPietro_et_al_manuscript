{
 "cells": [
  {
   "cell_type": "code",
   "execution_count": null,
   "metadata": {},
   "outputs": [],
   "source": [
    "import os\n",
    "os.environ[\"CUDA_VISIBLE_DEVICES\"]=\"2\"\n",
    "import glob\n",
    "import sys\n",
    "sys.path.append('../../Terminator/')\n",
    "import glob\n",
    "from stardist.models import StarDist2D\n",
    "from TerminatorUtils.LoadKaggle import StarDistKaggle, SliceTraining\n",
    "from tifffile import imread\n",
    "os.environ[\"HDF5_USE_FILE_LOCKING\"] = \"FALSE\""
   ]
  },
  {
   "cell_type": "code",
   "execution_count": null,
   "metadata": {},
   "outputs": [],
   "source": [
    "DSB_dir = '/content/drive/My Drive/BTrack/TrainingData/KaggleDSB/'\n",
    "NPZ_dir = '/content/drive/My Drive/BTrack/TrainingData/'\n",
    "DSBNPZ_filename = 'DSB_florescent.npz'\n",
    "\n",
    "DSB_Model_dir = '/content/drive/My Drive/BTrack/SegmentationModel/'\n",
    "DSB_Model_name = 'DSBRay128ds1'\n",
    "\n",
    "MouseColon_dir = '/content/drive/My Drive/BTrack/'\n",
    "\n",
    "\n",
    "NPZ_filename = 'TwoDGreen.npz'\n",
    "MouseColon_Model_dir = '/content/drive/My Drive/BTrack/SegmentationModel/'\n",
    "MouseColon_Model_name = 'GreenCellSlice'"
   ]
  },
  {
   "cell_type": "code",
   "execution_count": null,
   "metadata": {},
   "outputs": [],
   "source": [
    "#Network training parameters\n",
    "Rays = 128\n",
    "NetworkDepth = 5\n",
    "Epochs = 100\n",
    "LearningRate = 1.0E-4\n",
    "batch_size = 4\n",
    "PatchX = 512\n",
    "PatchY = 512\n",
    "\n",
    "Kernel = 7"
   ]
  },
  {
   "cell_type": "code",
   "execution_count": null,
   "metadata": {},
   "outputs": [],
   "source": [
    "StarDistKaggle(DSB_dir,NPZ_dir, DSBNPZ_filename, DSB_Model_name, DSB_Model_dir, use_gpu = True,batch_size = batch_size, unet_n_depth = NetworkDepth, n_rays = Rays, epochs = Epochs, learning_rate = LearningRate )\n",
    "\n",
    "weights = DSB_Model_dir + DSB_Model_name  + '/' + 'weights_now.h5'\n",
    "\n",
    "SliceTraining(MouseColon_dir, NPZ_dir, TwoDNPZ_filename, TwoDMouseColon_Model_name, MouseColon_Model_dir,weights = weights, PatchX=PatchX, PatchY=PatchY, use_gpu = True, batch_size = batch_size, depth = NetworkDepth, kern_size = Kernel, n_rays = Rays, epochs = Epochs, learning_rate = LearningRate)\n",
    "     "
   ]
  },
  {
   "cell_type": "code",
   "execution_count": null,
   "metadata": {},
   "outputs": [],
   "source": [
    "load_path = NPZ_dir + DSBNPZ_filename\n",
    "\n",
    "(X,Y), (X_val,Y_val), axes = load_training_data(load_path, validation_split=0.1, verbose=True)\n",
    "c = axes_dict(axes)['C']\n",
    "n_channel_in, n_channel_out = X.shape[c], Y.shape[c]\n",
    "\n",
    "config = Config(axes, n_channel_in, n_channel_out, unet_n_depth= NetworkDepth,train_epochs= Epochs, train_batch_size = batch_size, unet_kern_size = Kernel, train_learning_rate = LearningRate, train_reduce_lr={'patience': 5, 'factor': 0.5})\n",
    "print(config)\n",
    "vars(config)\n",
    "\n",
    "modelDSB = CARE(config, name = 'UNET' + DSB_Model_name, basedir = MouseColon_Model_dir)\n",
    "history = modelDSB.train(X,Y, validation_data=(X_val,Y_val))\n",
    "model.export_TF()\n",
    "\n",
    "\n",
    "weights = DSB_Model_dir + DSB_Model_name  + '/' + 'weights_now.h5'\n",
    "\n",
    "load_path = NPZ_dir + NPZ_filename\n",
    "\n",
    "(X,Y), (X_val,Y_val), axes = load_training_data(load_path, validation_split=0.1, verbose=True)\n",
    "c = axes_dict(axes)['C']\n",
    "n_channel_in, n_channel_out = X.shape[c], Y.shape[c]\n",
    "\n",
    "config = Config(axes, n_channel_in, n_channel_out, unet_n_depth= NetworkDepth,train_epochs= Epochs, train_batch_size = batch_size, unet_kern_size = Kernel, train_learning_rate = LearningRate, train_reduce_lr={'patience': 5, 'factor': 0.5})\n",
    "\n",
    "model = CARE(config, name = 'UNET' + MouseColon_Model_name, basedir = MouseColon_Model_dir)\n",
    "\n",
    "model.load_weights(weights)\n",
    "history = model.train(X,Y, validation_data=(X_val,Y_val))\n",
    "model.export_TF()"
   ]
  }
 ],
 "metadata": {
  "kernelspec": {
   "display_name": "Python [conda env:tensorflowGPU] *",
   "language": "python",
   "name": "conda-env-tensorflowGPU-py"
  },
  "language_info": {
   "codemirror_mode": {
    "name": "ipython",
    "version": 3
   },
   "file_extension": ".py",
   "mimetype": "text/x-python",
   "name": "python",
   "nbconvert_exporter": "python",
   "pygments_lexer": "ipython3",
   "version": "3.6.10"
  }
 },
 "nbformat": 4,
 "nbformat_minor": 2
}
