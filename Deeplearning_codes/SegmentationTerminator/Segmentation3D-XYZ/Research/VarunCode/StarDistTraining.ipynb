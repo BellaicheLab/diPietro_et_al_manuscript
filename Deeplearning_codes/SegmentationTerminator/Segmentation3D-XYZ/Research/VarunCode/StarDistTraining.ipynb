{
 "cells": [
  {
   "cell_type": "code",
   "execution_count": null,
   "metadata": {},
   "outputs": [],
   "source": [
    "from __future__ import print_function, unicode_literals, absolute_import, division\n",
    "import sys\n",
    "import numpy as np\n",
    "sys.path.append('../TermintorUtils/')\n",
    "import matplotlib.pyplot as plt\n",
    "%matplotlib inline\n",
    "%config InlineBackend.figure_format = 'retina'\n",
    "from csbdeep.utils import Path, normalize\n",
    "from TerminatorUtils import StarDistDetection3D\n",
    "np.random.seed(42)\n",
    "lbl_cmap = random_label_cmap()"
   ]
  },
  {
   "cell_type": "code",
   "execution_count": null,
   "metadata": {},
   "outputs": [],
   "source": [
    "#Specify the location and name of the npz file for training and validation data\n",
    "NpzDirectory = '/data/u934/service_imagerie/v_kapoor/CurieTrainingDatasets/FlorisWings/'\n",
    "TrainModelName = 'Floris3DWingsModel.npz'\n",
    "ValidationModelName = 'Floria3DWingsModelValidation.npz'\n",
    "\n",
    "#Read and Write the h5 file, directory location and name\n",
    "Model_dir = '/data/u934/service_imagerie/v_kapoor/CurieDeepLearningModels/FlorisWings/'\n",
    "Model_Name = 'StardistFloris3D.h5'"
   ]
  },
  {
   "cell_type": "code",
   "execution_count": null,
   "metadata": {},
   "outputs": [],
   "source": [
    "global Trainingmodel\n",
    "#Initate training of the model\n",
    "Trainingmodel = StarDistDetection3D(NpzDirectory, TrainModelName, ValidationModelName, Model_dir, Model_Name)"
   ]
  }
 ],
 "metadata": {
  "kernelspec": {
   "display_name": "Python 3",
   "language": "python",
   "name": "python3"
  },
  "language_info": {
   "codemirror_mode": {
    "name": "ipython",
    "version": 3
   },
   "file_extension": ".py",
   "mimetype": "text/x-python",
   "name": "python",
   "nbconvert_exporter": "python",
   "pygments_lexer": "ipython3",
   "version": "3.6.10"
  },
  "toc": {
   "base_numbering": 1,
   "nav_menu": {},
   "number_sections": false,
   "sideBar": false,
   "skip_h1_title": false,
   "title_cell": "Table of Contents",
   "title_sidebar": "Contents",
   "toc_cell": false,
   "toc_position": {},
   "toc_section_display": false,
   "toc_window_display": false
  }
 },
 "nbformat": 4,
 "nbformat_minor": 4
}
