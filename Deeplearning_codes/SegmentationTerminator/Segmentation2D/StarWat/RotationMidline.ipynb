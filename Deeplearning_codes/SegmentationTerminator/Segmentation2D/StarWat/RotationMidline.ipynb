{
 "cells": [
  {
   "cell_type": "markdown",
   "metadata": {},
   "source": [
    "## Code to rotate the image before Deep Learning Segmentation prediction and MATLAB Analysis ##\n",
    "\n",
    "In order to run the Guirao Pipeline (https://doi.org/10.7554/eLife.08519.026), the Raw images and the Segmented ones must have a midline with no angle. It is easier to rotate the image to have a midline with no angle before performing the segmentation than rotated a segmented image, because of the binarity of the image and the thinness of the lines.   \n",
    "\n"
   ]
  },
  {
   "cell_type": "markdown",
   "metadata": {},
   "source": [
    "Infos: The movie has to be rotated before Mask_Generator processing. Also, it is better to do the normalization (equalize histogramm) after the rotation than before! This because of the interpolation done during rotation, that was partially learned during Mask_Generator training."
   ]
  },
  {
   "cell_type": "markdown",
   "metadata": {},
   "source": [
    "### Movie 1 ####"
   ]
  },
  {
   "cell_type": "markdown",
   "metadata": {},
   "source": [
    "First we import all we need. Note that a Terminator folder containing functions that we need must be located in a grandparent folder because of `sys.path.append(\"../../Terminator\")sys.path.append(\"../../Terminator\")`. "
   ]
  },
  {
   "cell_type": "markdown",
   "metadata": {},
   "source": [
    "Then we create a folder (`basedirresult`) were the rotated images will be stored if the folder doesn't exist yet. We then list all the files with the given file extension (* *choose extenstion*) in the `basedir` folder."
   ]
  },
  {
   "cell_type": "markdown",
   "metadata": {},
   "source": [
    "After defining the angle of rotation (`angle`), the rotation is performed on all listed images."
   ]
  },
  {
   "cell_type": "code",
   "execution_count": 4,
   "metadata": {},
   "outputs": [],
   "source": [
    "import scipy\n",
    "import os \n",
    "import glob \n",
    "import sys\n",
    "sys.path.append('../../Terminator/')\n",
    "from TerminatorUtils.helpers import save_8bit_tiff_imagej_compatible\n",
    "from TerminatorUtils.helpers import save_tiff_imagej_compatible\n",
    "from tifffile import imread\n",
    "from csbdeep.utils import Path, normalize\n",
    "\n",
    "basedir = '/run/user/1000/gvfs/smb-share:server=isiserver.curie.net,share=u934/equipe_bellaiche/m_gracia/20210130_compression/pupe4/Projected'\n",
    "basedirresult = basedir + '/Rotated/'\n",
    "Raw_path = os.path.join(basedir, '*.TIF') #tif or TIF be careful\n",
    "filesRaw = glob.glob(Raw_path)\n",
    "Path(basedirresult).mkdir(exist_ok = True)\n",
    "\n",
    "axes = 'YX'\n",
    "\n",
    "angle = -81\n",
    "\n",
    "for fname in filesRaw:\n",
    "    \n",
    "    if os.path.exists((basedirresult + '' + os.path.basename(os.path.splitext(fname)[0])) + '.tif') == False :\n",
    "        \n",
    "        x = imread(fname)\n",
    "        y = scipy.ndimage.interpolation.rotate(x, angle, reshape = False)\n",
    "        save_tiff_imagej_compatible((basedirresult + '' + os.path.basename(os.path.splitext(fname)[0]) + '.tif') ,y,axes)\n"
   ]
  },
  {
   "cell_type": "markdown",
   "metadata": {},
   "source": [
    "### Movie 2 ####"
   ]
  },
  {
   "cell_type": "code",
   "execution_count": 2,
   "metadata": {},
   "outputs": [],
   "source": [
    "import scipy\n",
    "import os \n",
    "import glob \n",
    "import sys\n",
    "sys.path.append('../../Terminator/')\n",
    "from TerminatorUtils.helpers import save_8bit_tiff_imagej_compatible\n",
    "from TerminatorUtils.helpers import save_tiff_imagej_compatible\n",
    "from tifffile import imread\n",
    "from csbdeep.utils import Path, normalize\n",
    "\n",
    "basedir = '/run/user/1000/gvfs/smb-share:server=isiserver.curie.net,share=u934/equipe_bellaiche/m_balakireva/Maria_Movie2Lucas/Nts11/210105_Nts_cadGfp_mov11'\n",
    "basedirresult = basedir + '/Rotated/'\n",
    "Raw_path = os.path.join(basedir, '*tif') #tif or TIF be careful\n",
    "filesRaw = glob.glob(Raw_path)\n",
    "Path(basedirresult).mkdir(exist_ok = True)\n",
    "\n",
    "axes = 'YX'\n",
    "\n",
    "angle = -19\n",
    "\n",
    "for fname in filesRaw:\n",
    "    \n",
    "    if os.path.exists((basedirresult + '' + os.path.basename(os.path.splitext(fname)[0])) + '.tif') == False :\n",
    "        \n",
    "        x = imread(fname)\n",
    "        y = scipy.ndimage.interpolation.rotate(x, angle, reshape = False)\n",
    "        save_tiff_imagej_compatible((basedirresult + '' + os.path.basename(os.path.splitext(fname)[0]) + '.tif') ,y,axes)\n"
   ]
  },
  {
   "cell_type": "markdown",
   "metadata": {},
   "source": [
    "### Movie 3 ####"
   ]
  },
  {
   "cell_type": "code",
   "execution_count": 3,
   "metadata": {},
   "outputs": [],
   "source": [
    "import scipy\n",
    "import os \n",
    "import glob \n",
    "import sys\n",
    "sys.path.append('../../Terminator/')\n",
    "from TerminatorUtils.helpers import save_8bit_tiff_imagej_compatible\n",
    "from TerminatorUtils.helpers import save_tiff_imagej_compatible\n",
    "from tifffile import imread\n",
    "from csbdeep.utils import Path, normalize\n",
    "\n",
    "basedir = '/run/user/1000/gvfs/smb-share:server=isiserver.curie.net,share=u934/equipe_bellaiche/m_balakireva/Maria_Movie2Lucas/contN2a/201222_contN2a_cadGfp_mov10'\n",
    "basedirresult = basedir + '/Rotated/'\n",
    "Raw_path = os.path.join(basedir, '*tif') #tif or TIF be careful\n",
    "filesRaw = glob.glob(Raw_path)\n",
    "Path(basedirresult).mkdir(exist_ok = True)\n",
    "\n",
    "axes = 'YX'\n",
    "\n",
    "angle = 5\n",
    "\n",
    "for fname in filesRaw:\n",
    "    \n",
    "    if os.path.exists((basedirresult + '' + os.path.basename(os.path.splitext(fname)[0])) + '.tif') == False :\n",
    "        \n",
    "        x = imread(fname)\n",
    "        y = scipy.ndimage.interpolation.rotate(x, angle, reshape = False)\n",
    "        save_tiff_imagej_compatible((basedirresult + '' + os.path.basename(os.path.splitext(fname)[0]) + '.tif') ,y,axes)\n"
   ]
  },
  {
   "cell_type": "markdown",
   "metadata": {},
   "source": [
    "### Movie 4 ####"
   ]
  },
  {
   "cell_type": "markdown",
   "metadata": {},
   "source": [
    "### Movie 5 ####"
   ]
  },
  {
   "cell_type": "markdown",
   "metadata": {},
   "source": [
    "### Movie 6 ####"
   ]
  },
  {
   "cell_type": "markdown",
   "metadata": {},
   "source": [
    "### Movie N ####"
   ]
  },
  {
   "cell_type": "code",
   "execution_count": null,
   "metadata": {},
   "outputs": [],
   "source": []
  }
 ],
 "metadata": {
  "kernelspec": {
   "display_name": "Python 3",
   "language": "python",
   "name": "python3"
  },
  "language_info": {
   "codemirror_mode": {
    "name": "ipython",
    "version": 3
   },
   "file_extension": ".py",
   "mimetype": "text/x-python",
   "name": "python",
   "nbconvert_exporter": "python",
   "pygments_lexer": "ipython3",
   "version": "3.6.10"
  }
 },
 "nbformat": 4,
 "nbformat_minor": 4
}
