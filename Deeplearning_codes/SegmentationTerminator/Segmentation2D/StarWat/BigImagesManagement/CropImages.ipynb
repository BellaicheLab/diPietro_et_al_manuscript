{
 "cells": [
  {
   "cell_type": "code",
   "execution_count": 13,
   "metadata": {},
   "outputs": [],
   "source": [
    "import os\n",
    "import glob\n",
    "from tifffile import imread\n",
    "import sys\n",
    "sys.path.append(\"../../Terminator\")\n",
    "from TerminatorUtils.helpers import save_tiff_imagej_compatible, MakeLabels,save_8bit_tiff_imagej_compatible\n",
    "import imageio\n",
    "from skimage.measure import label\n",
    "import matplotlib.pyplot as plt\n",
    "try:\n",
    "    from pathlib import Path\n",
    "    Path().expanduser()\n",
    "except (ImportError, AttributeError):\n",
    "        from pathlib2 import Path\n",
    "\n",
    "try:\n",
    "        import tempfile\n",
    "        tempfile.TemporaryDirectory\n",
    "except (ImportError, AttributeError):\n",
    "       from backports import tempfile"
   ]
  },
  {
   "cell_type": "code",
   "execution_count": 20,
   "metadata": {},
   "outputs": [],
   "source": [
    "Rawdir = '/run/user/1001/gvfs/smb-share:server=isiserver.curie.net,share=u934/equipe_bellaiche/l_sancere/Training_Data_Sets/Training_Stardist/Generating_Data/Raw160Crop2/'\n",
    "Segmenteddir = '/run/user/1001/gvfs/smb-share:server=isiserver.curie.net,share=u934/equipe_bellaiche/l_sancere/Training_Data_Sets/Training_Stardist/Generating_Data/Segmented160Crop2/'\n",
    "\n",
    "CropRawdir = '/run/user/1001/gvfs/smb-share:server=isiserver.curie.net,share=u934/equipe_bellaiche/l_sancere/Training_Data_Sets/Training_Stardist/Generating_Data/CropRaw/'\n",
    "CropSegmenteddir = '/run/user/1001/gvfs/smb-share:server=isiserver.curie.net,share=u934/equipe_bellaiche/l_sancere/Training_Data_Sets/Training_Stardist/Generating_Data/CropSegmented/'\n",
    "\n",
    "Path(CropRawdir).mkdir(exist_ok = True)\n",
    "Path(CropSegmenteddir).mkdir(exist_ok = True)\n",
    "\n",
    "axes = 'YX'"
   ]
  },
  {
   "cell_type": "code",
   "execution_count": 21,
   "metadata": {},
   "outputs": [],
   "source": [
    "Raw_path = os.path.join(Rawdir, '*tif')\n",
    "X = glob.glob(Raw_path)\n",
    "\n",
    "Raw_path = os.path.join(Segmenteddir, '*tif')\n",
    "Y = glob.glob(Raw_path)\n",
    "\n",
    "\n",
    "# Box coordinates  Y, X \n",
    "Start = [159,1308]\n",
    "End = [1953,4230]\n",
    "\n",
    "\n",
    "\n",
    "for fname in X:\n",
    "    \n",
    "    image = imread(fname)\n",
    "    cropimage = image[Start[0]: End[0], Start[1]:End[1]]\n",
    "    Name = os.path.basename(os.path.splitext(fname)[0])\n",
    "    save_tiff_imagej_compatible((CropRawdir  + Name + '.tif' ) , cropimage, axes)\n",
    "    \n",
    "for fname in Y:\n",
    "    \n",
    "    image = imread(fname)\n",
    "    cropimage = image[Start[0]: End[0], Start[1]:End[1]]\n",
    "    Name = os.path.basename(os.path.splitext(fname)[0])\n",
    "    save_8bit_tiff_imagej_compatible((CropSegmenteddir  + Name + '.tif' ) , cropimage, axes)\n",
    "        \n",
    "    "
   ]
  }
 ],
 "metadata": {
  "kernelspec": {
   "display_name": "Python 3",
   "language": "python",
   "name": "python3"
  },
  "language_info": {
   "codemirror_mode": {
    "name": "ipython",
    "version": 3
   },
   "file_extension": ".py",
   "mimetype": "text/x-python",
   "name": "python",
   "nbconvert_exporter": "python",
   "pygments_lexer": "ipython3",
   "version": "3.6.10"
  }
 },
 "nbformat": 4,
 "nbformat_minor": 4
}
