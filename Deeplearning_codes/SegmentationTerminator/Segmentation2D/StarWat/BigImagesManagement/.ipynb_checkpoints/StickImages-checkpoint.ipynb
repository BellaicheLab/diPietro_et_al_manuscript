{
 "cells": [
  {
   "cell_type": "code",
   "execution_count": 1,
   "metadata": {},
   "outputs": [],
   "source": [
    "import os\n",
    "import cv2\n",
    "import numpy as np\n",
    "import png\n",
    "import glob\n",
    "from skimage.morphology import skeletonize"
   ]
  },
  {
   "cell_type": "code",
   "execution_count": 2,
   "metadata": {},
   "outputs": [],
   "source": [
    "Stickdir = '/run/user/1000/gvfs/smb-share:server=isiserver.curie.net,share=u934/equipe_bellaiche/mf_di-pietro/Movies-afterCARE/RhoGEF4 mutant/Movies_To_Segment/pupe4_mutant_s13_s14_s15_s16_mov/Rotated/StarWat_FijiMask_RTGPipeline/'\n",
    "\n",
    "Raw_path = os.path.join(Stickdir, '*') #tif or TIF be careful\n",
    "axis_norm = (0,1)   # normalize channels independently\n",
    "axes = 'XY'\n",
    "filesRaw = glob.glob(Raw_path)\n",
    "filesRaw.sort\n",
    "\n",
    "\n",
    "\n",
    "for fname in filesRaw:\n",
    "    \n",
    "    if not 'P1' in fname and not 'P2' in fname and not 'Format' in fname : \n",
    "        \n",
    "        \n",
    "            #Skeletonization and deletion of non closed cells. Has to be done AFTER logical and operation \n",
    "            z = cv2.imread(fname) \n",
    "            z = z[:,:,0]\n",
    "            #z = np.float32(z)\n",
    "            z2 = z.copy()\n",
    "            mask = np.zeros((np.array(z.shape)+2), np.uint8)\n",
    "            cv2.floodFill(z, mask, (0,0), (255))\n",
    "            z = cv2.erode(z, np.ones((5,5)))\n",
    "            z = cv2.bitwise_and(z,z2)\n",
    "            z = cv2.bitwise_not(z)\n",
    "            z = z*255\n",
    "            z = skeletonize(z)\n",
    "            linked = z \n",
    "\n",
    "            name = str(os.path.basename(os.path.splitext(fname)[0]))\n",
    "            png.from_array(linked,mode='L').save(Stickdir +  name.replace(\"seg_\",'seg_linked_')+ '.png')\n",
    "\n",
    "\n"
   ]
  },
  {
   "cell_type": "code",
   "execution_count": 2,
   "metadata": {},
   "outputs": [],
   "source": [
    "Stickdir = '/run/user/1000/gvfs/smb-share:server=isiserver.curie.net,share=u934/equipe_bellaiche/mf_di-pietro/Movies-afterCARE/RhoGEF4 mutant/Movies_To_Segment/pupe2_mutant_s5_s6_s7_s8_mov/Rotated/StarWat_FijiMask_RTGPipeline/'\n",
    "\n",
    "\n",
    "Raw_path = os.path.join(Stickdir, '*') #tif or TIF be careful\n",
    "axis_norm = (0,1)   # normalize channels independently\n",
    "axes = 'XY'\n",
    "filesRaw = glob.glob(Raw_path)\n",
    "filesRaw.sort\n",
    "\n",
    "\n",
    "for fname in filesRaw:\n",
    "   \n",
    "    SmallImage1 = cv2.imread(fname)\n",
    "    \n",
    "    if 'P1' in fname :\n",
    "        SmallImage2 = cv2.imread(fname.replace('P1','P2'))\n",
    "    \n",
    "        BigImage = np.zeros([SmallImage1.shape[0], SmallImage1.shape[1]*2], dtype = 'uint8')        \n",
    "    \n",
    "        \n",
    "        BigImage[0:SmallImage1.shape[0], 0:SmallImage1.shape[1]] = SmallImage1[:,:,1]\n",
    "        BigImage[0:SmallImage1.shape[0], SmallImage1.shape[1]:SmallImage1.shape[1]*2] = SmallImage2[:,:,1]   \n",
    "\n",
    "        \n",
    "        name = str(os.path.basename(os.path.splitext(fname)[0]))\n",
    "        png.from_array(BigImage,mode='L').save(Stickdir +  name.replace(\"seg_P1_\",'seg_')+ '.png')\n",
    "        \n",
    "        #imageio.imwrite(Stickdir +  name.replace(\"seg_P1_\",'seg_'), BigImage) \n",
    "\n",
    " "
   ]
  },
  {
   "cell_type": "code",
   "execution_count": 3,
   "metadata": {},
   "outputs": [],
   "source": [
    "Stickdir = '/run/user/1000/gvfs/smb-share:server=isiserver.curie.net,share=u934/equipe_bellaiche/mf_di-pietro/Movies-afterCARE/RhoGEF4 mutant/Movies_To_Segment/pupe3_s7_s8_s9_s10_mov/Rotated/StarWat_FijiMask_RTGPipeline/'\n",
    "\n",
    "\n",
    "Raw_path = os.path.join(Stickdir, '*') #tif or TIF be careful\n",
    "axis_norm = (0,1)   # normalize channels independently\n",
    "axes = 'XY'\n",
    "filesRaw = glob.glob(Raw_path)\n",
    "filesRaw.sort\n",
    "\n",
    "\n",
    "for fname in filesRaw:\n",
    "   \n",
    "    SmallImage1 = cv2.imread(fname)\n",
    "    \n",
    "    if 'P1' in fname :\n",
    "        SmallImage2 = cv2.imread(fname.replace('P1','P2'))\n",
    "    \n",
    "        BigImage = np.zeros([SmallImage1.shape[0], SmallImage1.shape[1]*2], dtype = 'uint8')        \n",
    "    \n",
    "        \n",
    "        BigImage[0:SmallImage1.shape[0], 0:SmallImage1.shape[1]] = SmallImage1[:,:,1]\n",
    "        BigImage[0:SmallImage1.shape[0], SmallImage1.shape[1]:SmallImage1.shape[1]*2] = SmallImage2[:,:,1]   \n",
    "\n",
    "        \n",
    "        name = str(os.path.basename(os.path.splitext(fname)[0]))\n",
    "        png.from_array(BigImage,mode='L').save(Stickdir +  name.replace(\"seg_P1_\",'seg_')+ '.png')\n",
    "        \n",
    "        #imageio.imwrite(Stickdir +  name.replace(\"seg_P1_\",'seg_'), BigImage) \n",
    "\n",
    " "
   ]
  },
  {
   "cell_type": "code",
   "execution_count": 4,
   "metadata": {},
   "outputs": [],
   "source": [
    "Stickdir = '/run/user/1000/gvfs/smb-share:server=isiserver.curie.net,share=u934/equipe_bellaiche/mf_di-pietro/Movies-afterCARE/RhoGEF4 mutant/Movies_To_Segment/pupe4_mutant_s13_s14_s15_s16_mov/Rotated/StarWat_FijiMask_RTGPipeline/'\n",
    "\n",
    "\n",
    "Raw_path = os.path.join(Stickdir, '*') #tif or TIF be careful\n",
    "axis_norm = (0,1)   # normalize channels independently\n",
    "axes = 'XY'\n",
    "filesRaw = glob.glob(Raw_path)\n",
    "filesRaw.sort\n",
    "\n",
    "\n",
    "for fname in filesRaw:\n",
    "   \n",
    "    SmallImage1 = cv2.imread(fname)\n",
    "    \n",
    "    if 'P1' in fname :\n",
    "        SmallImage2 = cv2.imread(fname.replace('P1','P2'))\n",
    "    \n",
    "        BigImage = np.zeros([SmallImage1.shape[0], SmallImage1.shape[1]*2], dtype = 'uint8')        \n",
    "    \n",
    "        \n",
    "        BigImage[0:SmallImage1.shape[0], 0:SmallImage1.shape[1]] = SmallImage1[:,:,1]\n",
    "        BigImage[0:SmallImage1.shape[0], SmallImage1.shape[1]:SmallImage1.shape[1]*2] = SmallImage2[:,:,1]   \n",
    "\n",
    "        \n",
    "        name = str(os.path.basename(os.path.splitext(fname)[0]))\n",
    "        png.from_array(BigImage,mode='L').save(Stickdir +  name.replace(\"seg_P1_\",'seg_')+ '.png')\n",
    "        \n",
    "        #imageio.imwrite(Stickdir +  name.replace(\"seg_P1_\",'seg_'), BigImage) \n",
    "\n",
    " "
   ]
  },
  {
   "cell_type": "code",
   "execution_count": 17,
   "metadata": {},
   "outputs": [
    {
     "data": {
      "text/plain": [
       "'/run/user/1000/gvfs/smb-share:server=isiserver.curie.net,share=u934/equipe_bellaiche/mf_di-pietro/Movies-afterCARE/RhoGEF4 mutant/Movies_To_Segment/pupe4_mutant_s13_s14_s15_s16_mov/Rotated/StarWat_FijiMask_RTGPipeline/seg_P2_Rotated_pupe4_mutant_s13_s14_s15_s16_mov_0129.png'"
      ]
     },
     "execution_count": 17,
     "metadata": {},
     "output_type": "execute_result"
    }
   ],
   "source": [
    "fname"
   ]
  },
  {
   "cell_type": "code",
   "execution_count": null,
   "metadata": {},
   "outputs": [],
   "source": []
  }
 ],
 "metadata": {
  "kernelspec": {
   "display_name": "Python 3",
   "language": "python",
   "name": "python3"
  },
  "language_info": {
   "codemirror_mode": {
    "name": "ipython",
    "version": 3
   },
   "file_extension": ".py",
   "mimetype": "text/x-python",
   "name": "python",
   "nbconvert_exporter": "python",
   "pygments_lexer": "ipython3",
   "version": "3.6.10"
  }
 },
 "nbformat": 4,
 "nbformat_minor": 4
}
