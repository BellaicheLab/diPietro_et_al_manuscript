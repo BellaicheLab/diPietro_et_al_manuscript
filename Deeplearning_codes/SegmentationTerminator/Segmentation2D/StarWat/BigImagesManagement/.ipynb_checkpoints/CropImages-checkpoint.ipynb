{
 "cells": [
  {
   "cell_type": "code",
   "execution_count": 2,
   "metadata": {},
   "outputs": [],
   "source": [
    "import os\n",
    "import glob\n",
    "from tifffile import imread\n",
    "import sys\n",
    "sys.path.append(\"../../Terminator\")\n",
    "from TerminatorUtils.helpers import save_tiff_imagej_compatible, MakeLabels,save_8bit_tiff_imagej_compatible\n",
    "import imageio\n",
    "from skimage.measure import label\n",
    "import matplotlib.pyplot as plt\n",
    "try:\n",
    "    from pathlib import Path\n",
    "    Path().expanduser()\n",
    "except (ImportError, AttributeError):\n",
    "        from pathlib2 import Path\n",
    "\n",
    "try:\n",
    "        import tempfile\n",
    "        tempfile.TemporaryDirectory\n",
    "except (ImportError, AttributeError):\n",
    "       from backports import tempfile"
   ]
  },
  {
   "cell_type": "code",
   "execution_count": 3,
   "metadata": {},
   "outputs": [],
   "source": [
    "Rawdir = '/run/user/1001/gvfs/smb-share:server=isiserver.curie.net,share=u934/equipe_bellaiche/l_sancere/Training_Data_Sets/Training_Stardist/Generating_Data/RawElongated/'\n",
    "Segmenteddir = '/run/user/1001/gvfs/smb-share:server=isiserver.curie.net,share=u934/equipe_bellaiche/l_sancere/Training_Data_Sets/Training_Stardist/Generating_Data/SegmentedElongated/'\n",
    "\n",
    "CropRawdir = '/run/user/1001/gvfs/smb-share:server=isiserver.curie.net,share=u934/equipe_bellaiche/l_sancere/Training_Data_Sets/Training_Stardist/Generating_Data/CropRaw/'\n",
    "CropSegmenteddir = '/run/user/1001/gvfs/smb-share:server=isiserver.curie.net,share=u934/equipe_bellaiche/l_sancere/Training_Data_Sets/Training_Stardist/Generating_Data/CropSegmented/'\n",
    "\n",
    "Path(CropRawdir).mkdir(exist_ok = True)\n",
    "Path(CropSegmenteddir).mkdir(exist_ok = True)\n",
    "\n",
    "axes = 'YX'"
   ]
  },
  {
   "cell_type": "code",
   "execution_count": 6,
   "metadata": {},
   "outputs": [],
   "source": [
    "Raw_path = os.path.join(Rawdir, '*tif')\n",
    "X = glob.glob(Raw_path)\n",
    "\n",
    "Raw_path = os.path.join(Segmenteddir, '*tif')\n",
    "Y = glob.glob(Raw_path)\n",
    "\n",
    "# Coordinate\n",
    "# Crop = [275,295]\n",
    "\n",
    "# Box \n",
    "Start = [0,186]\n",
    "End = [1383,186]\n",
    "\n",
    "\n",
    "\n",
    "for fname in X:\n",
    "    \n",
    "    image = imread(fname)\n",
    "    cropimage = image[Start[0]: End[0], Start[1]:End[1]]\n",
    "    Name = os.path.basename(os.path.splitext(fname)[0])\n",
    "    save_tiff_imagej_compatible((CropRawdir  + Name + '.tif' ) , cropimage, axes)\n",
    "    \n",
    "for fname in Y:\n",
    "    \n",
    "    image = imread(fname)\n",
    "    cropimage = image[Start[0]: End[0], Start[1]:End[1]]\n",
    "    Name = os.path.basename(os.path.splitext(fname)[0])\n",
    "    save_8bit_tiff_imagej_compatible((CropSegmenteddir  + Name + '.tif' ) , cropimage, axes)\n",
    "        \n",
    "    "
   ]
  },
  {
   "cell_type": "code",
   "execution_count": null,
   "metadata": {},
   "outputs": [],
   "source": []
  }
 ],
 "metadata": {
  "kernelspec": {
   "display_name": "Python [conda env:tensorflowGPU] *",
   "language": "python",
   "name": "conda-env-tensorflowGPU-py"
  },
  "language_info": {
   "codemirror_mode": {
    "name": "ipython",
    "version": 3
   },
   "file_extension": ".py",
   "mimetype": "text/x-python",
   "name": "python",
   "nbconvert_exporter": "python",
   "pygments_lexer": "ipython3",
   "version": "3.6.10"
  }
 },
 "nbformat": 4,
 "nbformat_minor": 4
}
