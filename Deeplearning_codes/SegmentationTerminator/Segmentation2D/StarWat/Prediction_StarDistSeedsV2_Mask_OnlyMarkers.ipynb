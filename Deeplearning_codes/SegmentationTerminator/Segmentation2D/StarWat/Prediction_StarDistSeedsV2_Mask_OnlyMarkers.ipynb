{
 "cells": [
  {
   "cell_type": "markdown",
   "metadata": {},
   "source": [
    "## StarWat/SmartSeeds markers (center of cells) prediction using masks ##"
   ]
  },
  {
   "cell_type": "markdown",
   "metadata": {},
   "source": [
    "We will use in this notebook trained segmentation models to perform marker (center of cells) \n",
    "localization on CARE projected images. You can use other 2D images not generated thanks to CARE but the prediction results will be less good. "
   ]
  },
  {
   "cell_type": "markdown",
   "metadata": {},
   "source": [
    "If you need more information regarding each following python cells, you can look at the commented notebook `Prediction_StarDistSeedsV2_Mask.ipynb` in which you will find the exact same steps except that the markers are saved at the end instead of the segmentation images."
   ]
  },
  {
   "cell_type": "code",
   "execution_count": null,
   "metadata": {},
   "outputs": [],
   "source": [
    "os.environ[\"CUDA_VISIBLE_DEVICES\"]=\"1\"\n",
    "\n",
    "\n",
    "import csbdeep\n",
    "from csbdeep.utils.tf import limit_gpu_memory\n",
    "from skimage.filters import threshold_otsu\n",
    "import numpy as np\n",
    "import matplotlib.pyplot as plt\n",
    "#get_ipython().run_line_magic('matplotlib', 'inline')\n",
    "#get_ipython().run_line_magic('config', \"InlineBackend.figure_format = 'retina'\")\n",
    "#from IPython.display import clear_output\n",
    "import glob\n",
    "import cv2\n",
    "from tifffile import imread\n",
    "import tqdm\n",
    "from csbdeep.utils import Path, normalize\n",
    "from stardist import random_label_cmap, _draw_polygons,dist_to_coord\n",
    "from stardist.models import StarDist2D\n",
    "from TerminatorUtils.helpers import normalizeFloat, OtsuThreshold2D, save_8bit_tiff_imagej_compatible, save_16bit_tiff_imagej_compatible,Integer_to_border,SeedStarDistWatershed\n",
    "from TerminatorUtils.helpers import Prob_to_Binary, zero_pad, WatershedwithMask, MaxProjectDist, WatershedSmartCorrection,fill_label_holes, WatershedwithoutMask\n",
    "from TerminatorUtils.helpers import save_tiff_imagej_compatible\n",
    "from csbdeep.models import Config, CARE\n",
    "np.random.seed(6)\n",
    "lbl_cmap = random_label_cmap()\n",
    "\n",
    "from skimage.morphology import remove_small_objects, thin\n",
    "from skimage.morphology import skeletonize\n",
    "\n",
    "\n",
    "import time "
   ]
  },
  {
   "cell_type": "code",
   "execution_count": null,
   "metadata": {},
   "outputs": [],
   "source": [
    "\n",
    "basedir = '/run/user/1000/gvfs/smb-share:server=isiserver.curie.net,share=u934/equipe_bellaiche/m_balakireva/Maria_Movie2Lucas/Nts4aCrop'\n",
    "\n",
    "basedir_StardistWater_FijiMask = '/run/user/1000/gvfs/smb-share:server=isiserver.curie.net,share=u934/equipe_bellaiche/m_balakireva/Maria_Movie2Lucas/Nts4aCrop/StarWatDistance/'\n",
    "basedir_StardistWater_FijiMask_RTGPipeline = '/run/user/1000/gvfs/smb-share:server=isiserver.curie.net,share=u934/equipe_bellaiche/m_balakireva/Maria_Movie2Lucas/Nts4aCrop/StarWatDistance_RTGPipeline/'\n",
    "\n",
    "Model_Dir = '/run/media/sancere/DATA1/Lucas_Model_to_use/Segmentation/'    \n"
   ]
  },
  {
   "cell_type": "code",
   "execution_count": null,
   "metadata": {},
   "outputs": [],
   "source": [
    "StardistModelName = 'DrosophilaSegmentationSmartSeedsMatureMacroElongatedLargePatchBoris_29Jan2021_Grid11_PreviousHP'\n",
    "\n",
    "modelstar = StarDist2D(config = None, name = StardistModelName, basedir = Model_Dir)"
   ]
  },
  {
   "cell_type": "code",
   "execution_count": null,
   "metadata": {},
   "outputs": [],
   "source": [
    "Path(basedir_StardistWater_FijiMask).mkdir(exist_ok = True)\n",
    "Raw_path = os.path.join(basedir, '*tif') #tif or TIF be careful\n",
    "axis_norm = (0,1)   # normalize channels independently\n",
    "axes = 'XY'\n",
    "filesRaw = glob.glob(Raw_path)\n",
    "filesRaw.sort"
   ]
  },
  {
   "cell_type": "code",
   "execution_count": null,
   "metadata": {},
   "outputs": [],
   "source": [
    "for fname in filesRaw:\n",
    " \n",
    "    if os.path.exists((basedir_StardistWater_FijiMask + 'Markers_' + os.path.basename(os.path.splitext(fname)[0]))) == False :\n",
    "        \n",
    "            # Name = os.path.basename(os.path.splitext(fname)[0])\n",
    "            x = imread(fname)\n",
    "            y = normalizeFloat(x,1,99.8, axis = axis_norm)\n",
    "            originalX = x.shape[0]\n",
    "            originalY = x.shape[1]\n",
    "        \n",
    "            #zero pad aand 8bit conversion after normalization\n",
    "            y = zero_pad(y, 32, 32)\n",
    "            print('Processing file', fname)              \n",
    "           \n",
    "            #Stardist, label image, details, probability map, distance map \n",
    "            segmentationImage, details = modelstar.predict_instances(y)\n",
    "            segmentationImage = segmentationImage[:originalX, :originalY]\n",
    "            prob, dist = modelstar.predict(y)\n",
    "            grid = modelstar.config.grid\n",
    "            prob = cv2.resize(prob,  dsize=(prob.shape[1] * grid[1],prob.shape[0] * grid[0]))\n",
    "            dist = cv2.resize(dist, dsize=(dist.shape[1] * grid[1] , dist.shape[0] * grid[0] ))\n",
    "            maxdist = MaxProjectDist(dist)  \n",
    "            maxdist = maxdist[:originalX, :originalY]  \n",
    "\n",
    "            \n",
    "            #Generation of masks    \n",
    "            #Seeds from Stardist + Whatershed, segmentation on probability map \n",
    "            HomeMadeMask = cv2.imread(fname.replace('.tif','_Mask.png'))\n",
    "            HomeMadeMask = HomeMadeMask[:,:,0]\n",
    "            HomeMadeMask = zero_pad(HomeMadeMask, 32, 32)\n",
    "            HomeMadeMask = HomeMadeMask[:originalX, :originalY]\n",
    "            Watershed, markers = WatershedwithoutMask(maxdist, segmentationImage.astype('uint16'), modelstar.config.grid)\n",
    "\n",
    "    \n",
    "            #Save different method segmentations\n",
    "            #save_8bit_tiff_imagej_compatible((basedir_StardistWater_FijiMask + 'StarWatDistance' + os.path.basename(os.path.splitext(fname)[0]) ) , StardistWater_FijiMask, axes)\n",
    "            # save_tiff_imagej_compatible((basedir_StardistWater_FijiMask + 'DistMap_' + os.path.basename(os.path.splitext(fname)[0]) ) , maxdist, axes)\n",
    "            save_tiff_imagej_compatible((basedir_StardistWater_FijiMask + 'Markers_' + os.path.basename(os.path.splitext(fname)[0]) ) , markers, axes)\n"
   ]
  }
 ],
 "metadata": {
  "kernelspec": {
   "display_name": "Python 3",
   "language": "python",
   "name": "python3"
  },
  "language_info": {
   "codemirror_mode": {
    "name": "ipython",
    "version": 3
   },
   "file_extension": ".py",
   "mimetype": "text/x-python",
   "name": "python",
   "nbconvert_exporter": "python",
   "pygments_lexer": "ipython3",
   "version": "3.6.10"
  }
 },
 "nbformat": 4,
 "nbformat_minor": 4
}
