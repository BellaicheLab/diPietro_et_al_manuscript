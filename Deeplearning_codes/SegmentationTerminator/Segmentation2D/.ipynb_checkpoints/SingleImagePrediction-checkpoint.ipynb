{
 "cells": [
  {
   "cell_type": "code",
   "execution_count": 10,
   "metadata": {},
   "outputs": [],
   "source": [
    "from __future__ import print_function, unicode_literals, absolute_import, division\n",
    "import sys\n",
    "\n",
    "import os\n",
    "os.environ[\"HDF5_USE_FILE_LOCKING\"] = \"FALSE\"\n",
    "#To run the prediction on the CPU, else comment out this line touse the GPU\n",
    "os.environ[\"CUDA_VISIBLE_DEVICES\"]=\"\"\n",
    "\n",
    "from csbdeep.utils.tf import limit_gpu_memory\n",
    "\n",
    "import numpy as np\n",
    "import matplotlib.pyplot as plt\n",
    "%matplotlib inline\n",
    "%config InlineBackend.figure_format = 'retina'\n",
    "sys.path.append('../Terminator/')\n",
    "import glob\n",
    "from tifffile import imread\n",
    "from csbdeep.utils import Path, normalize\n",
    "from stardist import random_label_cmap, _draw_polygons\n",
    "from stardist.models import StarDist2D\n",
    "from TerminatorUtils.helpers import normalizeFloat, OtsuThreshold2D, save_8bit_tiff_imagej_compatible,Integer_to_border,save_tiff_imagej_compatible\n",
    "from csbdeep.models import Config, CARE\n",
    "np.random.seed(6)\n",
    "lbl_cmap = random_label_cmap()\n"
   ]
  },
  {
   "cell_type": "code",
   "execution_count": 11,
   "metadata": {},
   "outputs": [],
   "source": [
    "basedir = '/data/u934/service_imagerie/v_kapoor/Fl4-2-Var/CAREprojections/SegmentationTest/'\n",
    "basedirStarResults = '/data/u934/service_imagerie/v_kapoor/Fl4-2-Var/CAREprojections/SegmentationTest/StarResults/'\n",
    "#basedirUnetResults = '/data/u934/service_imagerie/v_kapoor/Fl4-2-Var/CAREprojections/SegmenationTest/StarResults/'\n",
    "\n",
    "\n",
    "#UnetModelName = 'DrosophilaSegmentationUNet'\n",
    "StardistModelName = 'DrosophilaSegmentationStardist'\n",
    "Model_Dir = '/data/u934/service_imagerie/v_kapoor/CurieDeepLearningModels/DrosophilaSegmentation/'\n",
    "\n",
    "\n"
   ]
  },
  {
   "cell_type": "code",
   "execution_count": 12,
   "metadata": {},
   "outputs": [
    {
     "name": "stdout",
     "output_type": "stream",
     "text": [
      "Loading network weights from 'weights_best.h5'.\n",
      "Loading thresholds from 'thresholds.json'.\n",
      "Using default values: prob_thresh=0.478882, nms_thresh=0.3.\n"
     ]
    },
    {
     "ename": "TypeError",
     "evalue": "not all arguments converted during string formatting",
     "output_type": "error",
     "traceback": [
      "\u001b[0;31m---------------------------------------------------------------------------\u001b[0m",
      "\u001b[0;31mTypeError\u001b[0m                                 Traceback (most recent call last)",
      "\u001b[0;32m<ipython-input-12-69bed5e2f858>\u001b[0m in \u001b[0;36m<module>\u001b[0;34m()\u001b[0m\n\u001b[1;32m     19\u001b[0m         \u001b[0msegmentationImage\u001b[0m\u001b[0;34m,\u001b[0m \u001b[0mdetails\u001b[0m \u001b[0;34m=\u001b[0m \u001b[0mmodel\u001b[0m\u001b[0;34m.\u001b[0m\u001b[0mpredict_instances\u001b[0m\u001b[0;34m(\u001b[0m\u001b[0mx\u001b[0m\u001b[0;34m)\u001b[0m\u001b[0;34m\u001b[0m\u001b[0m\n\u001b[1;32m     20\u001b[0m         \u001b[0mBinary\u001b[0m \u001b[0;34m=\u001b[0m \u001b[0mInteger_to_border\u001b[0m\u001b[0;34m(\u001b[0m\u001b[0msegmentationImage\u001b[0m\u001b[0;34m,\u001b[0m \u001b[0mmax_size\u001b[0m \u001b[0;34m=\u001b[0m \u001b[0;36m6400\u001b[0m\u001b[0;34m)\u001b[0m\u001b[0;34m\u001b[0m\u001b[0m\n\u001b[0;32m---> 21\u001b[0;31m         \u001b[0msave_tiff_imagej_compatible\u001b[0m\u001b[0;34m(\u001b[0m\u001b[0;34m(\u001b[0m\u001b[0mbasedirStarResults\u001b[0m \u001b[0;34m+\u001b[0m \u001b[0;34m'Integer'\u001b[0m \u001b[0;34m+\u001b[0m \u001b[0mos\u001b[0m\u001b[0;34m.\u001b[0m\u001b[0mpath\u001b[0m\u001b[0;34m.\u001b[0m\u001b[0mbasename\u001b[0m\u001b[0;34m(\u001b[0m\u001b[0mfname\u001b[0m\u001b[0;34m)\u001b[0m\u001b[0;34m)\u001b[0m \u001b[0;34m%\u001b[0m \u001b[0mmodel\u001b[0m\u001b[0;34m.\u001b[0m\u001b[0mname\u001b[0m\u001b[0;34m,\u001b[0m \u001b[0msegmentationImage\u001b[0m\u001b[0;34m,\u001b[0m \u001b[0maxes\u001b[0m\u001b[0;34m)\u001b[0m\u001b[0;34m\u001b[0m\u001b[0m\n\u001b[0m\u001b[1;32m     22\u001b[0m         \u001b[0msave_8bit_tiff_imagej_compatible\u001b[0m\u001b[0;34m(\u001b[0m\u001b[0;34m(\u001b[0m\u001b[0mbasedirStarResults\u001b[0m \u001b[0;34m+\u001b[0m \u001b[0;34m'Binary'\u001b[0m \u001b[0;34m+\u001b[0m \u001b[0mos\u001b[0m\u001b[0;34m.\u001b[0m\u001b[0mpath\u001b[0m\u001b[0;34m.\u001b[0m\u001b[0mbasename\u001b[0m\u001b[0;34m(\u001b[0m\u001b[0mfname\u001b[0m\u001b[0;34m)\u001b[0m\u001b[0;34m)\u001b[0m \u001b[0;34m%\u001b[0m \u001b[0mmodel\u001b[0m\u001b[0;34m.\u001b[0m\u001b[0mname\u001b[0m\u001b[0;34m,\u001b[0m \u001b[0mBinary\u001b[0m\u001b[0;34m,\u001b[0m \u001b[0maxes\u001b[0m\u001b[0;34m)\u001b[0m\u001b[0;34m\u001b[0m\u001b[0m\n\u001b[1;32m     23\u001b[0m \u001b[0;34m\u001b[0m\u001b[0m\n",
      "\u001b[0;31mTypeError\u001b[0m: not all arguments converted during string formatting"
     ]
    }
   ],
   "source": [
    "model = StarDist2D(config = None, name = StardistModelName, basedir = Model_Dir)\n",
    "#UnetModel = CARE(config = None, name = UnetModelName, basedir = Model_Dir)\n",
    "\n",
    "#UnetModel = load_model( Model_Dir + UnetModelName + '.h5')\n",
    "#UnetModel_weights = UnetModel.get_weights()\n",
    "\n",
    "Raw_path = os.path.join(basedir, '*tif')\n",
    "#Path(basedirUnetResults).mkdir(exist_ok = True)\n",
    "Path(basedirStarResults).mkdir(exist_ok = True)\n",
    "\n",
    "axes = 'YX'\n",
    "saveaxes = 'TYX'\n",
    "filesRaw = glob.glob(Raw_path)\n",
    "filesRaw.sort\n",
    "for fname in filesRaw:\n",
    "        x = imread(fname)\n",
    "        x = normalizeFloat(x,1,99.8) \n",
    "        \n",
    "        segmentationImage, details = model.predict_instances(x)\n",
    "        Binary = Integer_to_border(segmentationImage, max_size = 6400)\n",
    "        save_tiff_imagej_compatible((basedirStarResults +  'Integer' + os.path.basename(fname)) % model.name, segmentationImage, axes)\n",
    "        save_8bit_tiff_imagej_compatible((basedirStarResults + 'Binary' + os.path.basename(fname)) % model.name, Binary, axes)\n",
    "\n",
    "        #UnetsegmentationImage = np.zeros([x.shape[0], x.shape[1], x.shape[2]])\n",
    "        #for i in range(0, x.shape[0]):\n",
    "          #UnetsegmentationImage[i,:] = UnetModel.predict(x[i,:],axes, n_tiles= (1,2))\n",
    "          #UnetsegmentationImage[i,:] = OtsuThreshold2D(UnetsegmentationImage[i,:])\n",
    "        #save_8bit_tiff_imagej_compatible((basedirUnetResults + '%s_' + os.path.basename(fname)) % UnetModelName, UnetsegmentationImage, saveaxes)\n",
    "\n",
    "        "
   ]
  },
  {
   "cell_type": "code",
   "execution_count": null,
   "metadata": {},
   "outputs": [],
   "source": [
    "\n",
    "       "
   ]
  }
 ],
 "metadata": {
  "kernelspec": {
   "display_name": "Python [conda env:tensorflowEXP]",
   "language": "python",
   "name": "conda-env-tensorflowEXP-py"
  },
  "language_info": {
   "codemirror_mode": {
    "name": "ipython",
    "version": 3
   },
   "file_extension": ".py",
   "mimetype": "text/x-python",
   "name": "python",
   "nbconvert_exporter": "python",
   "pygments_lexer": "ipython3",
   "version": "3.5.6"
  },
  "toc": {
   "base_numbering": 1,
   "nav_menu": {},
   "number_sections": false,
   "sideBar": false,
   "skip_h1_title": false,
   "title_cell": "Table of Contents",
   "title_sidebar": "Contents",
   "toc_cell": false,
   "toc_position": {},
   "toc_section_display": false,
   "toc_window_display": false
  }
 },
 "nbformat": 4,
 "nbformat_minor": 2
}
