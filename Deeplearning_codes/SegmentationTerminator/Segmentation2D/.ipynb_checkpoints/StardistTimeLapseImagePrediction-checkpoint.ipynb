{
 "cells": [
  {
   "cell_type": "code",
   "execution_count": 1,
   "metadata": {},
   "outputs": [
    {
     "name": "stderr",
     "output_type": "stream",
     "text": [
      "Using TensorFlow backend.\n"
     ]
    }
   ],
   "source": [
    "from __future__ import print_function, unicode_literals, absolute_import, division\n",
    "import sys\n",
    "import os\n",
    "\n",
    "#To run the prediction on the CPU, else comment out this line touse the GPU\n",
    "os.environ[\"CUDA_VISIBLE_DEVICES\"]=\"\"\n",
    "\n",
    "from csbdeep.utils.tf import limit_gpu_memory\n",
    "from csbdeep.utils import Path, normalize\n",
    "import numpy as np\n",
    "import matplotlib.pyplot as plt\n",
    "%matplotlib inline\n",
    "%config InlineBackend.figure_format = 'retina'\n",
    "sys.path.append('../Terminator/')\n",
    "import glob\n",
    "from tifffile import imread\n",
    "from csbdeep.utils import Path, normalize\n",
    "from stardist import random_label_cmap, _draw_polygons\n",
    "from stardist.models import StarDist2D\n",
    "from TerminatorUtils.helpers import normalizeFloat, OtsuThreshold2D, save_tiff_imagej_compatible\n",
    "from csbdeep.models import Config, CARE\n",
    "from stardist import dist_to_coord, non_maximum_suppression, polygons_to_label\n",
    "np.random.seed(6)\n",
    "lbl_cmap = random_label_cmap()\n"
   ]
  },
  {
   "cell_type": "code",
   "execution_count": 4,
   "metadata": {},
   "outputs": [],
   "source": [
    "basedir = '/Users/aimachine/Documents/Startest/'\n",
    "basedirStarResults = '/Users/aimachine/Documents/Startest/StarResults/'\n",
    "StardistModelName = 'EmbryoOz1024Stardist-51024'\n",
    "Model_Dir = '/Users/aimachine/Documents/TrainingOz/'\n",
    "\n"
   ]
  },
  {
   "cell_type": "code",
   "execution_count": 9,
   "metadata": {},
   "outputs": [
    {
     "ename": "IndentationError",
     "evalue": "unexpected indent (<ipython-input-9-e8c38d612821>, line 19)",
     "output_type": "error",
     "traceback": [
      "\u001b[0;36m  File \u001b[0;32m\"<ipython-input-9-e8c38d612821>\"\u001b[0;36m, line \u001b[0;32m19\u001b[0m\n\u001b[0;31m    print('Timepoint', i)\u001b[0m\n\u001b[0m    ^\u001b[0m\n\u001b[0;31mIndentationError\u001b[0m\u001b[0;31m:\u001b[0m unexpected indent\n"
     ]
    }
   ],
   "source": [
    "model = StarDist2D(config = None, name = StardistModelName, basedir = Model_Dir)\n",
    "\n",
    "\n",
    "Raw_path = os.path.join(basedir, '*tif')\n",
    "Path(basedirStarResults).mkdir(exist_ok = True)\n",
    "\n",
    "axes = 'YX'\n",
    "saveaxes = 'TYX'\n",
    "filesRaw = glob.glob(Raw_path)\n",
    "filesRaw.sort\n",
    "axis_norm = (0,1)   # normalize channels independently\n",
    "for fname in filesRaw:\n",
    "          x = imread(fname)\n",
    "        \n",
    "          #StarsegmentationImage = np.zeros([x.shape[0], x.shape[1], x.shape[2]])\n",
    "          #prob = np.zeros([x.shape[0], x.shape[1], x.shape[2]])\n",
    "          #dist = np.zeros([x.shape[0], x.shape[1], x.shape[2]])\n",
    "        \n",
    "          print('Timepoint', i)\n",
    "          print(x.shape) \n",
    "          x = normalize(x,1,99.8,axis=axis_norm)\n",
    "          \n",
    "          StarsegmentationImage, objects = model.predict_instances(x)\n",
    "          plt.imshow(StarsegmentationImage)\n",
    "          plt.show()\n",
    "          #print(details)\n",
    "            \n",
    "          save_tiff_imagej_compatible((basedirStarResults + os.path.basename(fname)) , StarsegmentationImage, saveaxes)\n",
    "\n",
    "        "
   ]
  },
  {
   "cell_type": "code",
   "execution_count": null,
   "metadata": {},
   "outputs": [],
   "source": [
    "\n",
    "       "
   ]
  }
 ],
 "metadata": {
  "kernelspec": {
   "display_name": "Python [conda env:tensorflowEnv36]",
   "language": "python",
   "name": "conda-env-tensorflowEnv36-py"
  },
  "language_info": {
   "codemirror_mode": {
    "name": "ipython",
    "version": 3
   },
   "file_extension": ".py",
   "mimetype": "text/x-python",
   "name": "python",
   "nbconvert_exporter": "python",
   "pygments_lexer": "ipython3",
   "version": "3.6.9"
  },
  "toc": {
   "base_numbering": 1,
   "nav_menu": {},
   "number_sections": false,
   "sideBar": false,
   "skip_h1_title": false,
   "title_cell": "Table of Contents",
   "title_sidebar": "Contents",
   "toc_cell": false,
   "toc_position": {},
   "toc_section_display": false,
   "toc_window_display": false
  }
 },
 "nbformat": 4,
 "nbformat_minor": 2
}
