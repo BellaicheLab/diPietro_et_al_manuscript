{
 "cells": [
  {
   "cell_type": "code",
   "execution_count": 1,
   "metadata": {},
   "outputs": [
    {
     "name": "stderr",
     "output_type": "stream",
     "text": [
      "Using TensorFlow backend.\n"
     ]
    }
   ],
   "source": [
    "from __future__ import print_function, unicode_literals, absolute_import, division\n",
    "import numpy as np\n",
    "import matplotlib.pyplot as plt\n",
    "%matplotlib inline\n",
    "%config InlineBackend.figure_format = 'retina'\n",
    "import sys\n",
    "sys.path.append('../Terminator/')\n",
    "from glob import glob\n",
    "from tqdm import tqdm\n",
    "from tifffile import imread\n",
    "from TerminatorUtils import npzfileGenerator\n",
    "from csbdeep.utils import Path, download_and_extract_zip_file\n",
    "from csbdeep.data import  create_patches, RawData\n"
   ]
  },
  {
   "cell_type": "code",
   "execution_count": 2,
   "metadata": {},
   "outputs": [
    {
     "name": "stderr",
     "output_type": "stream",
     "text": [
      "Warning: will use at least 5824 MB of memory.\n",
      "\n"
     ]
    },
    {
     "name": "stdout",
     "output_type": "stream",
     "text": [
      "==================================================================\n",
      "  364 raw images x    1 transformations   =   364 images\n",
      "  364 images     x   32 patches per image = 11648 patches in total\n",
      "==================================================================\n",
      "Input data:\n",
      "/data/u934/service_imagerie/v_kapoor/CurieTrainingDatasets/Raw_Datasets/MouseClaudia/: target='MoreBinary', sources=['MoreOriginal'], axes='YX', pattern='*.tif*'\n",
      "==================================================================\n",
      "Transformations:\n",
      "1 x Identity\n",
      "==================================================================\n",
      "Patch size:\n",
      "256 x 256\n",
      "==================================================================\n"
     ]
    },
    {
     "name": "stderr",
     "output_type": "stream",
     "text": [
      "100%|██████████| 364/364 [01:06<00:00,  5.99it/s]\n"
     ]
    },
    {
     "name": "stdout",
     "output_type": "stream",
     "text": [
      "Saving data to /data/u934/service_imagerie/v_kapoor/CurieTrainingDatasets/MouseClaudia/MouseClaudiaSegmentModel.npz.\n"
     ]
    }
   ],
   "source": [
    "#Generate Patches of Training Data\n",
    "BaseDirectory = '/Users/aimachine/Documents/TrainingOz/'\n",
    "SaveNpzDirectory = '/Users/aimachine/Documents/TrainingOz/'\n",
    "SaveName = 'OzEmbryoSegmentationModel.npz'\n",
    "\n",
    "npzfileGenerator.generate_2D_patch_training_data(BaseDirectory, SaveNpzDirectory, SaveName, patch_size = (256,256), n_patches_per_image = 64 )\n",
    "\n"
   ]
  },
  {
   "cell_type": "code",
   "execution_count": null,
   "metadata": {},
   "outputs": [],
   "source": []
  },
  {
   "cell_type": "code",
   "execution_count": null,
   "metadata": {},
   "outputs": [],
   "source": []
  }
 ],
 "metadata": {
  "kernelspec": {
   "display_name": "Python [conda env:tensorflowEnv36]",
   "language": "python",
   "name": "conda-env-tensorflowEnv36-py"
  },
  "language_info": {
   "codemirror_mode": {
    "name": "ipython",
    "version": 3
   },
   "file_extension": ".py",
   "mimetype": "text/x-python",
   "name": "python",
   "nbconvert_exporter": "python",
   "pygments_lexer": "ipython3",
   "version": "3.6.9"
  },
  "toc": {
   "base_numbering": 1,
   "nav_menu": {},
   "number_sections": false,
   "sideBar": false,
   "skip_h1_title": false,
   "title_cell": "Table of Contents",
   "title_sidebar": "Contents",
   "toc_cell": false,
   "toc_position": {},
   "toc_section_display": false,
   "toc_window_display": false
  }
 },
 "nbformat": 4,
 "nbformat_minor": 2
}
