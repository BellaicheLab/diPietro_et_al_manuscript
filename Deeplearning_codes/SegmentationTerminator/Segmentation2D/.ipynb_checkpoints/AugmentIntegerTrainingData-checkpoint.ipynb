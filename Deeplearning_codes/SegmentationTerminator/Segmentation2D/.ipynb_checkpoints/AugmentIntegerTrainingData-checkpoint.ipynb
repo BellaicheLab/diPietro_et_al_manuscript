{
 "cells": [
  {
   "cell_type": "code",
   "execution_count": 1,
   "metadata": {},
   "outputs": [
    {
     "name": "stderr",
     "output_type": "stream",
     "text": [
      "Using TensorFlow backend.\n"
     ]
    }
   ],
   "source": [
    "from __future__ import print_function, unicode_literals, absolute_import, division\n",
    "import numpy as np\n",
    "import matplotlib.pyplot as plt\n",
    "%matplotlib inline\n",
    "%config InlineBackend.figure_format = 'retina'\n",
    "import sys\n",
    "sys.path.append(\"../Terminator\")\n",
    "from glob import glob\n",
    "from tqdm import tqdm\n",
    "from tifffile import imread\n",
    "from csbdeep.utils import Path, download_and_extract_zip_file\n",
    "\n",
    "from TerminatorUtils import Augmentation\n",
    "try:\n",
    "    from pathlib import Path\n",
    "    Path().expanduser()\n",
    "except (ImportError,AttributeError):\n",
    "    from pathlib2 import Path\n",
    "\n",
    "try:\n",
    "    import tempfile\n",
    "    tempfile.TemporaryDirectory\n",
    "\n",
    "except (ImportError,AttributeError):\n",
    "    from backports import tempfile"
   ]
  },
  {
   "cell_type": "code",
   "execution_count": 2,
   "metadata": {},
   "outputs": [
    {
     "data": {
      "text/plain": [
       "<TerminatorUtils.Augmentator.Augmentation at 0x10968e518>"
      ]
     },
     "execution_count": 2,
     "metadata": {},
     "output_type": "execute_result"
    }
   ],
   "source": [
    "#Generate Training Data\n",
    "ImageDirectory = '/Users/aimachine/Documents/TrainingOz/MorePngImages/'\n",
    "RawLabelDirectory = '/Users/aimachine/Documents/TrainingOz/MorePngMasks/'\n",
    "\n",
    "AugmentImageDirectory = '/Users/aimachine/Documents/TrainingOz/EvenMorePngImages/'\n",
    "AugmentLabelDirectory = '/Users/aimachine/Documents/TrainingOz/EvenMorePngMasks/'\n",
    "\n",
    "\n",
    "\n",
    "\n",
    "Augmentation(ImageDirectory, RawLabelDirectory, AugmentImageDirectory, AugmentLabelDirectory, 1100, 1100, putNoise = False, rotate = True, AppendName = \"More\"   )"
   ]
  },
  {
   "cell_type": "code",
   "execution_count": null,
   "metadata": {},
   "outputs": [],
   "source": []
  }
 ],
 "metadata": {
  "kernelspec": {
   "display_name": "Python [conda env:tensorflowEnv36]",
   "language": "python",
   "name": "conda-env-tensorflowEnv36-py"
  },
  "language_info": {
   "codemirror_mode": {
    "name": "ipython",
    "version": 3
   },
   "file_extension": ".py",
   "mimetype": "text/x-python",
   "name": "python",
   "nbconvert_exporter": "python",
   "pygments_lexer": "ipython3",
   "version": "3.6.9"
  }
 },
 "nbformat": 4,
 "nbformat_minor": 2
}
