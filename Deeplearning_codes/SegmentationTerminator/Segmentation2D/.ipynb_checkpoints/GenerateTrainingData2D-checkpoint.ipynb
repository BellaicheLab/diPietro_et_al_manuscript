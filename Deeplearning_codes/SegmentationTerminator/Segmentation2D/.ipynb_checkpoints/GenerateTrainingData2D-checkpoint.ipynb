{
 "cells": [
  {
   "cell_type": "code",
   "execution_count": null,
   "metadata": {},
   "outputs": [],
   "source": [
    "from __future__ import print_function, unicode_literals, absolute_import, division\n",
    "import numpy as np\n",
    "import matplotlib.pyplot as plt\n",
    "%matplotlib inline\n",
    "%config InlineBackend.figure_format = 'retina'\n",
    "import sys\n",
    "sys.path.append('../Terminator/')\n",
    "from glob import glob\n",
    "from tqdm import tqdm\n",
    "from tifffile import imread\n",
    "from csbdeep.utils import Path, download_and_extract_zip_file\n",
    "\n",
    "from TerminatorUtils import npzfileGenerator\n",
    "from TerminatorUtils import helpers"
   ]
  },
  {
   "cell_type": "code",
   "execution_count": null,
   "metadata": {},
   "outputs": [],
   "source": [
    "#Generate Training Data\n",
    "ImageDirectory = '/data/u934/service_imagerie/v_kapoor/CurieTrainingDatasets/Raw_Datasets/DrosophilaSegmentation/Original/'\n",
    "LabelDirectory = '/data/u934/service_imagerie/v_kapoor/CurieTrainingDatasets/Raw_Datasets/DrosophilaSegmentation/Integer/'\n",
    "\n",
    "SaveNpzDirectory = '/data/u934/service_imagerie/v_kapoor/CurieTrainingDatasets/DrosophilaIntegerSegmentation/'\n",
    "SaveName = 'IntegerSegmentModel'\n",
    "SaveNameVal = 'IntegerSegmentModelValidation'\n",
    "\n",
    "displaynumber = 2\n",
    "npzfileGenerator.generate_2D_training_data(ImageDirectory, LabelDirectory,SaveNpzDirectory, SaveName, SaveNameVal,2200, 2500, display = displaynumber)\n"
   ]
  },
  {
   "cell_type": "code",
   "execution_count": null,
   "metadata": {},
   "outputs": [],
   "source": []
  }
 ],
 "metadata": {
  "kernelspec": {
   "display_name": "Python [conda env:tensorflowEXP]",
   "language": "python",
   "name": "conda-env-tensorflowEXP-py"
  },
  "language_info": {
   "codemirror_mode": {
    "name": "ipython",
    "version": 3
   },
   "file_extension": ".py",
   "mimetype": "text/x-python",
   "name": "python",
   "nbconvert_exporter": "python",
   "pygments_lexer": "ipython3",
   "version": "3.5.6"
  },
  "toc": {
   "base_numbering": 1,
   "nav_menu": {},
   "number_sections": false,
   "sideBar": false,
   "skip_h1_title": false,
   "title_cell": "Table of Contents",
   "title_sidebar": "Contents",
   "toc_cell": false,
   "toc_position": {},
   "toc_section_display": false,
   "toc_window_display": false
  }
 },
 "nbformat": 4,
 "nbformat_minor": 2
}
