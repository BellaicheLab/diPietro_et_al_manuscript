{
 "cells": [
  {
   "cell_type": "code",
   "execution_count": 2,
   "metadata": {},
   "outputs": [
    {
     "name": "stderr",
     "output_type": "stream",
     "text": [
      "Using TensorFlow backend.\n"
     ]
    },
    {
     "ename": "NameError",
     "evalue": "name 'random_label_cmap' is not defined",
     "output_type": "error",
     "traceback": [
      "\u001b[0;31m---------------------------------------------------------------------------\u001b[0m",
      "\u001b[0;31mNameError\u001b[0m                                 Traceback (most recent call last)",
      "\u001b[0;32m<ipython-input-2-734ad7efaeee>\u001b[0m in \u001b[0;36m<module>\u001b[0;34m\u001b[0m\n\u001b[1;32m      8\u001b[0m \u001b[0;32mfrom\u001b[0m \u001b[0mTerminatorUtils\u001b[0m \u001b[0;32mimport\u001b[0m \u001b[0mUNetDetection2D\u001b[0m\u001b[0;34m\u001b[0m\u001b[0;34m\u001b[0m\u001b[0m\n\u001b[1;32m      9\u001b[0m \u001b[0mnp\u001b[0m\u001b[0;34m.\u001b[0m\u001b[0mrandom\u001b[0m\u001b[0;34m.\u001b[0m\u001b[0mseed\u001b[0m\u001b[0;34m(\u001b[0m\u001b[0;36m42\u001b[0m\u001b[0;34m)\u001b[0m\u001b[0;34m\u001b[0m\u001b[0;34m\u001b[0m\u001b[0m\n\u001b[0;32m---> 10\u001b[0;31m \u001b[0mlbl_cmap\u001b[0m \u001b[0;34m=\u001b[0m \u001b[0mrandom_label_cmap\u001b[0m\u001b[0;34m(\u001b[0m\u001b[0;34m)\u001b[0m\u001b[0;34m\u001b[0m\u001b[0;34m\u001b[0m\u001b[0m\n\u001b[0m",
      "\u001b[0;31mNameError\u001b[0m: name 'random_label_cmap' is not defined"
     ]
    }
   ],
   "source": [
    "from __future__ import print_function, unicode_literals, absolute_import, division\n",
    "import sys\n",
    "import numpy as np\n",
    "import matplotlib.pyplot as plt\n",
    "%matplotlib inline\n",
    "%config InlineBackend.figure_format = 'retina'\n",
    "sys.path.append(\"../Terminator\")\n",
    "from TerminatorUtils import UNetDetection2D\n"
   ]
  },
  {
   "cell_type": "code",
   "execution_count": null,
   "metadata": {},
   "outputs": [],
   "source": [
    "#Specify the location and name of the npz file for training and validation data\n",
    "NpzDirectory = '/data/u934/service_imagerie/v_kapoor/CurieTrainingDatasets/MouseClaudia/'\n",
    "TrainModelName = 'MouseClaudiaSegmentModel.npz'\n",
    "\n",
    "#Read and Write the h5 file, directory location and name\n",
    "Model_dir = '/data/u934/service_imagerie/v_kapoor/CurieDeepLearningModels/MouseClaudia/'\n",
    "Model_Name = 'MouseClaudiaSegmentationUNet.h5'\n",
    "\n",
    "model_weights = Model_dir +  Model_Name \n",
    "\n",
    "if os.path.exists(model_weights):\n",
    "    print('loading weights')\n",
    "\n",
    "    model_weights = model_weights\n",
    "else:\n",
    "   \n",
    "    model_weights = None"
   ]
  },
  {
   "cell_type": "code",
   "execution_count": null,
   "metadata": {},
   "outputs": [],
   "source": [
    "global Trainingmodel\n",
    "#Initate training of the model\n",
    "Trainingmodel = UNetDetection2D(NpzDirectory, TrainModelName, Model_dir, Model_Name, model_weights)"
   ]
  }
 ],
 "metadata": {
  "kernelspec": {
   "display_name": "tensorflowEnv36",
   "language": "python",
   "name": "myenv"
  },
  "language_info": {
   "codemirror_mode": {
    "name": "ipython",
    "version": 3
   },
   "file_extension": ".py",
   "mimetype": "text/x-python",
   "name": "python",
   "nbconvert_exporter": "python",
   "pygments_lexer": "ipython3",
   "version": "3.6.9"
  },
  "toc": {
   "base_numbering": 1,
   "nav_menu": {},
   "number_sections": false,
   "sideBar": false,
   "skip_h1_title": false,
   "title_cell": "Table of Contents",
   "title_sidebar": "Contents",
   "toc_cell": false,
   "toc_position": {},
   "toc_section_display": false,
   "toc_window_display": false
  }
 },
 "nbformat": 4,
 "nbformat_minor": 2
}
