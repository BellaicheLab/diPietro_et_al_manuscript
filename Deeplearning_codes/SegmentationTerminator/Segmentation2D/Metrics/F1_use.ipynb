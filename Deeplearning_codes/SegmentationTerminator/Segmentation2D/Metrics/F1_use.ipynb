{
 "cells": [
  {
   "cell_type": "markdown",
   "metadata": {},
   "source": [
    "## Evaluation of predictions using F1 metric ##"
   ]
  },
  {
   "cell_type": "markdown",
   "metadata": {},
   "source": [
    "For more information about F1 metric see https://en.wikipedia.org/wiki/F-score and for more information about the function used to calculate it see https://scikit-learn.org/stable/modules/generated/sklearn.metrics.f1_score.html#sklearn.metrics.f1_score. "
   ]
  },
  {
   "cell_type": "code",
   "execution_count": 20,
   "metadata": {},
   "outputs": [],
   "source": [
    "import sys\n",
    "import os\n",
    "import glob\n",
    "from csbdeep.utils import Path\n",
    "\n",
    "from tifffile import imread\n",
    "import tqdm\n",
    "from sabout import f1_score\n"
   ]
  },
  {
   "cell_type": "code",
   "execution_count": 21,
   "metadata": {},
   "outputs": [],
   "source": [
    "#Initialization\n",
    "Threshold_f1_scores = []\n",
    "Threshold_Postprocessing_f1_scores = []\n",
    "MasksPreviousModel_f1_scores = []\n",
    "MasksLastModel_f1_scores = []\n",
    "\n"
   ]
  },
  {
   "cell_type": "markdown",
   "metadata": {},
   "source": [
    "Movie Nts9a "
   ]
  },
  {
   "cell_type": "code",
   "execution_count": 22,
   "metadata": {},
   "outputs": [],
   "source": [
    "moviemane = 'Nts9a/'\n",
    "\n",
    "groundtruthname = 'Masks/'\n",
    "\n",
    "basedir = '/run/user/1000/gvfs/smb-share:server=isiserver.curie.net,share=u934/equipe_bellaiche/l_sancere/Tests_DL_Models/LabMeetingMaskGenerator/'\n",
    "moviedir = basedir + moviemane\n",
    "groundtruthdir = moviedir + groundtruthname"
   ]
  },
  {
   "cell_type": "code",
   "execution_count": 4,
   "metadata": {},
   "outputs": [
    {
     "name": "stdout",
     "output_type": "stream",
     "text": [
      "[]\n"
     ]
    }
   ],
   "source": [
    "\n",
    "predictionname = 'Threshold/'\n",
    "\n",
    "predictiondir = moviedir + predictionname\n",
    "\n",
    "Prediction_path = os.path.join(predictiondir, '*.tif')\n",
    "Prediction_files = glob.glob(Prediction_path)\n",
    "Prediction_files.sort\n",
    "#Groundtruth_path = os.path.join(groundtruthdir, '*')\n",
    "#Groundtruth_files = glob.glob(Groundtruth_path)\n",
    "#Groundtruth_files.sort\n",
    "\n",
    "\n",
    "for fname in Prediction_files:\n",
    " \n",
    "        Name = os.path.basename(os.path.splitext(fname)[0])   #fname is name with all the path, name is only the name of the file \n",
    "        print(Name)\n",
    "        y_pred = imread(fname)\n",
    "        y_true = imread(groundtruthdir + '/' + Name + '.tif' )\n",
    "        Threshold_f1_scores.append(f1_score(y_pred, y_true, labels=[255], average='micro'))\n",
    "        \n",
    "print(Threshold_f1_scores)\n",
    "        \n",
    "    "
   ]
  },
  {
   "cell_type": "code",
   "execution_count": 5,
   "metadata": {},
   "outputs": [
    {
     "name": "stdout",
     "output_type": "stream",
     "text": [
      "[]\n"
     ]
    }
   ],
   "source": [
    "\n",
    "predictionname = 'Threshold_Postprocessing'\n",
    "\n",
    "predictiondir = moviedir + predictionname\n",
    "\n",
    "Prediction_path = os.path.join(predictiondir, '*.tif')\n",
    "Prediction_files = glob.glob(Prediction_path)\n",
    "Prediction_files.sort\n",
    "#Groundtruth_path = os.path.join(groundtruthdir, '*')\n",
    "#Groundtruth_files = glob.glob(Groundtruth_path)\n",
    "#Groundtruth_files.sort\n",
    "\n",
    "\n",
    "for fname in Prediction_files:\n",
    " \n",
    "        Name = os.path.basename(os.path.splitext(fname)[0])   #fname is name with all the path, name is only the name of the file \n",
    "        y_pred = imread(fname)\n",
    "        y_true = imread(groundtruthdir + '/' + Name + '.tif' )\n",
    "        Threshold_Postprocessing_f1_scores.append(f1_score(y_pred, y_true, labels=[255], average='micro'))  \n",
    "    \n",
    "print(Threshold_Postprocessing_f1_scores)\n",
    "    "
   ]
  },
  {
   "cell_type": "code",
   "execution_count": 6,
   "metadata": {},
   "outputs": [
    {
     "name": "stdout",
     "output_type": "stream",
     "text": [
      "[]\n"
     ]
    }
   ],
   "source": [
    "\n",
    "predictionname = 'MasksPreviousModel'\n",
    "\n",
    "predictiondir = moviedir + predictionname\n",
    "\n",
    "Prediction_path = os.path.join(predictiondir, '*.tif')\n",
    "Prediction_files = glob.glob(Prediction_path)\n",
    "Prediction_files.sort\n",
    "#Groundtruth_path = os.path.join(groundtruthdir, '*')\n",
    "#Groundtruth_files = glob.glob(Groundtruth_path)\n",
    "#Groundtruth_files.sort\n",
    "\n",
    "\n",
    "for fname in Prediction_files:\n",
    " \n",
    "        Name = os.path.basename(os.path.splitext(fname)[0])   #fname is name with all the path, name is only the name of the file \n",
    "        y_pred = imread(flucas-sancerename)\n",
    "        y_true = imread(groundtruthdir + '/' + Name + '.tif' )\n",
    "        MasksPreviousModel_f1_scores.append(f1_score(y_pred, y_true, labels=[255], average='micro'))  \n",
    "\n",
    "print(MasksPreviousModel_f1_scores)\n",
    "         \n",
    "    "
   ]
  },
  {
   "cell_type": "code",
   "execution_count": 7,
   "metadata": {},
   "outputs": [
    {
     "name": "stdout",
     "output_type": "stream",
     "text": [
      "[]\n"
     ]
    }
   ],
   "source": [
    "\n",
    "predictionname = 'MasksLastModel'\n",
    "\n",
    "predictiondir = moviedir + predictionname\n",
    "\n",
    "Prediction_path = os.path.join(predictiondir, '*.tif')\n",
    "Prediction_files = glob.glob(Prediction_path)\n",
    "Prediction_files.sort\n",
    "#Groundtruth_path = os.path.join(groundtruthdir, '*')\n",
    "#Groundtruth_files = glob.glob(Groundtruth_path)\n",
    "#Groundtruth_files.sort\n",
    "\n",
    "\n",
    "for fname in Prediction_files:\n",
    " \n",
    "        Name = os.path.basename(os.path.splitext(fname)[0])   #fname is name with all the path, name is only the name of the file \n",
    "        y_pred = imread(fname)\n",
    "        y_true = imread(groundtruthdir + '/' + Name + '.tif' )\n",
    "        MasksLastModel_f1_scores.append(f1_score(y_pred, y_true, labels=[255], average='micro'))\n",
    "        \n",
    "print(MasksLastModel_f1_scores)\n",
    "    "
   ]
  },
  {
   "cell_type": "markdown",
   "metadata": {},
   "source": [
    "Global Stats"
   ]
  },
  {
   "cell_type": "code",
   "execution_count": 9,
   "metadata": {},
   "outputs": [],
   "source": [
    "from scipy.stats import describe"
   ]
  },
  {
   "cell_type": "code",
   "execution_count": 18,
   "metadata": {
    "collapsed": true,
    "jupyter": {
     "outputs_hidden": true
    }
   },
   "outputs": [
    {
     "name": "stdout",
     "output_type": "stream",
     "text": [
      "describe Threshold_f1_scores\n"
     ]
    },
    {
     "ename": "ValueError",
     "evalue": "The input must not be empty.",
     "output_type": "error",
     "traceback": [
      "\u001b[0;31m---------------------------------------------------------------------------\u001b[0m",
      "\u001b[0;31mValueError\u001b[0m                                Traceback (most recent call last)",
      "\u001b[0;32m<ipython-input-18-edb672af1ec4>\u001b[0m in \u001b[0;36m<module>\u001b[0;34m\u001b[0m\n\u001b[1;32m      1\u001b[0m \u001b[0mprint\u001b[0m\u001b[0;34m(\u001b[0m\u001b[0;34m'describe Threshold_f1_scores'\u001b[0m\u001b[0;34m)\u001b[0m\u001b[0;34m\u001b[0m\u001b[0;34m\u001b[0m\u001b[0m\n\u001b[0;32m----> 2\u001b[0;31m \u001b[0mdescribe\u001b[0m\u001b[0;34m(\u001b[0m\u001b[0mThreshold_f1_scores\u001b[0m\u001b[0;34m)\u001b[0m\u001b[0;34m\u001b[0m\u001b[0;34m\u001b[0m\u001b[0m\n\u001b[0m",
      "\u001b[0;32m~/anaconda3/envs/tensorflowGPU/lib/python3.6/site-packages/scipy/stats/stats.py\u001b[0m in \u001b[0;36mdescribe\u001b[0;34m(a, axis, ddof, bias, nan_policy)\u001b[0m\n\u001b[1;32m   1433\u001b[0m \u001b[0;34m\u001b[0m\u001b[0m\n\u001b[1;32m   1434\u001b[0m     \u001b[0;32mif\u001b[0m \u001b[0ma\u001b[0m\u001b[0;34m.\u001b[0m\u001b[0msize\u001b[0m \u001b[0;34m==\u001b[0m \u001b[0;36m0\u001b[0m\u001b[0;34m:\u001b[0m\u001b[0;34m\u001b[0m\u001b[0;34m\u001b[0m\u001b[0m\n\u001b[0;32m-> 1435\u001b[0;31m         \u001b[0;32mraise\u001b[0m \u001b[0mValueError\u001b[0m\u001b[0;34m(\u001b[0m\u001b[0;34m\"The input must not be empty.\"\u001b[0m\u001b[0;34m)\u001b[0m\u001b[0;34m\u001b[0m\u001b[0;34m\u001b[0m\u001b[0m\n\u001b[0m\u001b[1;32m   1436\u001b[0m     \u001b[0mn\u001b[0m \u001b[0;34m=\u001b[0m \u001b[0ma\u001b[0m\u001b[0;34m.\u001b[0m\u001b[0mshape\u001b[0m\u001b[0;34m[\u001b[0m\u001b[0maxis\u001b[0m\u001b[0;34m]\u001b[0m\u001b[0;34m\u001b[0m\u001b[0;34m\u001b[0m\u001b[0m\n\u001b[1;32m   1437\u001b[0m     \u001b[0mmm\u001b[0m \u001b[0;34m=\u001b[0m \u001b[0;34m(\u001b[0m\u001b[0mnp\u001b[0m\u001b[0;34m.\u001b[0m\u001b[0mmin\u001b[0m\u001b[0;34m(\u001b[0m\u001b[0ma\u001b[0m\u001b[0;34m,\u001b[0m \u001b[0maxis\u001b[0m\u001b[0;34m=\u001b[0m\u001b[0maxis\u001b[0m\u001b[0;34m)\u001b[0m\u001b[0;34m,\u001b[0m \u001b[0mnp\u001b[0m\u001b[0;34m.\u001b[0m\u001b[0mmax\u001b[0m\u001b[0;34m(\u001b[0m\u001b[0ma\u001b[0m\u001b[0;34m,\u001b[0m \u001b[0maxis\u001b[0m\u001b[0;34m=\u001b[0m\u001b[0maxis\u001b[0m\u001b[0;34m)\u001b[0m\u001b[0;34m)\u001b[0m\u001b[0;34m\u001b[0m\u001b[0;34m\u001b[0m\u001b[0m\n",
      "\u001b[0;31mValueError\u001b[0m: The input must not be empty."
     ]
    }
   ],
   "source": [
    "print('describe Threshold_f1_scores')\n",
    "describe(Threshold_f1_scores)\n"
   ]
  },
  {
   "cell_type": "code",
   "execution_count": 62,
   "metadata": {},
   "outputs": [
    {
     "name": "stdout",
     "output_type": "stream",
     "text": [
      " describe Threshold_Postprocessing_f1_scores\n"
     ]
    },
    {
     "data": {
      "text/plain": [
       "DescribeResult(nobs=658, minmax=(0.9304812834224598, 1.0), mean=0.9868171101001997, variance=9.548659781075755e-05, skewness=-1.5265266593635276, kurtosis=3.2997534507632817)"
      ]
     },
     "execution_count": 62,
     "metadata": {},
     "output_type": "execute_result"
    }
   ],
   "source": [
    "print(' describe Threshold_Postprocessing_f1_scores')\n",
    "describe(Threshold_Postprocessing_f1_scores) "
   ]
  },
  {
   "cell_type": "code",
   "execution_count": 63,
   "metadata": {},
   "outputs": [
    {
     "name": "stdout",
     "output_type": "stream",
     "text": [
      " describe MasksPreviousModel_f1_scores\n"
     ]
    },
    {
     "data": {
      "text/plain": [
       "DescribeResult(nobs=658, minmax=(0.711897738446411, 1.0), mean=0.9643586587523398, variance=0.002810434541468028, skewness=-2.2026986728785003, kurtosis=4.307866707262898)"
      ]
     },
     "execution_count": 63,
     "metadata": {},
     "output_type": "execute_result"
    }
   ],
   "source": [
    "print(' describe MasksPreviousModel_f1_scores')\n",
    "describe(MasksPreviousModel_f1_scores)"
   ]
  },
  {
   "cell_type": "code",
   "execution_count": 64,
   "metadata": {},
   "outputs": [
    {
     "name": "stdout",
     "output_type": "stream",
     "text": [
      " describe MasksLastModel_f1_scores\n"
     ]
    },
    {
     "data": {
      "text/plain": [
       "DescribeResult(nobs=417, minmax=(0.9605015673981191, 0.9994269340974212), mean=0.9929411809721894, variance=4.4209383380147435e-05, skewness=-1.6065407912585994, kurtosis=2.107477749129445)"
      ]
     },
     "execution_count": 64,
     "metadata": {},
     "output_type": "execute_result"
    }
   ],
   "source": [
    "print(' describe MasksLastModel_f1_scores')\n",
    "describe(MasksLastModel_f1_scores)"
   ]
  },
  {
   "cell_type": "markdown",
   "metadata": {},
   "source": [
    "658 is the number of frames use, mix of din1 and bin2 data "
   ]
  },
  {
   "cell_type": "code",
   "execution_count": null,
   "metadata": {},
   "outputs": [],
   "source": []
  }
 ],
 "metadata": {
  "kernelspec": {
   "display_name": "Python 3",
   "language": "python",
   "name": "python3"
  },
  "language_info": {
   "codemirror_mode": {
    "name": "ipython",
    "version": 3
   },
   "file_extension": ".py",
   "mimetype": "text/x-python",
   "name": "python",
   "nbconvert_exporter": "python",
   "pygments_lexer": "ipython3",
   "version": "3.6.10"
  }
 },
 "nbformat": 4,
 "nbformat_minor": 4
}
