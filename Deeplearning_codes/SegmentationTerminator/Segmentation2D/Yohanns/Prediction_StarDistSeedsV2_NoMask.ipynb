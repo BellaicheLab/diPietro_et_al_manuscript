{
 "cells": [
  {
   "cell_type": "markdown",
   "metadata": {},
   "source": [
    "## StarWat/SmartSeeds segmentation predictions without mask use ##"
   ]
  },
  {
   "cell_type": "markdown",
   "metadata": {},
   "source": [
    "We will use in this notebook trained segmentation models to perform segmentation on CARE projected images. You can use other 2D images not generated thanks to CARE but the prediction results will be less good. "
   ]
  },
  {
   "cell_type": "markdown",
   "metadata": {},
   "source": [
    "For this notebook, we won't use binary mask to help the segmentation because there is no background in the image or because we are only interested in some clone cells. "
   ]
  },
  {
   "cell_type": "code",
   "execution_count": 6,
   "metadata": {},
   "outputs": [],
   "source": [
    "from __future__ import print_function, unicode_literals, absolute_import, division\n",
    "import sys\n",
    "import os\n",
    "import cv2\n",
    "\n",
    "#To run the prediction on the GPU, else comment out this line to use the CPU\n",
    "os.environ[\"CUDA_VISIBLE_DEVICES\"]=\"0\"\n",
    "\n",
    "import csbdeep\n",
    "from csbdeep.utils.tf import limit_gpu_memory\n",
    "from skimage.filters import threshold_otsu\n",
    "import numpy as np\n",
    "import matplotlib.pyplot as plt\n",
    "get_ipython().run_line_magic('matplotlib', 'inline')\n",
    "get_ipython().run_line_magic('config', \"InlineBackend.figure_format = 'retina'\")\n",
    "from IPython.display import clear_output\n",
    "import glob\n",
    "import cv2\n",
    "from tifffile import imread\n",
    "import tqdm\n",
    "from csbdeep.utils import Path, normalize\n",
    "from stardist import random_label_cmap # ,_draw_polygons,dist_to_coord\n",
    "from stardist.models import StarDist2D\n",
    "from TerminatorUtils.helpers import normalizeFloat, OtsuThreshold2D, save_8bit_tiff_imagej_compatible, save_16bit_tiff_imagej_compatible,Integer_to_border,SeedStarDistWatershed\n",
    "from TerminatorUtils.helpers import Prob_to_Binary, zero_pad, WatershedwithoutMask\n",
    "from TerminatorUtils.helpers import save_tiff_imagej_compatible\n",
    "from csbdeep.models import Config, CARE\n",
    "np.random.seed(6)\n",
    "lbl_cmap = random_label_cmap()\n",
    "\n",
    "from skimage.morphology import remove_small_objects\n",
    "from skimage.morphology import skeletonize\n",
    "import time \n",
    "\n",
    "import time\n",
    "\n",
    "#from TerminatorUtils.helpers import limit_gpu_memory_actualised\n",
    "#limit_gpu_memory_actualised(0.25)\n"
   ]
  },
  {
   "cell_type": "markdown",
   "metadata": {},
   "source": [
    "All the images we want to segment must be contained in the same folder and must be .tif. We will give the path to the folder through `basedir`."
   ]
  },
  {
   "cell_type": "markdown",
   "metadata": {},
   "source": [
    "- `basedir_StardistWater_NoMask` will be the path were segmented images will be saved,\n",
    "- `basedir_StardistWater_NoMask_RTGPipeline` will be the path were segmented images put in the good format for Guirao Pipeline will be saved\n"
   ]
  },
  {
   "cell_type": "markdown",
   "metadata": {},
   "source": [
    "`Model_Dir` is the path where all the Segmentation trained models are stored."
   ]
  },
  {
   "cell_type": "code",
   "execution_count": 64,
   "metadata": {},
   "outputs": [],
   "source": [
    "basedir = '/run/user/1000/gvfs/smb-share:server=isiserver.curie.net,share=u934/equipe_bellaiche/l_sancere/Yo_To_Lucas/171020_tosend 2/trainning/AllMovies'\n",
    "\n",
    "basedir_StardistWater_NoMask = basedir + '/StarWat_NoMask/'\n",
    "basedir_StardistWater_NoMask_RTGPipeline = basedir + '/StarWat_NoMask_RTGPipeline/'\n",
    "\n",
    "Model_Dir = '/run/media/sancere/DATA/Lucas_Model_to_use/Segmentation/'    "
   ]
  },
  {
   "cell_type": "markdown",
   "metadata": {},
   "source": [
    "Here we select the model we will use for the prediction and we load it."
   ]
  },
  {
   "cell_type": "code",
   "execution_count": 65,
   "metadata": {},
   "outputs": [
    {
     "name": "stdout",
     "output_type": "stream",
     "text": [
      "Loading network weights from 'weights_best.h5'.\n",
      "Couldn't load thresholds from 'thresholds.json', using default values. (Call 'optimize_thresholds' to change that.)\n",
      "Using default values: prob_thresh=0.5, nms_thresh=0.4.\n"
     ]
    }
   ],
   "source": [
    "StardistModelName = 'DrosophilaSegmentationSmartSeedsMatureMacroElongatedLargePatchBoris_29Jan2021_Grid11_PreviousHP'\n",
    "\n",
    "modelstar = StarDist2D(config = None, name = StardistModelName, basedir = Model_Dir)"
   ]
  },
  {
   "cell_type": "markdown",
   "metadata": {},
   "source": [
    "Then we create the `basedir_StardistWater_NoMask` folders were the predictions will be stored if the folder doesn't exist yet. We then list all the files with the given file extension (* *choose extenstion*) in the `basedir` folder."
   ]
  },
  {
   "cell_type": "code",
   "execution_count": 66,
   "metadata": {},
   "outputs": [
    {
     "data": {
      "text/plain": [
       "<function list.sort>"
      ]
     },
     "execution_count": 66,
     "metadata": {},
     "output_type": "execute_result"
    }
   ],
   "source": [
    "Path(basedir_StardistWater_NoMask).mkdir(exist_ok = True)\n",
    "Raw_path = os.path.join(basedir, '*.tif') #tif or TIF be careful\n",
    "axis_norm = (0,1)   # normalize channels independently\n",
    "axes = 'XY'\n",
    "filesRaw = glob.glob(Raw_path)\n",
    "filesRaw.sort"
   ]
  },
  {
   "cell_type": "markdown",
   "metadata": {},
   "source": [
    "We finally apply the predictions on each  images found in the folder. "
   ]
  },
  {
   "cell_type": "markdown",
   "metadata": {},
   "source": [
    "The 2d line is to avoid to make a segmentation prediction on an image that was already processed by the network before."
   ]
  },
  {
   "cell_type": "code",
   "execution_count": 67,
   "metadata": {
    "collapsed": true,
    "jupyter": {
     "outputs_hidden": true
    }
   },
   "outputs": [
    {
     "name": "stdout",
     "output_type": "stream",
     "text": [
      "Processing file /run/media/sancere/DATA1/Segmentation_Challenge/Movie1_CyanMarkerOnly/MedianFilter3/Movie1_CyanMarkerOnly_0001.tif\n",
      "Processing file /run/media/sancere/DATA1/Segmentation_Challenge/Movie1_CyanMarkerOnly/MedianFilter3/Movie1_CyanMarkerOnly_0002.tif\n",
      "Processing file /run/media/sancere/DATA1/Segmentation_Challenge/Movie1_CyanMarkerOnly/MedianFilter3/Movie1_CyanMarkerOnly_0003.tif\n",
      "Processing file /run/media/sancere/DATA1/Segmentation_Challenge/Movie1_CyanMarkerOnly/MedianFilter3/Movie1_CyanMarkerOnly_0004.tif\n",
      "Processing file /run/media/sancere/DATA1/Segmentation_Challenge/Movie1_CyanMarkerOnly/MedianFilter3/Movie1_CyanMarkerOnly_0005.tif\n",
      "Processing file /run/media/sancere/DATA1/Segmentation_Challenge/Movie1_CyanMarkerOnly/MedianFilter3/Movie1_CyanMarkerOnly_0006.tif\n",
      "Processing file /run/media/sancere/DATA1/Segmentation_Challenge/Movie1_CyanMarkerOnly/MedianFilter3/Movie1_CyanMarkerOnly_0007.tif\n",
      "Processing file /run/media/sancere/DATA1/Segmentation_Challenge/Movie1_CyanMarkerOnly/MedianFilter3/Movie1_CyanMarkerOnly_0008.tif\n",
      "Processing file /run/media/sancere/DATA1/Segmentation_Challenge/Movie1_CyanMarkerOnly/MedianFilter3/Movie1_CyanMarkerOnly_0009.tif\n",
      "Processing file /run/media/sancere/DATA1/Segmentation_Challenge/Movie1_CyanMarkerOnly/MedianFilter3/Movie1_CyanMarkerOnly_0010.tif\n",
      "Processing file /run/media/sancere/DATA1/Segmentation_Challenge/Movie1_CyanMarkerOnly/MedianFilter3/Movie1_CyanMarkerOnly_0011.tif\n",
      "Processing file /run/media/sancere/DATA1/Segmentation_Challenge/Movie1_CyanMarkerOnly/MedianFilter3/Movie1_CyanMarkerOnly_0012.tif\n",
      "Processing file /run/media/sancere/DATA1/Segmentation_Challenge/Movie1_CyanMarkerOnly/MedianFilter3/Movie1_CyanMarkerOnly_0013.tif\n",
      "Processing file /run/media/sancere/DATA1/Segmentation_Challenge/Movie1_CyanMarkerOnly/MedianFilter3/Movie1_CyanMarkerOnly_0014.tif\n",
      "Processing file /run/media/sancere/DATA1/Segmentation_Challenge/Movie1_CyanMarkerOnly/MedianFilter3/Movie1_CyanMarkerOnly_0015.tif\n"
     ]
    }
   ],
   "source": [
    "for fname in filesRaw:\n",
    " \n",
    "    if os.path.exists((basedir_StardistWater_NoMask + 'StarWat_NoMask_' + os.path.basename(os.path.splitext(fname)[0]))) == False :\n",
    "        \n",
    "            # Name = os.path.basename(os.path.splitext(fname)[0])\n",
    "            x = imread(fname)\n",
    "            y = normalizeFloat(x,1,99.8, axis = axis_norm)\n",
    "            originalX = x.shape[0]\n",
    "            originalY = x.shape[1]\n",
    "        \n",
    "            #zero pad (Never do 8bit conversion when applying prediction on an image, only float32)\n",
    "            y = zero_pad(y, 32, 32)\n",
    "            print('Processing file', fname)              \n",
    "           \n",
    "            #Stardist, label image, details, probability map, distance map \n",
    "            segmentationImage, details = modelstar.predict_instances(y)\n",
    "            prob, dist = modelstar.predict(y)\n",
    "            grid = modelstar.config.grid\n",
    "            prob = cv2.resize(prob,  dsize=(prob.shape[1] * grid[1],prob.shape[0] * grid[0]))\n",
    "            \n",
    "            \n",
    "            #Seeds from Stardist + Whatershed, segmentation on probability map \n",
    "            Watershed, markers = WatershedwithoutMask(prob, segmentationImage.astype('uint16'), modelstar.config.grid)   \n",
    "                                                                   \n",
    "            \n",
    "            #Convert Integer image to binary\n",
    "            Binary_Watershed = Integer_to_border(Watershed[:originalX, :originalY])\n",
    "           \n",
    "            \n",
    "            #Skeletonization and deletion of non closed cells. Has to be done AFTER logical and operation \n",
    "            z = Binary_Watershed \n",
    "            z = skeletonize(z) \n",
    "            z = np.float32(z)\n",
    "            z2 = z.copy()\n",
    "            mask = np.zeros((np.array(z.shape)+2), np.uint8)\n",
    "            cv2.floodFill(z, mask, (0,0), (255))\n",
    "            z = cv2.erode(z, np.ones((3,3)))\n",
    "            z = cv2.bitwise_not(z)\n",
    "            z = cv2.bitwise_and(z,z2)\n",
    "            StardistWater_NoMask = z \n",
    "    \n",
    "            #Save different method segmentations\n",
    "            save_8bit_tiff_imagej_compatible((basedir_StardistWater_NoMask + 'StarWat_NoMask_' + os.path.basename(os.path.splitext(fname)[0]) ) , StardistWater_NoMask, axes)\n",
    "\n"
   ]
  },
  {
   "cell_type": "markdown",
   "metadata": {},
   "source": [
    "In the last cell we convert the segmented prediction in png and change the names for them to be used directly by Guirao Pipeline. We will end up with 2 folders of predictions in different formats."
   ]
  },
  {
   "cell_type": "code",
   "execution_count": 68,
   "metadata": {
    "collapsed": true,
    "jupyter": {
     "outputs_hidden": true
    }
   },
   "outputs": [
    {
     "name": "stdout",
     "output_type": "stream",
     "text": [
      "/run/media/sancere/DATA1/Segmentation_Challenge/Movie1_CyanMarkerOnly/MedianFilter3/StarWat_NoMask/StarWat_NoMask_Movie1_CyanMarkerOnly_0001\n",
      "StarWat_NoMask_Movie1_CyanMarkerOnly_0001\n",
      "/run/media/sancere/DATA1/Segmentation_Challenge/Movie1_CyanMarkerOnly/MedianFilter3/StarWat_NoMask/StarWat_NoMask_Movie1_CyanMarkerOnly_0002\n",
      "StarWat_NoMask_Movie1_CyanMarkerOnly_0002\n",
      "/run/media/sancere/DATA1/Segmentation_Challenge/Movie1_CyanMarkerOnly/MedianFilter3/StarWat_NoMask/StarWat_NoMask_Movie1_CyanMarkerOnly_0003\n",
      "StarWat_NoMask_Movie1_CyanMarkerOnly_0003\n",
      "/run/media/sancere/DATA1/Segmentation_Challenge/Movie1_CyanMarkerOnly/MedianFilter3/StarWat_NoMask/StarWat_NoMask_Movie1_CyanMarkerOnly_0004\n",
      "StarWat_NoMask_Movie1_CyanMarkerOnly_0004\n",
      "/run/media/sancere/DATA1/Segmentation_Challenge/Movie1_CyanMarkerOnly/MedianFilter3/StarWat_NoMask/StarWat_NoMask_Movie1_CyanMarkerOnly_0005\n",
      "StarWat_NoMask_Movie1_CyanMarkerOnly_0005\n",
      "/run/media/sancere/DATA1/Segmentation_Challenge/Movie1_CyanMarkerOnly/MedianFilter3/StarWat_NoMask/StarWat_NoMask_Movie1_CyanMarkerOnly_0006\n",
      "StarWat_NoMask_Movie1_CyanMarkerOnly_0006\n",
      "/run/media/sancere/DATA1/Segmentation_Challenge/Movie1_CyanMarkerOnly/MedianFilter3/StarWat_NoMask/StarWat_NoMask_Movie1_CyanMarkerOnly_0007\n",
      "StarWat_NoMask_Movie1_CyanMarkerOnly_0007\n",
      "/run/media/sancere/DATA1/Segmentation_Challenge/Movie1_CyanMarkerOnly/MedianFilter3/StarWat_NoMask/StarWat_NoMask_Movie1_CyanMarkerOnly_0008\n",
      "StarWat_NoMask_Movie1_CyanMarkerOnly_0008\n",
      "/run/media/sancere/DATA1/Segmentation_Challenge/Movie1_CyanMarkerOnly/MedianFilter3/StarWat_NoMask/StarWat_NoMask_Movie1_CyanMarkerOnly_0009\n",
      "StarWat_NoMask_Movie1_CyanMarkerOnly_0009\n",
      "/run/media/sancere/DATA1/Segmentation_Challenge/Movie1_CyanMarkerOnly/MedianFilter3/StarWat_NoMask/StarWat_NoMask_Movie1_CyanMarkerOnly_0010\n",
      "StarWat_NoMask_Movie1_CyanMarkerOnly_0010\n",
      "/run/media/sancere/DATA1/Segmentation_Challenge/Movie1_CyanMarkerOnly/MedianFilter3/StarWat_NoMask/StarWat_NoMask_Movie1_CyanMarkerOnly_0011\n",
      "StarWat_NoMask_Movie1_CyanMarkerOnly_0011\n",
      "/run/media/sancere/DATA1/Segmentation_Challenge/Movie1_CyanMarkerOnly/MedianFilter3/StarWat_NoMask/StarWat_NoMask_Movie1_CyanMarkerOnly_0012\n",
      "StarWat_NoMask_Movie1_CyanMarkerOnly_0012\n",
      "/run/media/sancere/DATA1/Segmentation_Challenge/Movie1_CyanMarkerOnly/MedianFilter3/StarWat_NoMask/StarWat_NoMask_Movie1_CyanMarkerOnly_0013\n",
      "StarWat_NoMask_Movie1_CyanMarkerOnly_0013\n",
      "/run/media/sancere/DATA1/Segmentation_Challenge/Movie1_CyanMarkerOnly/MedianFilter3/StarWat_NoMask/StarWat_NoMask_Movie1_CyanMarkerOnly_0014\n",
      "StarWat_NoMask_Movie1_CyanMarkerOnly_0014\n",
      "/run/media/sancere/DATA1/Segmentation_Challenge/Movie1_CyanMarkerOnly/MedianFilter3/StarWat_NoMask/StarWat_NoMask_Movie1_CyanMarkerOnly_0015\n",
      "StarWat_NoMask_Movie1_CyanMarkerOnly_0015\n"
     ]
    }
   ],
   "source": [
    "import png\n",
    "\n",
    "Path(basedir_StardistWater_NoMask_RTGPipeline).mkdir(exist_ok = True)\n",
    "\n",
    "Raw_path_2 = os.path.join(basedir_StardistWater_NoMask, '*') #tif or TIF be careful\n",
    "axis_norm = (0,1)   # normalize channels independently\n",
    "axes = 'XY'\n",
    "filesRaw_2 = glob.glob(Raw_path_2)\n",
    "\n",
    "    \n",
    "for fname in filesRaw_2:\n",
    "    z = imread(fname)\n",
    "    z = 255 * z\n",
    "    z = cv2.bitwise_not(z)\n",
    "    name = str(os.path.basename(os.path.splitext(fname)[0])).rstrip(\".tif\")\n",
    "    png.from_array(z, mode=\"L\").save(basedir_StardistWater_NoMask_RTGPipeline + name.replace(\"StarWat_NoMask_\",'seg_') + '.png') "
   ]
  },
  {
   "cell_type": "code",
   "execution_count": null,
   "metadata": {},
   "outputs": [],
   "source": []
  }
 ],
 "metadata": {
  "kernelspec": {
   "display_name": "Python 3",
   "language": "python",
   "name": "python3"
  },
  "language_info": {
   "codemirror_mode": {
    "name": "ipython",
    "version": 3
   },
   "file_extension": ".py",
   "mimetype": "text/x-python",
   "name": "python",
   "nbconvert_exporter": "python",
   "pygments_lexer": "ipython3",
   "version": "3.6.10"
  }
 },
 "nbformat": 4,
 "nbformat_minor": 4
}
