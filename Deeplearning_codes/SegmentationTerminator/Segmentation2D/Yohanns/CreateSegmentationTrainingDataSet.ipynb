{
 "cells": [
  {
   "cell_type": "markdown",
   "metadata": {},
   "source": [
    "## Create StarWat/SmartSeeds Training Data Set ##"
   ]
  },
  {
   "cell_type": "markdown",
   "metadata": {},
   "source": [
    "In this notebook we will create Label images from segmented images in order to generate the StarWat (or SmartSeeds) training set and then apply the segmentation prediction."
   ]
  },
  {
   "cell_type": "markdown",
   "metadata": {},
   "source": [
    "We need corrected segmentations (binary images) of projected images as input data, and we will label all the cells that are present in these segmentations."
   ]
  },
  {
   "cell_type": "markdown",
   "metadata": {},
   "source": [
    "First we import all we need. Note that a Terminator folder containing functions that we need must be located in a grandparent folder because of `sys.path.append(\"../../Terminator\")sys.path.append(\"../../Terminator\")`. "
   ]
  },
  {
   "cell_type": "code",
   "execution_count": null,
   "metadata": {},
   "outputs": [],
   "source": [
    "import os\n",
    "import glob\n",
    "from skimage.morphology import erosion, dilation, square, diamond, disk, star,  cube, octahedron, ball, octagon\n",
    "from tifffile import imread\n",
    "import sys\n",
    "sys.path.append(\"../../Terminator\")\n",
    "from TerminatorUtils.helpers import save_tiff_imagej_compatible,invert, MakeLabels,CCLabels, normalizeFloatZeroOne,save_8bit_tiff_imagej_compatible, remove_big_objects\n",
    "import imageio\n",
    "from skimage.measure import label\n",
    "import matplotlib.pyplot as plt\n",
    "try:\n",
    "    from pathlib import Path\n",
    "    Path().expanduser()\n",
    "except (ImportError, AttributeError):a\n",
    "        from pathlib2 import Path\n",
    "\n",
    "try:\n",
    "        import tempfile\n",
    "        tempfile.TemporaryDirectory\n",
    "except (ImportError, AttributeError):\n",
    "       from backports import tempfile\n",
    "        \n",
    "        \n",
    "from skimage.measure import label\n",
    "from scipy.ndimage.morphology import  binary_dilation\n",
    "from skimage.util import invert as invertimage\n",
    "import numpy as np"
   ]
  },
  {
   "cell_type": "markdown",
   "metadata": {},
   "source": [
    "We then need to provide the path of the folder containing the binary corrected segmentations and the path where we want the result to be put in."
   ]
  },
  {
   "cell_type": "markdown",
   "metadata": {},
   "source": [
    "Then we create the `Integerresultsdir`  folder were the prediction will be stored if the folder doesn't exist yet. We then list all the files with the given file extension (* *choose extenstion*) in the `Binarydir` folder."
   ]
  },
  {
   "cell_type": "code",
   "execution_count": 4,
   "metadata": {},
   "outputs": [],
   "source": [
    "# Exemple :\n",
    "# Binarydir = '/run/user/1001/gvfs/smb-share:server=isiserver.curie.net,share=u934/equipe_bellaiche/l_sancere/Training_Data_Sets/Training_Stardist/Generating_Data/CropSegmented/'\n",
    "# Integerresultsdir = '/run/user/1001/gvfs/smb-share:server=isiserver.curie.net,share=u934/equipe_bellaiche/l_sancere/Training_Data_Sets/Training_Stardist/Generating_Data/CropIntegerSegmentedTif/'\n",
    "\n",
    "Binarydir = '/run/user/1000/gvfs/smb-share:server=isiserver.curie.net,share=u934/equipe_bellaiche/l_sancere/WildType_Management/wt_N10_Reduced_starwat_v2.3.1_3frames_corrected/StarWatBin12Grid11/Segmented/'\n",
    "Integerresultsdir = '/run/user/1000/gvfs/smb-share:server=isiserver.curie.net,share=u934/equipe_bellaiche/l_sancere/WildType_Management/wt_N10_Reduced_starwat_v2.3.1_3frames_corrected/StarWatBin12Grid11/IntegerSegmented/'\n",
    "\n",
    "Path(Integerresultsdir).mkdir(exist_ok = True)\n",
    "Raw_path = os.path.join(Binarydir, '*tif')\n",
    "filesRaw = glob.glob(Raw_path)\n",
    "axes = 'YX'\n"
   ]
  },
  {
   "cell_type": "markdown",
   "metadata": {},
   "source": [
    "We then apply a series of image processing steps, such as normalization, inversion, dilatation, to end up with labels for each cells having a size smaller than `max_size`."
   ]
  },
  {
   "cell_type": "markdown",
   "metadata": {},
   "source": [
    "Once the Label images are created (also named Integer Images), one can use it as groundtruths for a segmentation training, using CARE projected images as input."
   ]
  },
  {
   "cell_type": "code",
   "execution_count": null,
   "metadata": {},
   "outputs": [],
   "source": [
    "\n",
    "max_size = 15000\n",
    "for fname in filesRaw:\n",
    "            BinaryImageOriginal = imread(fname)\n",
    "            Orig = normalizeFloatZeroOne(BinaryImageOriginal)\n",
    "            InvertedBinaryImage = invert(BinaryImageOriginal)\n",
    "            BinaryImage = normalizeFloatZeroOne(InvertedBinaryImage)\n",
    "            image = binary_dilation(BinaryImage)\n",
    "            image = invertimage(image)\n",
    "            IntegerImage = label(image)\n",
    "            labelclean = remove_big_objects(IntegerImage, max_size = max_size) \n",
    "            AugmentedLabel = dilation(labelclean, selem = square(3) )\n",
    "          # AugmentedLabel = dilation(AugmentedLabel)\n",
    "            AugmentedLabel = np.multiply(AugmentedLabel ,  Orig)\n",
    "            Name = os.path.basename(os.path.splitext(fname)[0])\n",
    "            \n",
    "              \n",
    "            save_tiff_imagej_compatible((Integerresultsdir  + Name + '.tif' ) , AugmentedLabel, axes)\n",
    "\n"
   ]
  }
 ],
 "metadata": {
  "kernelspec": {
   "display_name": "Python 3",
   "language": "python",
   "name": "python3"
  },
  "language_info": {
   "codemirror_mode": {
    "name": "ipython",
    "version": 3
   },
   "file_extension": ".py",
   "mimetype": "text/x-python",
   "name": "python",
   "nbconvert_exporter": "python",
   "pygments_lexer": "ipython3",
   "version": "3.6.10"
  }
 },
 "nbformat": 4,
 "nbformat_minor": 4
}
