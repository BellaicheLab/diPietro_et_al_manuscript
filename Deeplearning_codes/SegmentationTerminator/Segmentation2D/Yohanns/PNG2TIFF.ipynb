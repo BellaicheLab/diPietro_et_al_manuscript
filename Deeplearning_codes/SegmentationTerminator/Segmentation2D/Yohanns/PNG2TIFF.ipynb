{
 "cells": [
  {
   "cell_type": "markdown",
   "metadata": {},
   "source": [
    "## PNG to TIFF ##\n",
    "\n",
    "Convert PNG images into TIFF images. One can also use imageJ software to perform the task.\n"
   ]
  },
  {
   "cell_type": "code",
   "execution_count": 3,
   "metadata": {},
   "outputs": [],
   "source": [
    "import os\n",
    "import glob\n",
    "from tifffile import imread\n",
    "from utils import save_tiff_imagej_compatible, invert, MakeLabels, normalizeFloatZeroOne,save_8bit_tiff_imagej_compatible\n",
    "import imageio\n",
    "from skimage.measure import label\n",
    "import matplotlib.pyplot as plt\n",
    "try:\n",
    "    from pathlib import Path\n",
    "    Path().expanduser()\n",
    "except (ImportError, AttributeError):\n",
    "        from pathlib2 import Path\n",
    "\n",
    "try:\n",
    "        import tempfile\n",
    "        tempfile.TemporaryDirectory\n",
    "except (ImportError, AttributeError):\n",
    "       from backports import tempfile"
   ]
  },
  {
   "cell_type": "code",
   "execution_count": 4,
   "metadata": {},
   "outputs": [],
   "source": [
    "sourcedir = '/run/user/1000/gvfs/smb-share:server=isiserver.curie.net,share=u934/equipe_bellaiche/l_sancere/Training_Data_Sets/Training_StarWat/Training_Data_Movies_Segmentations/Boris_Data_TurdJoke_Images/Segmented_PNGs/'\n",
    "targetdir = '/run/user/1000/gvfs/smb-share:server=isiserver.curie.net,share=u934/equipe_bellaiche/l_sancere/Training_Data_Sets/Training_StarWat/Training_Data_Movies_Segmentations/Boris_Data_TurdJoke_Images/Segmented/'\n",
    "Path(targetdir).mkdir(exist_ok = True)\n",
    "Raw_path = os.path.join(sourcedir, '*png')\n",
    "X = glob.glob(Raw_path)\n",
    "axes = 'YX'\n"
   ]
  },
  {
   "cell_type": "code",
   "execution_count": 5,
   "metadata": {},
   "outputs": [],
   "source": [
    "filesRaw = glob.glob(Raw_path)\n",
    "           \n",
    "for fname in filesRaw:\n",
    "    y = imageio.imread(fname)\n",
    "    y = y.astype('uint8')\n",
    "    Name = os.path.basename(os.path.splitext(fname)[0])\n",
    "    save_tiff_imagej_compatible((targetdir  + Name + '.tif' ) , y, axes)\n",
    "    "
   ]
  }
 ],
 "metadata": {
  "kernelspec": {
   "display_name": "Python 3",
   "language": "python",
   "name": "python3"
  },
  "language_info": {
   "codemirror_mode": {
    "name": "ipython",
    "version": 3
   },
   "file_extension": ".py",
   "mimetype": "text/x-python",
   "name": "python",
   "nbconvert_exporter": "python",
   "pygments_lexer": "ipython3",
   "version": "3.6.10"
  }
 },
 "nbformat": 4,
 "nbformat_minor": 4
}
