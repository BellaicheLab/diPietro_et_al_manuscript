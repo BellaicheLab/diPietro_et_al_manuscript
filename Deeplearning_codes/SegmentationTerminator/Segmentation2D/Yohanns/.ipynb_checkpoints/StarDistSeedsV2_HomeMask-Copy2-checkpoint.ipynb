{
 "cells": [
  {
   "cell_type": "code",
   "execution_count": 1,
   "metadata": {},
   "outputs": [
    {
     "name": "stderr",
     "output_type": "stream",
     "text": [
      "Using TensorFlow backend.\n"
     ]
    }
   ],
   "source": [
    "from __future__ import print_function, unicode_literals, absolute_import, division\n",
    "import sys\n",
    "import os\n",
    "import cv2\n",
    "\n",
    "#To run the prediction on the GPU, else comment out this line to use the CPU\n",
    "os.environ[\"CUDA_VISIBLE_DEVICES\"]=\"0\"\n",
    "\n",
    "from csbdeep.utils.tf import limit_gpu_memory\n",
    "from skimage.filters import threshold_otsu\n",
    "import numpy as np\n",
    "import matplotlib.pyplot as plt\n",
    "%matplotlib inline\n",
    "%config InlineBackend.figure_format = 'retina'\n",
    "sys.path.append('../Terminator/')\n",
    "\n",
    "from IPython.display import clear_output\n",
    "import glob\n",
    "from tifffile import imread\n",
    "import tqdm\n",
    "from csbdeep.utils import Path, normalize\n",
    "from stardist import random_label_cmap, _draw_polygons,dist_to_coord\n",
    "from stardist.models import StarDist2D\n",
    "from TerminatorUtils.helpers import normalizeFloat, OtsuThreshold2D, save_8bit_tiff_imagej_compatible,Integer_to_border,SeedStarDistWatershed\n",
    "from TerminatorUtils.helpers import Prob_to_Binary, zero_pad\n",
    "from TerminatorUtils.helpers import save_tiff_imagej_compatible\n",
    "from csbdeep.models import Config, CARE\n",
    "np.random.seed(6)\n",
    "lbl_cmap = random_label_cmap()\n",
    "\n",
    "from skimage.morphology import remove_small_objects\n",
    "from skimage.morphology import skeletonize\n",
    "\n",
    "\n",
    "import time "
   ]
  },
  {
   "cell_type": "code",
   "execution_count": 2,
   "metadata": {},
   "outputs": [],
   "source": [
    "basedir = '/run/user/1001/gvfs/smb-share:server=isiserver.curie.net,share=u934/equipe_bellaiche/l_sancere/Tests_DL_Models/Test_StarWat_bin1_bin2_v2.1_v2.4/wt_N10_reduced_bin1'\n",
    "\n",
    "basedir_StardistWater_FijiMask = '/run/user/1001/gvfs/smb-share:server=isiserver.curie.net,share=u934/equipe_bellaiche/l_sancere/Tests_DL_Models/Test_StarWat_bin1_bin2_v2.1_v2.4/wt_N10_reduced_bin1/StarWat_FijiMask_v2.4.1/'\n",
    "basedir_StardistWater_FijiMask_RTGPipeline = '/run/user/1001/gvfs/smb-share:server=isiserver.curie.net,share=u934/equipe_bellaiche/l_sancere/Tests_DL_Models/Test_StarWat_bin1_bin2_v2.1_v2.4/wt_N10_reduced_bin1/StarWat_FijiMask_RTGPipeline_v2.3.1/'\n",
    "\n",
    "Model_Dir = '/home/sancere/NextonDisk_1/Lucas_Model_to_use/DrosophilaSegmentation'"
   ]
  },
  {
   "cell_type": "code",
   "execution_count": 3,
   "metadata": {
    "collapsed": true,
    "jupyter": {
     "outputs_hidden": true
    }
   },
   "outputs": [
    {
     "name": "stdout",
     "output_type": "stream",
     "text": [
      "WARNING:tensorflow:From /home/sancere/anaconda3/envs/tensorflowGPU/lib/python3.6/site-packages/keras/backend/tensorflow_backend.py:541: The name tf.placeholder is deprecated. Please use tf.compat.v1.placeholder instead.\n",
      "\n",
      "WARNING:tensorflow:From /home/sancere/anaconda3/envs/tensorflowGPU/lib/python3.6/site-packages/keras/backend/tensorflow_backend.py:66: The name tf.get_default_graph is deprecated. Please use tf.compat.v1.get_default_graph instead.\n",
      "\n",
      "WARNING:tensorflow:From /home/sancere/anaconda3/envs/tensorflowGPU/lib/python3.6/site-packages/keras/backend/tensorflow_backend.py:4432: The name tf.random_uniform is deprecated. Please use tf.random.uniform instead.\n",
      "\n",
      "WARNING:tensorflow:From /home/sancere/anaconda3/envs/tensorflowGPU/lib/python3.6/site-packages/keras/backend/tensorflow_backend.py:4267: The name tf.nn.max_pool is deprecated. Please use tf.nn.max_pool2d instead.\n",
      "\n",
      "WARNING:tensorflow:From /home/sancere/anaconda3/envs/tensorflowGPU/lib/python3.6/site-packages/keras/backend/tensorflow_backend.py:2239: The name tf.image.resize_nearest_neighbor is deprecated. Please use tf.compat.v1.image.resize_nearest_neighbor instead.\n",
      "\n",
      "Loading network weights from 'weights_best.h5'.\n",
      "WARNING:tensorflow:From /home/sancere/anaconda3/envs/tensorflowGPU/lib/python3.6/site-packages/keras/backend/tensorflow_backend.py:190: The name tf.get_default_session is deprecated. Please use tf.compat.v1.get_default_session instead.\n",
      "\n",
      "WARNING:tensorflow:From /home/sancere/anaconda3/envs/tensorflowGPU/lib/python3.6/site-packages/keras/backend/tensorflow_backend.py:197: The name tf.ConfigProto is deprecated. Please use tf.compat.v1.ConfigProto instead.\n",
      "\n",
      "WARNING:tensorflow:From /home/sancere/anaconda3/envs/tensorflowGPU/lib/python3.6/site-packages/keras/backend/tensorflow_backend.py:203: The name tf.Session is deprecated. Please use tf.compat.v1.Session instead.\n",
      "\n",
      "WARNING:tensorflow:From /home/sancere/anaconda3/envs/tensorflowGPU/lib/python3.6/site-packages/keras/backend/tensorflow_backend.py:207: The name tf.global_variables is deprecated. Please use tf.compat.v1.global_variables instead.\n",
      "\n",
      "WARNING:tensorflow:From /home/sancere/anaconda3/envs/tensorflowGPU/lib/python3.6/site-packages/keras/backend/tensorflow_backend.py:216: The name tf.is_variable_initialized is deprecated. Please use tf.compat.v1.is_variable_initialized instead.\n",
      "\n",
      "WARNING:tensorflow:From /home/sancere/anaconda3/envs/tensorflowGPU/lib/python3.6/site-packages/keras/backend/tensorflow_backend.py:223: The name tf.variables_initializer is deprecated. Please use tf.compat.v1.variables_initializer instead.\n",
      "\n",
      "Couldn't load thresholds from 'thresholds.json', using default values. (Call 'optimize_thresholds' to change that.)\n",
      "Using default values: prob_thresh=0.5, nms_thresh=0.4.\n"
     ]
    }
   ],
   "source": [
    "StardistModelName = 'DrosophilaSegmentationSmartSeedsMatureMacroMiniElongatedCyc05LargePatch'\n",
    "\n",
    "modelstar = StarDist2D(config = None, name = StardistModelName, basedir = Model_Dir)"
   ]
  },
  {
   "cell_type": "code",
   "execution_count": 4,
   "metadata": {},
   "outputs": [
    {
     "data": {
      "text/plain": [
       "<function list.sort>"
      ]
     },
     "execution_count": 4,
     "metadata": {},
     "output_type": "execute_result"
    }
   ],
   "source": [
    "Path(basedir_StardistWater_FijiMask).mkdir(exist_ok = True)\n",
    "Raw_path = os.path.join(basedir, '*tif') #tif or TIF be careful\n",
    "axis_norm = (0,1)   # normalize channels independently\n",
    "axes = 'XY'\n",
    "filesRaw = glob.glob(Raw_path)\n",
    "filesRaw.sort"
   ]
  },
  {
   "cell_type": "code",
   "execution_count": null,
   "metadata": {},
   "outputs": [
    {
     "name": "stdout",
     "output_type": "stream",
     "text": [
      "Processing file /run/user/1000/gvfs/smb-share:server=isiserver.curie.net,share=u934/equipe_bellaiche/l_sancere/Tests_DL_Models/Test_StarWat_bin1_bin2_v2.1_v2.4/Diap1_1a_bin2/DIAP_c1_mov1a_0074.tif\n"
     ]
    }
   ],
   "source": [
    "for fname in filesRaw:\n",
    " \n",
    "    if os.path.exists((basedir_StardistWater_FijiMask + 'StarWat_FijiMask_' + os.path.basename(os.path.splitext(fname)[0]))) == False :\n",
    "        \n",
    "            # Name = os.path.basename(os.path.splitext(fname)[0])\n",
    "            x = imread(fname)\n",
    "            y = normalizeFloat(x,1,99.8, axis = axis_norm)\n",
    "            originalX = x.shape[0]\n",
    "            originalY = x.shape[1]\n",
    "        \n",
    "            #zero pad aand 8bit conversion after normalization\n",
    "            y = zero_pad(y, 32, 32)\n",
    "            print('Processing file', fname)              \n",
    "           \n",
    "            #Stardist, label image, details, probability map, distance map \n",
    "            segmentationImage, details = modelstar.predict_instances(y)\n",
    "            prob, dist = modelstar.predict(y)\n",
    "            grid = modelstar.config.grid\n",
    "            prob = cv2.resize(prob,  dsize=(prob.shape[1] * grid[1],prob.shape[0] * grid[0]))\n",
    "            \n",
    "            \n",
    "            #Seeds from Stardist + Whatershed, segmentation on probability map \n",
    "            Watershed, markers = SeedStarDistWatershed(prob,details['points'],modelstar.config.grid) \n",
    "                                                                   \n",
    "            \n",
    "            #Convert Integer image to binary\n",
    "            Binary_Watershed = Integer_to_border(Watershed[:originalX, :originalY])\n",
    "                       \n",
    "                                                       \n",
    "            #Generation of masks                             \n",
    "            HomeMadeMask = cv2.imread(fname.replace('.tif','_Mask.png'))\n",
    "            HomeMadeMask = HomeMadeMask[:,:,0]\n",
    "           \n",
    "                                                                               \n",
    "            #Create StardistWater_StardistMask and StardistWater_UnetMask with logical and operation            \n",
    "            StardistWater_FijiMask = np.logical_and(HomeMadeMask, Binary_Watershed)\n",
    "           \n",
    "        \n",
    "            #Skeletonization and deletion of non closed cells. Has to be done AFTER logical and operation \n",
    "            z = StardistWater_FijiMask \n",
    "            z = skeletonize(z) \n",
    "            z = np.float32(z)\n",
    "            z2 = z.copy()\n",
    "            mask = np.zeros((np.array(z.shape)+2), np.uint8)\n",
    "            cv2.floodFill(z, mask, (0,0), (255))\n",
    "            z = cv2.erode(z, np.ones((3,3)))\n",
    "            z = cv2.bitwise_not(z)\n",
    "            z = cv2.bitwise_and(z,z2)\n",
    "            StardistWater_FijiMask = z \n",
    "    \n",
    "            #Save different method segmentations\n",
    "            save_8bit_tiff_imagej_compatible((basedir_StardistWater_FijiMask + 'StarWat_FijiMask_' + os.path.basename(os.path.splitext(fname)[0]) ) , StardistWater_FijiMask, axes)\n"
   ]
  },
  {
   "cell_type": "code",
   "execution_count": null,
   "metadata": {},
   "outputs": [],
   "source": [
    "from PIL import Image \n",
    "import png\n",
    "\n",
    "Path(basedir_StardistWater_FijiMask_RTGPipeline).mkdir(exist_ok = True)\n",
    "\n",
    "Raw_path_2 = os.path.join(basedir_StardistWater_FijiMask, '*') #tif or TIF be careful\n",
    "axis_norm = (0,1)   # normalize channels independently\n",
    "axes = 'XY'\n",
    "filesRaw_2 = glob.glob(Raw_path_2)\n",
    "\n",
    "\n",
    "name_of_file = \"Lucas Reminder Format\"\n",
    "completeName = os.path.join(basedir_StardistWater_FijiMask_RTGPipeline, name_of_file + \".txt\")         \n",
    "file = open(completeName, \"w\")\n",
    "file.write(\"If Matlab Pipeline error appears it might be the format '8bit-color'. Can't be generated by python. Run the Pipeline from Cleaning Filter. Email Stephane for LOCALISATION in Pipeline\")\n",
    "file.close()\n",
    "\n",
    "\n",
    "    \n",
    "for fname in filesRaw_2:\n",
    "    z = imread(fname)\n",
    "    z = 255 * z\n",
    "    z = cv2.bitwise_not(z)\n",
    "    name = str(os.path.basename(os.path.splitext(fname)[0])).rstrip(\".tif\")\n",
    "    png.from_array(z, mode=\"L\").save(basedir_StardistWater_FijiMask_RTGPipeline + name.replace(\"StarWat_FijiMask_\",'seg_') + '.png') \n"
   ]
  },
  {
   "cell_type": "code",
   "execution_count": 2,
   "metadata": {},
   "outputs": [],
   "source": [
    "basedir = '/run/user/1001/gvfs/smb-share:server=isiserver.curie.net,share=u934/equipe_bellaiche/l_sancere/Tests_DL_Models/Test_StarWat_bin1_bin2_v2.1_v2.4/wt_N10_reduced_bin1'\n",
    "\n",
    "basedir_StardistWater_FijiMask = '/run/user/1001/gvfs/smb-share:server=isiserver.curie.net,share=u934/equipe_bellaiche/l_sancere/Tests_DL_Models/Test_StarWat_bin1_bin2_v2.1_v2.4/wt_N10_reduced_bin1/StarWat_FijiMask_v2.3.1/'\n",
    "basedir_StardistWater_FijiMask_RTGPipeline = '/run/user/1001/gvfs/smb-share:server=isiserver.curie.net,share=u934/equipe_bellaiche/l_sancere/Tests_DL_Models/Test_StarWat_bin1_bin2_v2.1_v2.4/wt_N10_reduced_bin1/StarWat_FijiMask_RTGPipeline_v2.3.1/'\n",
    "\n",
    "Model_Dir = '/home/sancere/NextonDisk_1/Lucas_Model_to_use/DrosophilaSegmentation'"
   ]
  },
  {
   "cell_type": "code",
   "execution_count": 3,
   "metadata": {
    "collapsed": true,
    "jupyter": {
     "outputs_hidden": true
    }
   },
   "outputs": [
    {
     "name": "stdout",
     "output_type": "stream",
     "text": [
      "WARNING:tensorflow:From /home/sancere/anaconda3/envs/tensorflowGPU/lib/python3.6/site-packages/keras/backend/tensorflow_backend.py:541: The name tf.placeholder is deprecated. Please use tf.compat.v1.placeholder instead.\n",
      "\n",
      "WARNING:tensorflow:From /home/sancere/anaconda3/envs/tensorflowGPU/lib/python3.6/site-packages/keras/backend/tensorflow_backend.py:66: The name tf.get_default_graph is deprecated. Please use tf.compat.v1.get_default_graph instead.\n",
      "\n",
      "WARNING:tensorflow:From /home/sancere/anaconda3/envs/tensorflowGPU/lib/python3.6/site-packages/keras/backend/tensorflow_backend.py:4432: The name tf.random_uniform is deprecated. Please use tf.random.uniform instead.\n",
      "\n",
      "WARNING:tensorflow:From /home/sancere/anaconda3/envs/tensorflowGPU/lib/python3.6/site-packages/keras/backend/tensorflow_backend.py:4267: The name tf.nn.max_pool is deprecated. Please use tf.nn.max_pool2d instead.\n",
      "\n",
      "WARNING:tensorflow:From /home/sancere/anaconda3/envs/tensorflowGPU/lib/python3.6/site-packages/keras/backend/tensorflow_backend.py:2239: The name tf.image.resize_nearest_neighbor is deprecated. Please use tf.compat.v1.image.resize_nearest_neighbor instead.\n",
      "\n",
      "Loading network weights from 'weights_best.h5'.\n",
      "WARNING:tensorflow:From /home/sancere/anaconda3/envs/tensorflowGPU/lib/python3.6/site-packages/keras/backend/tensorflow_backend.py:190: The name tf.get_default_session is deprecated. Please use tf.compat.v1.get_default_session instead.\n",
      "\n",
      "WARNING:tensorflow:From /home/sancere/anaconda3/envs/tensorflowGPU/lib/python3.6/site-packages/keras/backend/tensorflow_backend.py:197: The name tf.ConfigProto is deprecated. Please use tf.compat.v1.ConfigProto instead.\n",
      "\n",
      "WARNING:tensorflow:From /home/sancere/anaconda3/envs/tensorflowGPU/lib/python3.6/site-packages/keras/backend/tensorflow_backend.py:203: The name tf.Session is deprecated. Please use tf.compat.v1.Session instead.\n",
      "\n",
      "WARNING:tensorflow:From /home/sancere/anaconda3/envs/tensorflowGPU/lib/python3.6/site-packages/keras/backend/tensorflow_backend.py:207: The name tf.global_variables is deprecated. Please use tf.compat.v1.global_variables instead.\n",
      "\n",
      "WARNING:tensorflow:From /home/sancere/anaconda3/envs/tensorflowGPU/lib/python3.6/site-packages/keras/backend/tensorflow_backend.py:216: The name tf.is_variable_initialized is deprecated. Please use tf.compat.v1.is_variable_initialized instead.\n",
      "\n",
      "WARNING:tensorflow:From /home/sancere/anaconda3/envs/tensorflowGPU/lib/python3.6/site-packages/keras/backend/tensorflow_backend.py:223: The name tf.variables_initializer is deprecated. Please use tf.compat.v1.variables_initializer instead.\n",
      "\n",
      "Couldn't load thresholds from 'thresholds.json', using default values. (Call 'optimize_thresholds' to change that.)\n",
      "Using default values: prob_thresh=0.5, nms_thresh=0.4.\n"
     ]
    }
   ],
   "source": [
    "StardistModelName = 'DrosophilaSegmentationSmartSeedsMatureMacroMiniElongatedLargePatch'\n",
    "\n",
    "modelstar = StarDist2D(config = None, name = StardistModelName, basedir = Model_Dir)"
   ]
  },
  {
   "cell_type": "code",
   "execution_count": 4,
   "metadata": {},
   "outputs": [
    {
     "data": {
      "text/plain": [
       "<function list.sort>"
      ]
     },
     "execution_count": 4,
     "metadata": {},
     "output_type": "execute_result"
    }
   ],
   "source": [
    "Path(basedir_StardistWater_FijiMask).mkdir(exist_ok = True)\n",
    "Raw_path = os.path.join(basedir, '*tif') #tif or TIF be careful\n",
    "axis_norm = (0,1)   # normalize channels independently\n",
    "axes = 'XY'\n",
    "filesRaw = glob.glob(Raw_path)\n",
    "filesRaw.sort"
   ]
  },
  {
   "cell_type": "code",
   "execution_count": null,
   "metadata": {},
   "outputs": [
    {
     "name": "stdout",
     "output_type": "stream",
     "text": [
      "Processing file /run/user/1000/gvfs/smb-share:server=isiserver.curie.net,share=u934/equipe_bellaiche/l_sancere/Tests_DL_Models/Test_StarWat_bin1_bin2_v2.1_v2.4/Diap1_1a_bin2/DIAP_c1_mov1a_0074.tif\n"
     ]
    }
   ],
   "source": [
    "for fname in filesRaw:\n",
    " \n",
    "    if os.path.exists((basedir_StardistWater_FijiMask + 'StarWat_FijiMask_' + os.path.basename(os.path.splitext(fname)[0]))) == False :\n",
    "        \n",
    "            # Name = os.path.basename(os.path.splitext(fname)[0])\n",
    "            x = imread(fname)\n",
    "            y = normalizeFloat(x,1,99.8, axis = axis_norm)\n",
    "            originalX = x.shape[0]\n",
    "            originalY = x.shape[1]\n",
    "        \n",
    "            #zero pad aand 8bit conversion after normalization\n",
    "            y = zero_pad(y, 32, 32)\n",
    "            print('Processing file', fname)              \n",
    "           \n",
    "            #Stardist, label image, details, probability map, distance map \n",
    "            segmentationImage, details = modelstar.predict_instances(y)\n",
    "            prob, dist = modelstar.predict(y)\n",
    "            grid = modelstar.config.grid\n",
    "            prob = cv2.resize(prob,  dsize=(prob.shape[1] * grid[1],prob.shape[0] * grid[0]))\n",
    "            \n",
    "            \n",
    "            #Seeds from Stardist + Whatershed, segmentation on probability map \n",
    "            Watershed, markers = SeedStarDistWatershed(prob,details['points'],modelstar.config.grid) \n",
    "                                                                   \n",
    "            \n",
    "            #Convert Integer image to binary\n",
    "            Binary_Watershed = Integer_to_border(Watershed[:originalX, :originalY])\n",
    "                       \n",
    "                                                       \n",
    "            #Generation of masks                             \n",
    "            HomeMadeMask = cv2.imread(fname.replace('.tif','_Mask.png'))\n",
    "            HomeMadeMask = HomeMadeMask[:,:,0]\n",
    "           \n",
    "                                                                               \n",
    "            #Create StardistWater_StardistMask and StardistWater_UnetMask with logical and operation            \n",
    "            StardistWater_FijiMask = np.logical_and(HomeMadeMask, Binary_Watershed)\n",
    "           \n",
    "        \n",
    "            #Skeletonization and deletion of non closed cells. Has to be done AFTER logical and operation \n",
    "            z = StardistWater_FijiMask \n",
    "            z = skeletonize(z) \n",
    "            z = np.float32(z)\n",
    "            z2 = z.copy()\n",
    "            mask = np.zeros((np.array(z.shape)+2), np.uint8)\n",
    "            cv2.floodFill(z, mask, (0,0), (255))\n",
    "            z = cv2.erode(z, np.ones((3,3)))\n",
    "            z = cv2.bitwise_not(z)\n",
    "            z = cv2.bitwise_and(z,z2)\n",
    "            StardistWater_FijiMask = z \n",
    "    \n",
    "            #Save different method segmentations\n",
    "            save_8bit_tiff_imagej_compatible((basedir_StardistWater_FijiMask + 'StarWat_FijiMask_' + os.path.basename(os.path.splitext(fname)[0]) ) , StardistWater_FijiMask, axes)\n"
   ]
  },
  {
   "cell_type": "code",
   "execution_count": null,
   "metadata": {},
   "outputs": [],
   "source": [
    "from PIL import Image \n",
    "import png\n",
    "\n",
    "Path(basedir_StardistWater_FijiMask_RTGPipeline).mkdir(exist_ok = True)\n",
    "\n",
    "Raw_path_2 = os.path.join(basedir_StardistWater_FijiMask, '*') #tif or TIF be careful\n",
    "axis_norm = (0,1)   # normalize channels independently\n",
    "axes = 'XY'\n",
    "filesRaw_2 = glob.glob(Raw_path_2)\n",
    "\n",
    "\n",
    "name_of_file = \"Lucas Reminder Format\"\n",
    "completeName = os.path.join(basedir_StardistWater_FijiMask_RTGPipeline, name_of_file + \".txt\")         \n",
    "file = open(completeName, \"w\")\n",
    "file.write(\"If Matlab Pipeline error appears it might be the format '8bit-color'. Can't be generated by python. Run the Pipeline from Cleaning Filter. Email Stephane for LOCALISATION in Pipeline\")\n",
    "file.close()\n",
    "\n",
    "\n",
    "    \n",
    "for fname in filesRaw_2:\n",
    "    z = imread(fname)\n",
    "    z = 255 * z\n",
    "    z = cv2.bitwise_not(z)\n",
    "    name = str(os.path.basename(os.path.splitext(fname)[0])).rstrip(\".tif\")\n",
    "    png.from_array(z, mode=\"L\").save(basedir_StardistWater_FijiMask_RTGPipeline + name.replace(\"StarWat_FijiMask_\",'seg_') + '.png') \n"
   ]
  },
  {
   "cell_type": "code",
   "execution_count": 2,
   "metadata": {},
   "outputs": [],
   "source": [
    "basedir = '/run/user/1001/gvfs/smb-share:server=isiserver.curie.net,share=u934/equipe_bellaiche/l_sancere/Tests_DL_Models/Test_StarWat_bin1_bin2_v2.1_v2.4/wt_N10_reduced_bin1'\n",
    "\n",
    "basedir_StardistWater_FijiMask = '/run/user/1001/gvfs/smb-share:server=isiserver.curie.net,share=u934/equipe_bellaiche/l_sancere/Tests_DL_Models/Test_StarWat_bin1_bin2_v2.1_v2.4/wt_N10_reduced_bin1/StarWat_FijiMask_v2.2/'\n",
    "basedir_StardistWater_FijiMask_RTGPipeline = '/run/user/1001/gvfs/smb-share:server=isiserver.curie.net,share=u934/equipe_bellaiche/l_sancere/Tests_DL_Models/Test_StarWat_bin1_bin2_v2.1_v2.4/wt_N10_reduced_bin1/StarWat_FijiMask_RTGPipeline_v2.3.1/'\n",
    "\n",
    "Model_Dir = '/home/sancere/NextonDisk_1/Lucas_Model_to_use/DrosophilaSegmentation'"
   ]
  },
  {
   "cell_type": "code",
   "execution_count": 3,
   "metadata": {
    "collapsed": true,
    "jupyter": {
     "outputs_hidden": true
    }
   },
   "outputs": [
    {
     "name": "stdout",
     "output_type": "stream",
     "text": [
      "WARNING:tensorflow:From /home/sancere/anaconda3/envs/tensorflowGPU/lib/python3.6/site-packages/keras/backend/tensorflow_backend.py:541: The name tf.placeholder is deprecated. Please use tf.compat.v1.placeholder instead.\n",
      "\n",
      "WARNING:tensorflow:From /home/sancere/anaconda3/envs/tensorflowGPU/lib/python3.6/site-packages/keras/backend/tensorflow_backend.py:66: The name tf.get_default_graph is deprecated. Please use tf.compat.v1.get_default_graph instead.\n",
      "\n",
      "WARNING:tensorflow:From /home/sancere/anaconda3/envs/tensorflowGPU/lib/python3.6/site-packages/keras/backend/tensorflow_backend.py:4432: The name tf.random_uniform is deprecated. Please use tf.random.uniform instead.\n",
      "\n",
      "WARNING:tensorflow:From /home/sancere/anaconda3/envs/tensorflowGPU/lib/python3.6/site-packages/keras/backend/tensorflow_backend.py:4267: The name tf.nn.max_pool is deprecated. Please use tf.nn.max_pool2d instead.\n",
      "\n",
      "WARNING:tensorflow:From /home/sancere/anaconda3/envs/tensorflowGPU/lib/python3.6/site-packages/keras/backend/tensorflow_backend.py:2239: The name tf.image.resize_nearest_neighbor is deprecated. Please use tf.compat.v1.image.resize_nearest_neighbor instead.\n",
      "\n",
      "Loading network weights from 'weights_best.h5'.\n",
      "WARNING:tensorflow:From /home/sancere/anaconda3/envs/tensorflowGPU/lib/python3.6/site-packages/keras/backend/tensorflow_backend.py:190: The name tf.get_default_session is deprecated. Please use tf.compat.v1.get_default_session instead.\n",
      "\n",
      "WARNING:tensorflow:From /home/sancere/anaconda3/envs/tensorflowGPU/lib/python3.6/site-packages/keras/backend/tensorflow_backend.py:197: The name tf.ConfigProto is deprecated. Please use tf.compat.v1.ConfigProto instead.\n",
      "\n",
      "WARNING:tensorflow:From /home/sancere/anaconda3/envs/tensorflowGPU/lib/python3.6/site-packages/keras/backend/tensorflow_backend.py:203: The name tf.Session is deprecated. Please use tf.compat.v1.Session instead.\n",
      "\n",
      "WARNING:tensorflow:From /home/sancere/anaconda3/envs/tensorflowGPU/lib/python3.6/site-packages/keras/backend/tensorflow_backend.py:207: The name tf.global_variables is deprecated. Please use tf.compat.v1.global_variables instead.\n",
      "\n",
      "WARNING:tensorflow:From /home/sancere/anaconda3/envs/tensorflowGPU/lib/python3.6/site-packages/keras/backend/tensorflow_backend.py:216: The name tf.is_variable_initialized is deprecated. Please use tf.compat.v1.is_variable_initialized instead.\n",
      "\n",
      "WARNING:tensorflow:From /home/sancere/anaconda3/envs/tensorflowGPU/lib/python3.6/site-packages/keras/backend/tensorflow_backend.py:223: The name tf.variables_initializer is deprecated. Please use tf.compat.v1.variables_initializer instead.\n",
      "\n",
      "Couldn't load thresholds from 'thresholds.json', using default values. (Call 'optimize_thresholds' to change that.)\n",
      "Using default values: prob_thresh=0.5, nms_thresh=0.4.\n"
     ]
    }
   ],
   "source": [
    "StardistModelName = 'DrosophilaSegmentationSmartSeedsMatureMacroElongatedBoris'\n",
    "\n",
    "modelstar = StarDist2D(config = None, name = StardistModelName, basedir = Model_Dir)"
   ]
  },
  {
   "cell_type": "code",
   "execution_count": 4,
   "metadata": {},
   "outputs": [
    {
     "data": {
      "text/plain": [
       "<function list.sort>"
      ]
     },
     "execution_count": 4,
     "metadata": {},
     "output_type": "execute_result"
    }
   ],
   "source": [
    "Path(basedir_StardistWater_FijiMask).mkdir(exist_ok = True)\n",
    "Raw_path = os.path.join(basedir, '*tif') #tif or TIF be careful\n",
    "axis_norm = (0,1)   # normalize channels independently\n",
    "axes = 'XY'\n",
    "filesRaw = glob.glob(Raw_path)\n",
    "filesRaw.sort"
   ]
  },
  {
   "cell_type": "code",
   "execution_count": null,
   "metadata": {},
   "outputs": [
    {
     "name": "stdout",
     "output_type": "stream",
     "text": [
      "Processing file /run/user/1000/gvfs/smb-share:server=isiserver.curie.net,share=u934/equipe_bellaiche/l_sancere/Tests_DL_Models/Test_StarWat_bin1_bin2_v2.1_v2.4/Diap1_1a_bin2/DIAP_c1_mov1a_0074.tif\n"
     ]
    }
   ],
   "source": [
    "for fname in filesRaw:\n",
    " \n",
    "    if os.path.exists((basedir_StardistWater_FijiMask + 'StarWat_FijiMask_' + os.path.basename(os.path.splitext(fname)[0]))) == False :\n",
    "        \n",
    "            # Name = os.path.basename(os.path.splitext(fname)[0])\n",
    "            x = imread(fname)\n",
    "            y = normalizeFloat(x,1,99.8, axis = axis_norm)\n",
    "            originalX = x.shape[0]\n",
    "            originalY = x.shape[1]\n",
    "        \n",
    "            #zero pad aand 8bit conversion after normalization\n",
    "            y = zero_pad(y, 32, 32)\n",
    "            print('Processing file', fname)              \n",
    "           \n",
    "            #Stardist, label image, details, probability map, distance map \n",
    "            segmentationImage, details = modelstar.predict_instances(y)\n",
    "            prob, dist = modelstar.predict(y)\n",
    "            grid = modelstar.config.grid\n",
    "            prob = cv2.resize(prob,  dsize=(prob.shape[1] * grid[1],prob.shape[0] * grid[0]))\n",
    "            \n",
    "            \n",
    "            #Seeds from Stardist + Whatershed, segmentation on probability map \n",
    "            Watershed, markers = SeedStarDistWatershed(prob,details['points'],modelstar.config.grid) \n",
    "                                                                   \n",
    "            \n",
    "            #Convert Integer image to binary\n",
    "            Binary_Watershed = Integer_to_border(Watershed[:originalX, :originalY])\n",
    "                       \n",
    "                                                       \n",
    "            #Generation of masks                             \n",
    "            HomeMadeMask = cv2.imread(fname.replace('.tif','_Mask.png'))\n",
    "            HomeMadeMask = HomeMadeMask[:,:,0]\n",
    "           \n",
    "                                                                               \n",
    "            #Create StardistWater_StardistMask and StardistWater_UnetMask with logical and operation            \n",
    "            StardistWater_FijiMask = np.logical_and(HomeMadeMask, Binary_Watershed)\n",
    "           \n",
    "        \n",
    "            #Skeletonization and deletion of non closed cells. Has to be done AFTER logical and operation \n",
    "            z = StardistWater_FijiMask \n",
    "            z = skeletonize(z) \n",
    "            z = np.float32(z)\n",
    "            z2 = z.copy()\n",
    "            mask = np.zeros((np.array(z.shape)+2), np.uint8)\n",
    "            cv2.floodFill(z, mask, (0,0), (255))\n",
    "            z = cv2.erode(z, np.ones((3,3)))\n",
    "            z = cv2.bitwise_not(z)\n",
    "            z = cv2.bitwise_and(z,z2)\n",
    "            StardistWater_FijiMask = z \n",
    "    \n",
    "            #Save different method segmentations\n",
    "            save_8bit_tiff_imagej_compatible((basedir_StardistWater_FijiMask + 'StarWat_FijiMask_' + os.path.basename(os.path.splitext(fname)[0]) ) , StardistWater_FijiMask, axes)\n"
   ]
  },
  {
   "cell_type": "code",
   "execution_count": null,
   "metadata": {},
   "outputs": [],
   "source": [
    "from PIL import Image \n",
    "import png\n",
    "\n",
    "Path(basedir_StardistWater_FijiMask_RTGPipeline).mkdir(exist_ok = True)\n",
    "\n",
    "Raw_path_2 = os.path.join(basedir_StardistWater_FijiMask, '*') #tif or TIF be careful\n",
    "axis_norm = (0,1)   # normalize channels independently\n",
    "axes = 'XY'\n",
    "filesRaw_2 = glob.glob(Raw_path_2)\n",
    "\n",
    "\n",
    "name_of_file = \"Lucas Reminder Format\"\n",
    "completeName = os.path.join(basedir_StardistWater_FijiMask_RTGPipeline, name_of_file + \".txt\")         \n",
    "file = open(completeName, \"w\")\n",
    "file.write(\"If Matlab Pipeline error appears it might be the format '8bit-color'. Can't be generated by python. Run the Pipeline from Cleaning Filter. Email Stephane for LOCALISATION in Pipeline\")\n",
    "file.close()\n",
    "\n",
    "\n",
    "    \n",
    "for fname in filesRaw_2:\n",
    "    z = imread(fname)\n",
    "    z = 255 * z\n",
    "    z = cv2.bitwise_not(z)\n",
    "    name = str(os.path.basename(os.path.splitext(fname)[0])).rstrip(\".tif\")\n",
    "    png.from_array(z, mode=\"L\").save(basedir_StardistWater_FijiMask_RTGPipeline + name.replace(\"StarWat_FijiMask_\",'seg_') + '.png') \n"
   ]
  },
  {
   "cell_type": "code",
   "execution_count": null,
   "metadata": {},
   "outputs": [],
   "source": []
  }
 ],
 "metadata": {
  "kernelspec": {
   "display_name": "Python 3",
   "language": "python",
   "name": "python3"
  },
  "language_info": {
   "codemirror_mode": {
    "name": "ipython",
    "version": 3
   },
   "file_extension": ".py",
   "mimetype": "text/x-python",
   "name": "python",
   "nbconvert_exporter": "python",
   "pygments_lexer": "ipython3",
   "version": "3.6.10"
  }
 },
 "nbformat": 4,
 "nbformat_minor": 4
}
