{
 "cells": [
  {
   "cell_type": "code",
   "execution_count": 9,
   "metadata": {},
   "outputs": [],
   "source": [
    "from __future__ import print_function, unicode_literals, absolute_import, division\n",
    "import numpy as np\n",
    "\n",
    "from tifffile import imread\n",
    "import os\n",
    "import glob\n",
    "from csbdeep.io import save_tiff_imagej_compatible"
   ]
  },
  {
   "cell_type": "code",
   "execution_count": 11,
   "metadata": {},
   "outputs": [],
   "source": [
    "basedir='/run/user/1001/gvfs/smb-share:server=isiserver.curie.net,share=u934/equipe_bellaiche/l_sancere/Training_Data_Sets/Training_CARE_projection/20200210_Borealis_Training_CARE_40x_bin2/Restored_8bit'\n",
    "\n",
    "Raw_path = os.path.join(basedir, '*TIF') #tif or TIF be careful\n",
    "filesRaw = glob.glob(Raw_path)\n",
    "axes = 'ZYX'\n",
    "\n",
    "for fname in filesRaw:\n",
    "        y = imread(fname)\n",
    "        y = y.astype('uint16')\n",
    "        # OR : y = y.astype('uint8')\n",
    "        save_tiff_imagej_compatible(('/run/user/1001/gvfs/smb-share:server=isiserver.curie.net,share=u934/equipe_bellaiche/l_sancere/Training_Data_Sets/Training_CARE_projection/20200210_Borealis_Training_CARE_40x_bin2/Restored' + '_' + os.path.basename(fname)) , y, axes)\n",
    "            \n",
    "                \n"
   ]
  },
  {
   "cell_type": "code",
   "execution_count": null,
   "metadata": {},
   "outputs": [],
   "source": []
  }
 ],
 "metadata": {
  "kernelspec": {
   "display_name": "Python 3",
   "language": "python",
   "name": "python3"
  },
  "language_info": {
   "codemirror_mode": {
    "name": "ipython",
    "version": 3
   },
   "file_extension": ".py",
   "mimetype": "text/x-python",
   "name": "python",
   "nbconvert_exporter": "python",
   "pygments_lexer": "ipython3",
   "version": "3.6.10"
  }
 },
 "nbformat": 4,
 "nbformat_minor": 4
}
