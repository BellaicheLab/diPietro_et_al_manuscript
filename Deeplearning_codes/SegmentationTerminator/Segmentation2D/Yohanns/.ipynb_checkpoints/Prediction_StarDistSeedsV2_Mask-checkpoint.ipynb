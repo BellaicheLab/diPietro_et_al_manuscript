{
 "cells": [
  {
   "cell_type": "markdown",
   "metadata": {},
   "source": [
    "## StarWat/SmartSeeds segmentation predictions using masks ##"
   ]
  },
  {
   "cell_type": "markdown",
   "metadata": {},
   "source": [
    "We will use in this notebook trained segmentation models to perform segmentation on CARE projected images. You can use other 2D images not generated thanks to CARE but the prediction results will be less good. "
   ]
  },
  {
   "cell_type": "markdown",
   "metadata": {},
   "source": [
    "In this notebook, we will need to have binary masks for each Notum images (one can use Mask_Generator Deep Neural network to generate such masks). "
   ]
  },
  {
   "cell_type": "code",
   "execution_count": 1,
   "metadata": {},
   "outputs": [
    {
     "name": "stderr",
     "output_type": "stream",
     "text": [
      "Using TensorFlow backend.\n"
     ]
    }
   ],
   "source": [
    "from __future__ import print_function, unicode_literals, absolute_import, division\n",
    "import sys\n",
    "import os\n",
    "import cv2\n",
    "\n",
    "#To run the prediction on the GPU, else comment out this line to use the CPU\n",
    "oos.environ[\"CUDA_VISIBLE_DEVICES\"]=\"0\"\n",
    "\n",
    "import csbdeep\n",
    "from csbdeep.utils.tf import limit_gpu_memory\n",
    "from skimage.filters import threshold_otsu\n",
    "import numpy as np\n",
    "import matplotlib.pyplot as plt\n",
    "get_ipython().run_line_magic('matplotlib', 'inline')\n",
    "get_ipython().run_line_magic('config', \"InlineBackend.figure_format = 'retina'\")\n",
    "from IPython.display import clear_output\n",
    "import glob\n",
    "import cv2\n",
    "from tifffile import imread\n",
    "import tqdm\n",
    "from csbdeep.utils import Path, normalize\n",
    "from stardist import random_label_cmap # ,_draw_polygons,dist_to_coord\n",
    "from stardist.models import StarDist2D\n",
    "from TerminatorUtils.helpers import normalizeFloat, OtsuThreshold2D, save_8bit_tiff_imagej_compatible, save_16bit_tiff_imagej_compatible,Integer_to_border,SeedStarDistWatershed\n",
    "from TerminatorUtils.helpers import Prob_to_Binary, zero_pad, WatershedwithoutMask\n",
    "from TerminatorUtils.helpers import save_tiff_imagej_compatible\n",
    "from csbdeep.models import Config, CARE\n",
    "np.random.seed(6)\n",
    "lbl_cmap = random_label_cmap()\n",
    "\n",
    "from skimage.morphology import remove_small_objects\n",
    "from skimage.morphology import skeletonize\n",
    "import time "
   ]
  },
  {
   "cell_type": "markdown",
   "metadata": {},
   "source": [
    "All the images we want to segment must be contained in the same folder and must be .tif files. In this folder we also need to have the corresponding masks as .png files.\n",
    "The folder must be organized like this:"
   ]
  },
  {
   "cell_type": "markdown",
   "metadata": {},
   "source": [
    "- All the raw images must be: namemovie_imagenumber.tif\n",
    "- All the masks images must be: namemovie_imagenumber_Mask.png"
   ]
  },
  {
   "cell_type": "markdown",
   "metadata": {},
   "source": [
    "We will give the path to the folder through `basedir`."
   ]
  },
  {
   "cell_type": "markdown",
   "metadata": {},
   "source": [
    "- `basedir_StardistWater_FijiMask` will be the path were segmented images will be saved,\n",
    "- `basedir_StardistWater_FijiMask_RTGPipeline` will be the path were segmented images put in the good format for Guirao Pipeline will be saved\n"
   ]
  },
  {
   "cell_type": "markdown",
   "metadata": {},
   "source": [
    "`Model_Dir` is the path where all the Segmentation trained models are stored."
   ]
  },
  {
   "cell_type": "code",
   "execution_count": 2,
   "metadata": {},
   "outputs": [],
   "source": [
    "basedir = '/run/user/1000/gvfs/smb-share:server=isiserver.curie.net,share=u934/equipe_bellaiche/a_maugarny-cales/20200928/Projected'\n",
    "\n",
    "basedir_StardistWater_FijiMask = basedir + '/StarWat/'\n",
    "basedir_StardistWater_FijiMask_RTGPipeline = basedir + '/StarWat_RTGPipeline/'\n",
    "\n",
    "Model_Dir = '/run/media/sancere/DATA/Lucas_Model_to_use/Segmentation/'    "
   ]
  },
  {
   "cell_type": "markdown",
   "metadata": {},
   "source": [
    "Here we select the model we will use for the prediction and we load it."
   ]
  },
  {
   "cell_type": "code",
   "execution_count": 3,
   "metadata": {
    "collapsed": true,
    "jupyter": {
     "outputs_hidden": true
    }
   },
   "outputs": [
    {
     "name": "stdout",
     "output_type": "stream",
     "text": [
      "Loading network weights from 'weights_best.h5'.\n",
      "Couldn't load thresholds from 'thresholds.json', using default values. (Call 'optimize_thresholds' to change that.)\n",
      "Using default values: prob_thresh=0.5, nms_thresh=0.4.\n"
     ]
    }
   ],
   "source": [
    "StardistModelName = 'DrosophilaSegmentationSmartSeedsMatureMacroElongatedLargePatchBoris_29Jan2021_Grid11_PreviousHP'\n",
    "\n",
    "modelstar = StarDist2D(config = None, name = StardistModelName, basedir = Model_Dir)"
   ]
  },
  {
   "cell_type": "markdown",
   "metadata": {},
   "source": [
    "Then we create the `basedir_StardistWater_FijiMask` foldersw ere the predictions will be stored if the folder doesn't exist yet. We then list all the files with the given file extension (* *choose extenstion*) in the `basedir` folder."
   ]
  },
  {
   "cell_type": "code",
   "execution_count": 4,
   "metadata": {},
   "outputs": [
    {
     "data": {
      "text/plain": [
       "<function list.sort>"
      ]
     },
     "execution_count": 4,
     "metadata": {},
     "output_type": "execute_result"
    }
   ],
   "source": [
    "Path(basedir_StardistWater_FijiMask).mkdir(exist_ok = True)\n",
    "Raw_path = os.path.join(basedir, '*tif') #tif or TIF be careful\n",
    "axis_norm = (0,1)   # normalize channels independently\n",
    "axes = 'XY'\n",
    "filesRaw = glob.glob(Raw_path)\n",
    "filesRaw.sort"
   ]
  },
  {
   "cell_type": "markdown",
   "metadata": {},
   "source": [
    "We finally apply the predictions on each  images found in the folder. "
   ]
  },
  {
   "cell_type": "markdown",
   "metadata": {},
   "source": [
    "The 2d line is to avoid to make a segmentation prediction on an image that was already processed by the network before."
   ]
  },
  {
   "cell_type": "markdown",
   "metadata": {},
   "source": [
    "Each predicted segmentation is multiplied by the binary image of the corresponding mask in order to remove segmentation outside the foreground. Then a whatershed is applied to remove the none closed objects at the boundaries. Finally a skeletonization on the binary image is applied to fit the Matlab analyze needs and we save the prediction."
   ]
  },
  {
   "cell_type": "code",
   "execution_count": 5,
   "metadata": {
    "collapsed": true,
    "jupyter": {
     "outputs_hidden": true
    }
   },
   "outputs": [
    {
     "name": "stdout",
     "output_type": "stream",
     "text": [
      "Processing file /run/user/1000/gvfs/smb-share:server=isiserver.curie.net,share=u934/equipe_bellaiche/l_sancere/Tests_DL_Models/Test_StarWat_bin1_bin2_v2.1_v2.4/Few_frames_wt_N10_bin1/wt_N10_0041.tif\n",
      "Processing file /run/user/1000/gvfs/smb-share:server=isiserver.curie.net,share=u934/equipe_bellaiche/l_sancere/Tests_DL_Models/Test_StarWat_bin1_bin2_v2.1_v2.4/Few_frames_wt_N10_bin1/wt_N10_0178.tif\n",
      "Processing file /run/user/1000/gvfs/smb-share:server=isiserver.curie.net,share=u934/equipe_bellaiche/l_sancere/Tests_DL_Models/Test_StarWat_bin1_bin2_v2.1_v2.4/Few_frames_wt_N10_bin1/wt_N10_0009.tif\n",
      "Processing file /run/user/1000/gvfs/smb-share:server=isiserver.curie.net,share=u934/equipe_bellaiche/l_sancere/Tests_DL_Models/Test_StarWat_bin1_bin2_v2.1_v2.4/Few_frames_wt_N10_bin1/wt_N10_0199.tif\n",
      "Processing file /run/user/1000/gvfs/smb-share:server=isiserver.curie.net,share=u934/equipe_bellaiche/l_sancere/Tests_DL_Models/Test_StarWat_bin1_bin2_v2.1_v2.4/Few_frames_wt_N10_bin1/wt_N10_0020.tif\n",
      "Processing file /run/user/1000/gvfs/smb-share:server=isiserver.curie.net,share=u934/equipe_bellaiche/l_sancere/Tests_DL_Models/Test_StarWat_bin1_bin2_v2.1_v2.4/Few_frames_wt_N10_bin1/wt_N10_0091.tif\n",
      "Processing file /run/user/1000/gvfs/smb-share:server=isiserver.curie.net,share=u934/equipe_bellaiche/l_sancere/Tests_DL_Models/Test_StarWat_bin1_bin2_v2.1_v2.4/Few_frames_wt_N10_bin1/wt_N10_0147.tif\n"
     ]
    }
   ],
   "source": [
    "for fname in filesRaw:\n",
    "    if os.path.exists((basedir_StardistWater_FijiMask + 'StarWat' + os.path.basename(os.path.splitext(fname)[0]))) == False :\n",
    "        \n",
    "        # Name = os.path.basename(os.path.splitext(fname)[0])\n",
    "        x = imread(fname)\n",
    "        y = normalizeFloat(x,1,99.8, axis = axis_norm)\n",
    "        originalX = x.shape[0]\n",
    "        originalY = x.shape[1]\n",
    "\n",
    "        #zero pad and 8bit conversion after normalization\n",
    "        y = zero_pad(y, 64, 64)\n",
    "        print('Processing file', fname)              \n",
    "\n",
    "        #Stardist, label image, details, probability map, distance map \n",
    "        segmentationImage, details = modelstar.predict_instances(y,n_tiles = (4,4))\n",
    "        prob, dist = modelstar.predict(y, n_tiles = (4,4))\n",
    "        grid = modelstar.config.grid\n",
    "        prob = cv2.resize(prob,  dsize=(prob.shape[1] * grid[1],prob.shape[0] * grid[0]))\n",
    "\n",
    "        #Seeds from Stardist + Whatershed, segmentation on probability map \n",
    "        #Old way without NMS: SeedStarDistWatershed(prob,details['points'],modelstar.config.grid) \n",
    "        Watershed, markers = WatershedwithoutMask(prob, segmentationImage.astype('uint16'), modelstar.config.grid)                                                       \n",
    "\n",
    "\n",
    "        #Generation of masks                             \n",
    "        HomeMadeMask = cv2.imread(fname.replace('.tif','_Mask.png'))\n",
    "        HomeMadeMask = HomeMadeMask[:,:,0]\n",
    "        HomeMadeMask = zero_pad(HomeMadeMask, 64, 64)\n",
    "\n",
    "\n",
    "        #Convert Integer image to binary\n",
    "        Binary_Watershed = Integer_to_border(Watershed[:originalX, :originalY])    \n",
    "        # Binary_Watershed = Integer_to_border(Watershed)\n",
    "\n",
    "        #Create StardistWater_StardistMask and StardistWater_UnetMask with logical and operation: Mask applied on Segmented image           \n",
    "        StardistWater_FijiMask = np.logical_and(HomeMadeMask[:originalX, :originalY], Binary_Watershed)\n",
    "        #StardistWater_FijiMask = np.logical_and(HomeMadeMask, Binary_Watershed)\n",
    "        \n",
    "\n",
    "        #Skeletonization and deletionprint(image.shape)  of non closed cells. Has to be done AFTER logical and operation \n",
    "        z = StardistWater_FijiMask \n",
    "        z = skeletonize(z) \n",
    "        z = np.float32(z)\n",
    "        z2 = z.copy()\n",
    "        mask = np.zeros((np.array(z.shape)+2), np.uint8)\n",
    "        cv2.floodFill(z, mask, (0,0), (255))\n",
    "        z = cv2.erode(z, np.ones((3,3)))\n",
    "        z = cv2.bitwise_not(z)\n",
    "        z = cv2.bitwise_and(z,z2)\n",
    "        StardistWater_FijiMask = z \n",
    "    \n",
    "        #Save different method segmentations\n",
    "        save_8bit_tiff_imagej_compatible((basedir_StardistWater_FijiMask + 'StarWat' + os.path.basename(os.path.splitext(fname)[0]) ) , StardistWater_FijiMask, axes)\n",
    "  "
   ]
  },
  {
   "cell_type": "markdown",
   "metadata": {},
   "source": [
    "In the last cell we convert the segmented prediction in png and change the names for them to be used directly by Guirao Pipeline. We will end up with 2 folders of predictions in different formats."
   ]
  },
  {
   "cell_type": "code",
   "execution_count": 6,
   "metadata": {},
   "outputs": [],
   "source": [
    "import png\n",
    "\n",
    "Path(basedir_StardistWater_FijiMask_RTGPipeline).mkdir(exist_ok = True)\n",
    "\n",
    "Raw_path_2 = os.path.join(basedir_StardistWater_FijiMask, '*') #tif or TIF be careful\n",
    "axis_norm = (0,1)   # normalize channels independently\n",
    "axes = 'XY'\n",
    "filesRaw_2 = glob.glob(Raw_path_2)\n",
    "   \n",
    "for fname in filesRaw_2:\n",
    "    z = imread(fname)\n",
    "    z = 255 * z\n",
    "    z = cv2.bitwise_not(z)\n",
    "    name = str(os.path.basename(os.path.splitext(fname)[0])).rstrip(\".tif\")\n",
    "    png.from_array(z, mode=\"L\").save(basedir_StardistWater_FijiMask_RTGPipeline + name.replace(\"StarWat\",'seg_') + '.png') \n"
   ]
  }
 ],
 "metadata": {
  "kernelspec": {
   "display_name": "Python 3",
   "language": "python",
   "name": "python3"
  },
  "language_info": {
   "codemirror_mode": {
    "name": "ipython",
    "version": 3
   },
   "file_extension": ".py",
   "mimetype": "text/x-python",
   "name": "python",
   "nbconvert_exporter": "python",
   "pygments_lexer": "ipython3",
   "version": "3.6.10"
  }
 },
 "nbformat": 4,
 "nbformat_minor": 4
}
