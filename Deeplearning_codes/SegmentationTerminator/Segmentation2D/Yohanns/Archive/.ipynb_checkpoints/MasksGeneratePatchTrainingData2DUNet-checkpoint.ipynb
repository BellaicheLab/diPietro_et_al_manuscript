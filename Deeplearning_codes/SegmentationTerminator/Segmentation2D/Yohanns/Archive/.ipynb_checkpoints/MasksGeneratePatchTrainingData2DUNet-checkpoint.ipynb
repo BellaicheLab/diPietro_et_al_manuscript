{
 "cells": [
  {
   "cell_type": "code",
   "execution_count": 1,
   "metadata": {},
   "outputs": [
    {
     "name": "stderr",
     "output_type": "stream",
     "text": [
      "Using TensorFlow backend.\n"
     ]
    }
   ],
   "source": [
    "from __future__ import print_function, unicode_literals, absolute_import, division\n",
    "import numpy as np\n",
    "import matplotlib.pyplot as plt\n",
    "%matplotlib inline\n",
    "%config InlineBackend.figure_format = 'retina'\n",
    "import sys\n",
    "sys.path.append('../../Terminator/')\n",
    "from glob import glob\n",
    "from tqdm import tqdm\n",
    "from tifffile import imread\n",
    "from TerminatorUtils import npzfileGenerator\n",
    "from csbdeep.utils import Path, download_and_extract_zip_file\n",
    "from csbdeep.data import  create_patches, RawData\n",
    "import os\n",
    "import glob\n",
    "from TerminatorUtils.helpers import save_8bit_tiff_imagej_compatibleZZ"
   ]
  },
  {
   "cell_type": "code",
   "execution_count": 2,
   "metadata": {},
   "outputs": [],
   "source": [
    "#Generate Patches of Training Data\n",
    "\n",
    "BaseDirectory = '/run/user/1000/gvfs/smb-share:server=isiserver.curie.net,share=u934/equipe_bellaiche/l_sancere/Training_Data_Sets/Training_StarWat/Masks_Generator/Masks_Movies_Mix2/'\n",
    "SaveNpzDirectory = '/run/media/sancere/DATA/Lucas_NextonCreated_npz/'\n",
    "SaveName = 'Masks_Generator_Mix2_onlyequalized.npz'"
   ]
  },
  {
   "cell_type": "code",
   "execution_count": 3,
   "metadata": {},
   "outputs": [
    {
     "name": "stdout",
     "output_type": "stream",
     "text": [
      "==================================================================\n",
      " 5185 raw images x    1 transformations   =  5185 images\n",
      " 5185 images     x   32 patches per image = 165920 patches in total\n",
      "==================================================================\n",
      "Input data:\n",
      "/run/user/1000/gvfs/smb-share:server=isiserver.curie.net,share=u934/equipe_bellaiche/l_sancere/Training_Data_Sets/Training_StarWat/Masks_Generator/Masks_Movies_Mix2/: target='AllMasks', sources=['AllRaws'], axes='YX', pattern='*.tif*'\n",
      "==================================================================\n",
      "Transformations:\n",
      "1 x Identity\n",
      "==================================================================\n",
      "Patch size:\n",
      "160 x 160\n",
      "==================================================================\n"
     ]
    },
    {
     "name": "stderr",
     "output_type": "stream",
     "text": [
      "100%|██████████| 5185/5185 [1:49:08<00:00,  1.26s/it]  \n"
     ]
    },
    {
     "name": "stdout",
     "output_type": "stream",
     "text": [
      "Saving data to /run/media/sancere/DATA/Lucas_NextonCreated_npz/Masks_Generator_Mix2_onlyequalized.npz.\n"
     ]
    }
   ],
   "source": [
    "# patch_size = (320,320), n_patches_per_image = 16     # for bin1\n",
    "# so try patch_size = (160,160), n_patches_per_image = 32 for bin2 \n",
    "\n",
    "npzfileGenerator.generate_2D_patch_training_data(BaseDirectory, SaveNpzDirectory, SaveName, patch_size = (160,160), n_patches_per_image = 32)  "
   ]
  }
 ],
 "metadata": {
  "kernelspec": {
   "display_name": "Python 3",
   "language": "python",
   "name": "python3"
  },
  "language_info": {
   "codemirror_mode": {
    "name": "ipython",
    "version": 3
   },
   "file_extension": ".py",
   "mimetype": "text/x-python",
   "name": "python",
   "nbconvert_exporter": "python",
   "pygments_lexer": "ipython3",
   "version": "3.6.10"
  },
  "toc": {
   "base_numbering": 1,
   "nav_menu": {},
   "number_sections": false,
   "sideBar": false,
   "skip_h1_title": false,
   "title_cell": "Table of Contents",
   "title_sidebar": "Contents",
   "toc_cell": false,
   "toc_position": {},
   "toc_section_display": false,
   "toc_window_display": false
  }
 },
 "nbformat": 4,
 "nbformat_minor": 4
}
