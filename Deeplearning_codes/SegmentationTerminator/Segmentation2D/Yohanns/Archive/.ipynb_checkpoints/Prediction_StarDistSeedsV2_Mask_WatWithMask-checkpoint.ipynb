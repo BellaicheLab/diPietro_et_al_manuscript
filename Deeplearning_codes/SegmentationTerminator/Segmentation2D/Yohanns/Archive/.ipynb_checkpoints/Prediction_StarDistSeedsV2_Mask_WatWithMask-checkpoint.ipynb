{
 "cells": [
  {
   "cell_type": "code",
   "execution_count": 1,
   "metadata": {},
   "outputs": [
    {
     "name": "stderr",
     "output_type": "stream",
     "text": [
      "Using TensorFlow backend.\n"
     ]
    }
   ],
   "source": [
    "from __future__ import print_function, unicode_literals, absolute_import, division\n",
    "import sys\n",
    "import os\n",
    "import cv2\n",
    "\n",
    "#To run the prediction on the GPU, else comment out this line to use the CPU\n",
    "os.environ[\"CUDA_VISIBLE_DEVICES\"]=\"0\"\n",
    "\n",
    "from csbdeep.utils.tf import limit_gpu_memory\n",
    "from skimage.filters import threshold_otsu\n",
    "import numpy as np\n",
    "import matplotlib.pyplot as plt\n",
    "%matplotlib inline\n",
    "%config InlineBackend.figure_format = 'retina'\n",
    "sys.path.append('../../Terminator/')\n",
    "\n",
    "from IPython.display import clear_output\n",
    "import glob\n",
    "from tifffile import imread\n",
    "import tqdm\n",
    "from csbdeep.utils import Path, normalize\n",
    "from stardist import random_label_cmap, _draw_polygons,dist_to_coord\n",
    "from stardist.models import StarDist2D\n",
    "from TerminatorUtils.helpers import normalizeFloat, OtsuThreshold2D, save_8bit_tiff_imagej_compatible, save_16bit_tiff_imagej_compatible,Integer_to_border,SeedStarDistWatershed\n",
    "from TerminatorUtils.helpers import Prob_to_Binary, zero_pad, WatershedwithMask\n",
    "from TerminatorUtils.helpers import save_tiff_imagej_compatible\n",
    "from csbdeep.models import Config, CARE\n",
    "np.random.seed(6)\n",
    "lbl_cmap = random_label_cmap()\n",
    "\n",
    "from skimage.morphology import remove_small_objects\n",
    "from skimage.morphology import skeletonize\n",
    "\n",
    "\n",
    "import time "
   ]
  },
  {
   "cell_type": "markdown",
   "metadata": {},
   "source": [
    "**Movie 1 + model importation**"
   ]
  },
  {
   "cell_type": "code",
   "execution_count": 2,
   "metadata": {},
   "outputs": [],
   "source": [
    "basedir = '/run/user/1000/gvfs/smb-share:server=isiserver.curie.net,share=u934/equipe_bellaiche/l_sancere/Tests_DL_Models/Test_StarWat_bin1_bin2_v2.1_v2.4/Few_frames_wt_N10_bin1'\n",
    "\n",
    "basedir_StardistWater_FijiMask = '/run/user/1000/gvfs/smb-share:server=isiserver.curie.net,share=u934/equipe_bellaiche/l_sancere/Tests_DL_Models/Test_StarWat_bin1_bin2_v2.1_v2.4/Few_frames_wt_N10_bin1/StarWat/'\n",
    "basedir_StardistWater_FijiMask_RTGPipeline = '/run/user/1000/gvfs/smb-share:server=isiserver.curie.net,share=u934/equipe_bellaiche/l_sancere/Tests_DL_Models/Test_StarWat_bin1_bin2_v2.1_v2.4/Few_frames_wt_N10_bin1/StarWat_RTGPipeline/'\n",
    "\n",
    "Model_Dir = '/run/media/sancere/DATA1/Lucas_Model_to_use/Segmentation/'    "
   ]
  },
  {
   "cell_type": "code",
   "execution_count": 3,
   "metadata": {},
   "outputs": [
    {
     "name": "stdout",
     "output_type": "stream",
     "text": [
      "Loading network weights from 'weights_best.h5'.\n",
      "Couldn't load thresholds from 'thresholds.json', using default values. (Call 'optimize_thresholds' to change that.)\n",
      "Using default values: prob_thresh=0.5, nms_thresh=0.4.\n"
     ]
    }
   ],
   "source": [
    "StardistModelName = 'DrosophilaSegmentationSmartSeedsMatureMacroMiniElongatedLargePatch'\n",
    "\n",
    "modelstar = StarDist2D(config = None, name = StardistModelName, basedir = Model_Dir)\n",
    "Model_is_for_Bin2 = False"
   ]
  },
  {
   "cell_type": "code",
   "execution_count": 4,
   "metadata": {},
   "outputs": [
    {
     "data": {
      "text/plain": [
       "<function list.sort>"
      ]
     },
     "execution_count": 4,
     "metadata": {},
     "output_type": "execute_result"
    }
   ],
   "source": [
    "Path(basedir_StardistWater_FijiMask).mkdir(exist_ok = True)\n",
    "Raw_path = os.path.join(basedir, '*tif') #tif or TIF be careful\n",
    "axis_norm = (0,1)   # normalize channels independently\n",
    "axes = 'XY'\n",
    "filesRaw = glob.glob(Raw_path)\n",
    "filesRaw.sort"
   ]
  },
  {
   "cell_type": "code",
   "execution_count": 5,
   "metadata": {
    "collapsed": true,
    "jupyter": {
     "outputs_hidden": true
    }
   },
   "outputs": [
    {
     "name": "stdout",
     "output_type": "stream",
     "text": [
      "Processing file /run/user/1000/gvfs/smb-share:server=isiserver.curie.net,share=u934/equipe_bellaiche/l_sancere/Tests_DL_Models/Test_StarWat_bin1_bin2_v2.1_v2.4/Few_frames_wt_N10_bin1/wt_N10_0041.tif\n",
      "Processing file /run/user/1000/gvfs/smb-share:server=isiserver.curie.net,share=u934/equipe_bellaiche/l_sancere/Tests_DL_Models/Test_StarWat_bin1_bin2_v2.1_v2.4/Few_frames_wt_N10_bin1/wt_N10_0178.tif\n",
      "Processing file /run/user/1000/gvfs/smb-share:server=isiserver.curie.net,share=u934/equipe_bellaiche/l_sancere/Tests_DL_Models/Test_StarWat_bin1_bin2_v2.1_v2.4/Few_frames_wt_N10_bin1/wt_N10_0009.tif\n",
      "Processing file /run/user/1000/gvfs/smb-share:server=isiserver.curie.net,share=u934/equipe_bellaiche/l_sancere/Tests_DL_Models/Test_StarWat_bin1_bin2_v2.1_v2.4/Few_frames_wt_N10_bin1/wt_N10_0199.tif\n",
      "Processing file /run/user/1000/gvfs/smb-share:server=isiserver.curie.net,share=u934/equipe_bellaiche/l_sancere/Tests_DL_Models/Test_StarWat_bin1_bin2_v2.1_v2.4/Few_frames_wt_N10_bin1/wt_N10_0020.tif\n",
      "Processing file /run/user/1000/gvfs/smb-share:server=isiserver.curie.net,share=u934/equipe_bellaiche/l_sancere/Tests_DL_Models/Test_StarWat_bin1_bin2_v2.1_v2.4/Few_frames_wt_N10_bin1/wt_N10_0091.tif\n",
      "Processing file /run/user/1000/gvfs/smb-share:server=isiserver.curie.net,share=u934/equipe_bellaiche/l_sancere/Tests_DL_Models/Test_StarWat_bin1_bin2_v2.1_v2.4/Few_frames_wt_N10_bin1/wt_N10_0147.tif\n"
     ]
    }
   ],
   "source": [
    "for fname in filesRaw:\n",
    " \n",
    "    if os.path.exists((basedir_StardistWater_FijiMask + 'StarWat_FijiMask_' + os.path.basename(os.path.splitext(fname)[0]))) == False :\n",
    "        \n",
    "            # Name = os.path.basename(os.path.splitext(fname)[0])\n",
    "            x = imread(fname)\n",
    "            y = normalizeFloat(x,1,99.8, axis = axis_norm)\n",
    "            originalX = x.shape[0]\n",
    "            originalY = x.shape[1]\n",
    "        \n",
    "            #zero pad aand 8bit conversion after normalization\n",
    "            y = zero_pad(y, 32, 32)\n",
    "            print('Processing file', fname)              \n",
    "           \n",
    "            #Stardist, label image, details, probability map, distance map \n",
    "            segmentationImage, details = modelstar.predict_instances(y)\n",
    "            prob, dist = modelstar.predict(y)\n",
    "            grid = modelstar.config.grid\n",
    "            prob = cv2.resize(prob,  dsize=(prob.shape[1] * grid[1],prob.shape[0] * grid[0]))\n",
    "                       \n",
    "                                                       \n",
    "            #Generation of masks    \n",
    "            #Seeds from Stardist + Whatershed, segmentation on probability map \n",
    "            HomeMadeMask = cv2.imread(fname.replace('.tif','_Mask.png'))\n",
    "            HomeMadeMask = HomeMadeMask[:,:,0]\n",
    "            HomeMadeMask = zero_pad(HomeMadeMask, 32, 32)\n",
    "            Watershed, markers = WatershedwithMask(prob, segmentationImage.astype('uint16'),HomeMadeMask, modelstar.config.grid)\n",
    "\n",
    "            \n",
    "            #Convert Integer image to binary\n",
    "            Binary_Watershed = Integer_to_border(Watershed[:originalX, :originalY])          \n",
    "            StardistWater_FijiMask = Binary_Watershed\n",
    "            \n",
    "        \n",
    "            #Skeletonization and deletionprint(image.shape)  of non closed cells. Has to be done AFTER logical and operation \n",
    "            z = StardistWater_FijiMask \n",
    "            z = skeletonize(z) \n",
    "            z = np.float32(z)\n",
    "            z2 = z.copy()\n",
    "            mask = np.zeros((np.array(z.shape)+2), np.uint8)\n",
    "            cv2.floodFill(z, mask, (0,0), (255))\n",
    "            z = cv2.erode(z, np.ones((3,3)))\n",
    "            z = cv2.bitwise_not(z)\n",
    "            z = cv2.bitwise_and(z,z2)\n",
    "            StardistWater_FijiMask = z \n",
    "    \n",
    "            #Save different method segmentations\n",
    "            save_8bit_tiff_imagej_compatible((basedir_StardistWater_FijiMask + 'StarWat_FijiMask_' + os.path.basename(os.path.splitext(fname)[0]) ) , StardistWater_FijiMask, axes)\n",
    "            #save_tiff_imagej_compatible((basedir_StardistWater_FijiMask + 'ProbMap2_' + os.path.basename(os.path.splitext(fname)[0]) ) , prob, axes)\n"
   ]
  },
  {
   "cell_type": "code",
   "execution_count": null,
   "metadata": {},
   "outputs": [],
   "source": [
    "from PIL import Image \n",
    "import png\n",
    "\n",
    "Path(basedir_StardistWater_FijiMask_RTGPipeline).mkdir(exist_ok = True)\n",
    "\n",
    "Raw_path_2 = os.path.join(basedir_StardistWater_FijiMask, '*') #tif or TIF be careful\n",
    "axis_norm = (0,1)   # normalize channels independently\n",
    "axes = 'XY'\n",
    "filesRaw_2 = glob.glob(Raw_path_2)\n",
    "   \n",
    "for fname in filesRaw_2:\n",
    "    z = imread(fname)\n",
    "    z = 255 * z\n",
    "    z = cv2.bitwise_not(z)\n",
    "    name = str(os.path.basename(os.path.splitext(fname)[0])).rstrip(\".tif\")\n",
    "    png.from_array(z, mode=\"L\").save(basedir_StardistWater_FijiMask_RTGPipeline + name.replace(\"StarWat_FijiMask_\",'seg_') + '.png') \n"
   ]
  },
  {
   "cell_type": "code",
   "execution_count": null,
   "metadata": {},
   "outputs": [],
   "source": [
    "# No need to do the translation if segmentation bin2 model used\n",
    "if Model_is_for_Bin2 == False:   \n",
    "\n",
    "    from matplotlib.pyplot import imread\n",
    "    from skimage import transform\n",
    "\n",
    "    Raw_path_3 = os.path.join(basedir_StardistWater_FijiMask_RTGPipeline, '*.png')\n",
    "    axis_norm = (0,1)   # normalize channels independently\n",
    "    axes = 'XY'\n",
    "    filesRaw_3 = glob.glob(Raw_path_3)\n",
    "\n",
    "    xshift = -1\n",
    "    yshift = 1\n",
    "\n",
    "    translation = transform.AffineTransform(translation=(yshift,xshift))\n",
    "\n",
    "    for fname in filesRaw_3:\n",
    "        img = imread(fname)\n",
    "        img_translated = transform.warp(img, translation)\n",
    "        img_translated = img_translated.astype('uint8')\n",
    "        name = str(os.path.basename(os.path.splitext(fname)[0]))\n",
    "        img_translated = 255 * img_translated\n",
    "        png.from_array(img_translated, mode=\"L\").save(basedir_StardistWater_FijiMask_RTGPipeline + '.png')\n"
   ]
  },
  {
   "cell_type": "code",
   "execution_count": null,
   "metadata": {},
   "outputs": [],
   "source": []
  }
 ],
 "metadata": {
  "kernelspec": {
   "display_name": "Python 3",
   "language": "python",
   "name": "python3"
  },
  "language_info": {
   "codemirror_mode": {
    "name": "ipython",
    "version": 3
   },
   "file_extension": ".py",
   "mimetype": "text/x-python",
   "name": "python",
   "nbconvert_exporter": "python",
   "pygments_lexer": "ipython3",
   "version": "3.6.10"
  }
 },
 "nbformat": 4,
 "nbformat_minor": 4
}
