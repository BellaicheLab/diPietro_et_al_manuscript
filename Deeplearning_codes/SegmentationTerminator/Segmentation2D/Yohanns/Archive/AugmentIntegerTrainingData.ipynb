{
 "cells": [
  {
   "cell_type": "code",
   "execution_count": null,
   "metadata": {},
   "outputs": [],
   "source": [
    "from __future__ import print_function, unicode_literals, absolute_import, division\n",
    "import numpy as np\n",
    "import matplotlib.pyplot as plt\n",
    "%matplotlib inline\n",
    "%config InlineBackend.figure_format = 'retina'\n",
    "import sys\n",
    "sys.path.append(\"../../Terminator\")\n",
    "from glob import glob\n",
    "from tqdm import tqdm\n",
    "from tifffile import imread\n",
    "from csbdeep.utils import Path, download_and_extract_zip_file\n",
    "\n",
    "from TerminatorUtils import Augmentation\n",
    "try:\n",
    "    from pathlib import Path\n",
    "    Path().expanduser()\n",
    "except (ImportError,AttributeError):\n",
    "    from pathlib2 import Path\n",
    "\n",
    "try:\n",
    "    import tempfile\n",
    "    tempfile.TemporaryDirectory\n",
    "\n",
    "except (ImportError,AttributeError):\n",
    "    from backports import tempfile"
   ]
  },
  {
   "cell_type": "code",
   "execution_count": null,
   "metadata": {},
   "outputs": [],
   "source": [
    "!set https_proxy='www-cache.curie.fr:3128'\n",
    "download_and_extract_zip_file (\n",
    "    url       = 'http://csbdeep.bioimagecomputing.com/example_data/synthetic_upsampling.zip',\n",
    "    targetdir = '/Users/aimachine/Documents/',\n",
    ")"
   ]
  },
  {
   "cell_type": "code",
   "execution_count": null,
   "metadata": {},
   "outputs": [],
   "source": [
    "#Generate Training Data\n",
    "ImageDirectory = '/Users/aimachine/Documents/TrainingOz/MorePngImages/'\n",
    "RawLabelDirectory = '/Users/aimachine/Documents/TrainingOz/MorePngMasks/'\n",
    "\n",
    "AugmentImageDirectory = '/Users/aimachine/Documents/TrainingOz/EvenMorePngImages/'\n",
    "AugmentLabelDirectory = '/Users/aimachine/Documents/TrainingOz/EvenMorePngMasks/'\n",
    "\n",
    "\n",
    "\n",
    "\n",
    "Augmentation(ImageDirectory, RawLabelDirectory, AugmentImageDirectory, AugmentLabelDirectory, 1100, 1100, putNoise = False, rotate = True, AppendName = \"More\"   )"
   ]
  },
  {
   "cell_type": "code",
   "execution_count": null,
   "metadata": {},
   "outputs": [],
   "source": []
  }
 ],
 "metadata": {
  "kernelspec": {
   "display_name": "Python 3",
   "language": "python",
   "name": "python3"
  },
  "language_info": {
   "codemirror_mode": {
    "name": "ipython",
    "version": 3
   },
   "file_extension": ".py",
   "mimetype": "text/x-python",
   "name": "python",
   "nbconvert_exporter": "python",
   "pygments_lexer": "ipython3",
   "version": "3.6.10"
  }
 },
 "nbformat": 4,
 "nbformat_minor": 4
}
